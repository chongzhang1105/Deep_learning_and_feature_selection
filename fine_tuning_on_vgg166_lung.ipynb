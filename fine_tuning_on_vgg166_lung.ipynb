{
  "nbformat": 4,
  "nbformat_minor": 0,
  "metadata": {
    "colab": {
      "name": "fine-tuning-on-vgg166_lung.ipynb",
      "version": "0.3.2",
      "provenance": [],
      "collapsed_sections": [
        "afjzwPVNJAC9",
        "YsHVQsNVJAC-",
        "xaDh9Z_DJADm",
        "mMURHESwJAE_"
      ],
      "toc_visible": true
    },
    "language_info": {
      "codemirror_mode": {
        "name": "ipython",
        "version": 3
      },
      "file_extension": ".py",
      "mimetype": "text/x-python",
      "name": "python",
      "nbconvert_exporter": "python",
      "pygments_lexer": "ipython3",
      "version": "3.7.3"
    },
    "kernelspec": {
      "name": "python3",
      "display_name": "Python 3"
    },
    "accelerator": "GPU"
  },
  "cells": [
    {
      "cell_type": "markdown",
      "metadata": {
        "id": "jGAFgU8bJACU",
        "colab_type": "text"
      },
      "source": [
        "### Building an image classification model using very little data  \n",
        "\n",
        "Based on the tutorial by Francois Chollet @fchollet https://blog.keras.io/building-powerful-image-classification-models-using-very-little-data.html and the workbook by Guillaume Dominici https://github.com/gggdominici/keras-workshop\n",
        "\n",
        "This tutorial presents several ways to build an image classifier using keras from just a few hundred or thousand pictures from each class you want to be able to recognize.\n",
        "\n",
        "We will go over the following options:  \n",
        "\n",
        "- training a small network from scratch (as a baseline)  \n",
        "- using the bottleneck features of a pre-trained network  \n",
        "- fine-tuning the top layers of a pre-trained network  \n",
        "  \n",
        "This will lead us to cover the following Keras features:   \n",
        "  \n",
        "- fit_generator for training Keras a model using Python data generators  \n",
        "- ImageDataGenerator for real-time data augmentation  \n",
        "- layer freezing and model fine-tuning  \n",
        "- ...and more.  \n"
      ]
    },
    {
      "cell_type": "markdown",
      "metadata": {
        "id": "xeHEBWR0JACW",
        "colab_type": "text"
      },
      "source": [
        "## Data"
      ]
    },
    {
      "cell_type": "markdown",
      "metadata": {
        "id": "6fMI-_hxJACW",
        "colab_type": "text"
      },
      "source": [
        "Data can be downloaded at:\n",
        "https://www.kaggle.com/c/dogs-vs-cats/data  \n",
        "All you need is the train set  \n",
        "The recommended folder structure is:  "
      ]
    },
    {
      "cell_type": "markdown",
      "metadata": {
        "id": "i8e2VN_cJACX",
        "colab_type": "text"
      },
      "source": [
        "### Folder structure"
      ]
    },
    {
      "cell_type": "markdown",
      "metadata": {
        "id": "WoRGEnDEJACY",
        "colab_type": "text"
      },
      "source": [
        "```python\n",
        "data/\n",
        "    train/\n",
        "        dogs/ ### 1024 pictures\n",
        "            dog001.jpg\n",
        "            dog002.jpg\n",
        "            ...\n",
        "        cats/ ### 1024 pictures\n",
        "            cat001.jpg\n",
        "            cat002.jpg\n",
        "            ...\n",
        "    validation/\n",
        "        dogs/ ### 416 pictures\n",
        "            dog001.jpg\n",
        "            dog002.jpg\n",
        "            ...\n",
        "        cats/ ### 416 pictures\n",
        "            cat001.jpg\n",
        "            cat002.jpg\n",
        "            ...\n",
        "```\n",
        "Note : for this example we only consider 2x1000 training images and 2x400 testing images among the 2x12500 available."
      ]
    },
    {
      "cell_type": "markdown",
      "metadata": {
        "id": "ME1aMVoLJACY",
        "colab_type": "text"
      },
      "source": [
        "The github repo includes about 1500 images for this model. The original Kaggle dataset is much larger. The purpose of this demo is to show how you can build models with smaller size datasets. You should be able to improve this model by using more data."
      ]
    },
    {
      "cell_type": "markdown",
      "metadata": {
        "id": "oevEPKhJJACZ",
        "colab_type": "text"
      },
      "source": [
        "### Data loading"
      ]
    },
    {
      "cell_type": "code",
      "metadata": {
        "id": "8Mo4VG2hJFPx",
        "colab_type": "code",
        "outputId": "6a95943d-d446-4c6f-aae9-9262ed2e6b04",
        "colab": {
          "base_uri": "https://localhost:8080/",
          "height": 122
        }
      },
      "source": [
        "from google.colab import drive\n",
        "drive.mount('/content/drive')"
      ],
      "execution_count": 4,
      "outputs": [
        {
          "output_type": "stream",
          "text": [
            "Go to this URL in a browser: https://accounts.google.com/o/oauth2/auth?client_id=947318989803-6bn6qk8qdgf4n4g3pfee6491hc0brc4i.apps.googleusercontent.com&redirect_uri=urn%3Aietf%3Awg%3Aoauth%3A2.0%3Aoob&scope=email%20https%3A%2F%2Fwww.googleapis.com%2Fauth%2Fdocs.test%20https%3A%2F%2Fwww.googleapis.com%2Fauth%2Fdrive%20https%3A%2F%2Fwww.googleapis.com%2Fauth%2Fdrive.photos.readonly%20https%3A%2F%2Fwww.googleapis.com%2Fauth%2Fpeopleapi.readonly&response_type=code\n",
            "\n",
            "Enter your authorization code:\n",
            "··········\n",
            "Mounted at /content/drive\n"
          ],
          "name": "stdout"
        }
      ]
    },
    {
      "cell_type": "code",
      "metadata": {
        "id": "GNXgd-3czMuM",
        "colab_type": "code",
        "outputId": "2ab1636a-dcd5-4912-e22c-ada60d69221b",
        "colab": {
          "base_uri": "https://localhost:8080/",
          "height": 306
        }
      },
      "source": [
        "!nvidia-smi"
      ],
      "execution_count": 0,
      "outputs": [
        {
          "output_type": "stream",
          "text": [
            "Mon May 20 19:52:12 2019       \n",
            "+-----------------------------------------------------------------------------+\n",
            "| NVIDIA-SMI 418.67       Driver Version: 410.79       CUDA Version: 10.0     |\n",
            "|-------------------------------+----------------------+----------------------+\n",
            "| GPU  Name        Persistence-M| Bus-Id        Disp.A | Volatile Uncorr. ECC |\n",
            "| Fan  Temp  Perf  Pwr:Usage/Cap|         Memory-Usage | GPU-Util  Compute M. |\n",
            "|===============================+======================+======================|\n",
            "|   0  Tesla T4            Off  | 00000000:00:04.0 Off |                    0 |\n",
            "| N/A   68C    P8    17W /  70W |      0MiB / 15079MiB |      0%      Default |\n",
            "+-------------------------------+----------------------+----------------------+\n",
            "                                                                               \n",
            "+-----------------------------------------------------------------------------+\n",
            "| Processes:                                                       GPU Memory |\n",
            "|  GPU       PID   Type   Process name                             Usage      |\n",
            "|=============================================================================|\n",
            "|  No running processes found                                                 |\n",
            "+-----------------------------------------------------------------------------+\n"
          ],
          "name": "stdout"
        }
      ]
    },
    {
      "cell_type": "code",
      "metadata": {
        "id": "8ur6oZQb0GWx",
        "colab_type": "code",
        "outputId": "3be27d73-044e-4398-e82a-df50adbb43e3",
        "colab": {
          "base_uri": "https://localhost:8080/",
          "height": 476
        }
      },
      "source": [
        "from tensorflow.python.client import device_lib\n",
        "\n",
        "device_lib.list_local_devices()"
      ],
      "execution_count": 0,
      "outputs": [
        {
          "output_type": "execute_result",
          "data": {
            "text/plain": [
              "[name: \"/device:CPU:0\"\n",
              " device_type: \"CPU\"\n",
              " memory_limit: 268435456\n",
              " locality {\n",
              " }\n",
              " incarnation: 11925368468887995304, name: \"/device:XLA_CPU:0\"\n",
              " device_type: \"XLA_CPU\"\n",
              " memory_limit: 17179869184\n",
              " locality {\n",
              " }\n",
              " incarnation: 16238337610764221340\n",
              " physical_device_desc: \"device: XLA_CPU device\", name: \"/device:XLA_GPU:0\"\n",
              " device_type: \"XLA_GPU\"\n",
              " memory_limit: 17179869184\n",
              " locality {\n",
              " }\n",
              " incarnation: 16664474100595696373\n",
              " physical_device_desc: \"device: XLA_GPU device\", name: \"/device:GPU:0\"\n",
              " device_type: \"GPU\"\n",
              " memory_limit: 14800692839\n",
              " locality {\n",
              "   bus_id: 1\n",
              "   links {\n",
              "   }\n",
              " }\n",
              " incarnation: 8255418864457878577\n",
              " physical_device_desc: \"device: 0, name: Tesla T4, pci bus id: 0000:00:04.0, compute capability: 7.5\"]"
            ]
          },
          "metadata": {
            "tags": []
          },
          "execution_count": 3
        }
      ]
    },
    {
      "cell_type": "code",
      "metadata": {
        "id": "O8IKDTHHJACf",
        "colab_type": "code",
        "outputId": "b5155efd-8d41-4591-9945-e18dfe3cd3dc",
        "colab": {
          "base_uri": "https://localhost:8080/",
          "height": 34
        }
      },
      "source": [
        "##Updated to Keras 2.0\n",
        "import os\n",
        "import numpy as np\n",
        "import keras\n",
        "from keras.models import Sequential\n",
        "from keras.layers import Activation, Dropout, Flatten, Dense\n",
        "from keras.preprocessing.image import ImageDataGenerator\n",
        "from keras.layers import Convolution2D, MaxPooling2D, ZeroPadding2D\n",
        "from keras import optimizers\n",
        "from keras import applications\n",
        "from keras.models import Model\n",
        "from IPython.display import Image\n",
        "from keras.preprocessing.image import ImageDataGenerator, array_to_img, img_to_array, load_img"
      ],
      "execution_count": 7,
      "outputs": [
        {
          "output_type": "stream",
          "text": [
            "Using TensorFlow backend.\n"
          ],
          "name": "stderr"
        }
      ]
    },
    {
      "cell_type": "code",
      "metadata": {
        "id": "BEoG6ng1PSaZ",
        "colab_type": "code",
        "colab": {}
      },
      "source": [
        ""
      ],
      "execution_count": 0,
      "outputs": []
    },
    {
      "cell_type": "markdown",
      "metadata": {
        "id": "iR5qZknrJACm",
        "colab_type": "text"
      },
      "source": [
        "### Data Loading"
      ]
    },
    {
      "cell_type": "code",
      "metadata": {
        "id": "SL9VPww2JACn",
        "colab_type": "code",
        "colab": {}
      },
      "source": [
        "img_width, img_height = 128, 128\n",
        "batch_size = 50"
      ],
      "execution_count": 0,
      "outputs": []
    },
    {
      "cell_type": "code",
      "metadata": {
        "id": "PjgpMAcHQgdX",
        "colab_type": "code",
        "colab": {}
      },
      "source": [
        "train_array=np.load('/content/drive/My Drive/gpu/3direction_array_intrain.npy',allow_pickle=True)\n",
        "inval_array=np.load('/content/drive/My Drive/gpu/3direction_array_inval.npy',allow_pickle=True)\n",
        "val_array=np.load('/content/drive/My Drive/gpu/3direction_array_val.npy',allow_pickle=True)\n"
      ],
      "execution_count": 0,
      "outputs": []
    },
    {
      "cell_type": "code",
      "metadata": {
        "id": "oDK2fJVDpXf8",
        "colab_type": "code",
        "outputId": "0d5bfa1e-d995-4ab3-a71c-af4e3c083f54",
        "colab": {
          "base_uri": "https://localhost:8080/",
          "height": 34
        }
      },
      "source": [
        "train_array.shape"
      ],
      "execution_count": 0,
      "outputs": [
        {
          "output_type": "execute_result",
          "data": {
            "text/plain": [
              "(35569, 3)"
            ]
          },
          "metadata": {
            "tags": []
          },
          "execution_count": 4
        }
      ]
    },
    {
      "cell_type": "markdown",
      "metadata": {
        "id": "1ry-CFTw12_L",
        "colab_type": "text"
      },
      "source": [
        "###train data processing**"
      ]
    },
    {
      "cell_type": "code",
      "metadata": {
        "id": "nOUBno2Ci0fK",
        "colab_type": "code",
        "colab": {}
      },
      "source": [
        "train_data=np.array([i[2] for i in train_array])\n",
        "train_label=np.array([i[1] for i in train_array])\n",
        "train_id=np.array([i[0] for i in train_array])\n",
        "train_data = train_data.reshape(-1, 128,128, 1)\n",
        "train_data=train_data.astype('float32')\n",
        "train_data = train_data / np.max(train_data)"
      ],
      "execution_count": 0,
      "outputs": []
    },
    {
      "cell_type": "code",
      "metadata": {
        "id": "tp7RmrCl0agY",
        "colab_type": "code",
        "colab": {}
      },
      "source": [
        "train_id_unique=np.unique(train_id)\n",
        "train_id_label=np.array(list(zip(train_id,train_label)))\n",
        "train_unique_labels=[]\n",
        "for i in range(len(train_id_unique)):\n",
        "  ID=train_id_unique[i]\n",
        "  index=(train_id_label[:,0]==ID)\n",
        "  label=int(np.unique(train_id_label[index][:,1])[0])\n",
        "  train_unique_labels.append(label)"
      ],
      "execution_count": 0,
      "outputs": []
    },
    {
      "cell_type": "markdown",
      "metadata": {
        "id": "C2_P2s6H167N",
        "colab_type": "text"
      },
      "source": [
        "###inval data processing**"
      ]
    },
    {
      "cell_type": "code",
      "metadata": {
        "id": "JaP7Glvgp3GZ",
        "colab_type": "code",
        "colab": {}
      },
      "source": [
        "inval_data=np.array([i[2] for i in inval_array])\n",
        "inval_label=np.array([i[1] for i in inval_array])\n",
        "inval_id=np.array([i[0] for i in inval_array])\n",
        "inval_data = inval_data.reshape(-1, 128,128, 1)\n",
        "inval_data=inval_data.astype('float32')\n",
        "inval_data = inval_data / np.max(inval_data)"
      ],
      "execution_count": 0,
      "outputs": []
    },
    {
      "cell_type": "code",
      "metadata": {
        "id": "PjC3A9_I2J2t",
        "colab_type": "code",
        "colab": {}
      },
      "source": [
        "inval_id_unique=np.unique(inval_id)\n",
        "inval_id_label=np.array(list(zip(inval_id,inval_label)))\n",
        "inval_unique_labels=[]\n",
        "for i in range(len(inval_id_unique)):\n",
        "  ID=inval_id_unique[i]\n",
        "  index=(inval_id_label[:,0]==ID)\n",
        "  label=int(np.unique(inval_id_label[index][:,1])[0])\n",
        "  inval_unique_labels.append(label)"
      ],
      "execution_count": 0,
      "outputs": []
    },
    {
      "cell_type": "markdown",
      "metadata": {
        "id": "daCuxr2l2b6V",
        "colab_type": "text"
      },
      "source": [
        "## val data processing"
      ]
    },
    {
      "cell_type": "code",
      "metadata": {
        "id": "Nb1ACg3iqSBa",
        "colab_type": "code",
        "colab": {}
      },
      "source": [
        "val_data=np.array([i[2] for i in val_array])\n",
        "val_label=np.array([i[1] for i in val_array])\n",
        "val_id=np.array([i[0] for i in val_array])\n",
        "val_data = val_data.reshape(-1, 128,128, 1)\n",
        "val_data=val_data.astype('float32')\n",
        "val_data = val_data / np.max(val_data)"
      ],
      "execution_count": 0,
      "outputs": []
    },
    {
      "cell_type": "code",
      "metadata": {
        "id": "hDCryNg00cG6",
        "colab_type": "code",
        "colab": {}
      },
      "source": [
        "val_id_unique=np.unique(val_id)\n",
        "val_id_label=np.array(list(zip(val_id,val_label)))\n",
        "val_unique_labels=[]\n",
        "for i in range(len(val_id_unique)):\n",
        "  ID=val_id_unique[i]\n",
        "  index=(val_id_label[:,0]==ID)\n",
        "  label=int(np.unique(val_id_label[index][:,1])[0])\n",
        "  val_unique_labels.append(label)"
      ],
      "execution_count": 0,
      "outputs": []
    },
    {
      "cell_type": "code",
      "metadata": {
        "id": "RN9KWoYeztw2",
        "colab_type": "code",
        "colab": {}
      },
      "source": [
        "from keras.utils import to_categorical\n",
        "train_label1=to_categorical(train_label,2)\n",
        "inval_label1=to_categorical(inval_label,2)\n",
        "val_label1=to_categorical(val_label,2)"
      ],
      "execution_count": 0,
      "outputs": []
    },
    {
      "cell_type": "code",
      "metadata": {
        "id": "qUp_eyQiuUWW",
        "colab_type": "code",
        "colab": {}
      },
      "source": [
        "# for i in range(len(all_id_unique)):\n",
        "#   ID=all_id_unique[i]\n",
        "#   index=(id_prediction[:,0]==ID)\n",
        "#   prediction=list(id_prediction[index][:,1])\n",
        "#   if prediction.count('1')>=prediction.count('0'):\n",
        "#     final_pre=1\n",
        "#   else:\n",
        "#     final_pre=0\n",
        "#   unique_predictions.append(final_pre)\n",
        "#   mix=[[ID],prediction]\n",
        "#   combine_data.append(mix)"
      ],
      "execution_count": 0,
      "outputs": []
    },
    {
      "cell_type": "code",
      "metadata": {
        "id": "6lBEEbVoxnyj",
        "colab_type": "code",
        "colab": {}
      },
      "source": [
        "# test_id_label=np.array(list(zip(test_id,test_label)))\n",
        "# test_id_unique=np.unique(test_id)\n",
        "# test_unique_labels=[]\n",
        "# for i in range(len(test_id_unique)):\n",
        "#   ID=test_id_unique[i]\n",
        "#   index=(test_id_label[:,0]==ID)\n",
        "#   label=int(np.unique((test_id_label[index][:,1])))\n",
        "#   print(ID)\n",
        "# #   test_unique_labels.append(label)"
      ],
      "execution_count": 0,
      "outputs": []
    },
    {
      "cell_type": "code",
      "metadata": {
        "id": "Ij9Ns_DIV8-2",
        "colab_type": "code",
        "colab": {}
      },
      "source": [
        ""
      ],
      "execution_count": 0,
      "outputs": []
    },
    {
      "cell_type": "markdown",
      "metadata": {
        "id": "3RId8Kj0JACp",
        "colab_type": "text"
      },
      "source": [
        "### Imports"
      ]
    },
    {
      "cell_type": "code",
      "metadata": {
        "id": "byyKLMF0JACq",
        "colab_type": "code",
        "outputId": "b1ba6dae-80a7-42bb-fc58-e50540084c32",
        "colab": {
          "base_uri": "https://localhost:8080/",
          "height": 51
        }
      },
      "source": [
        "##preprocessing\n",
        "# used to rescale the pixel values from [0, 255] to [0, 1] interval\n",
        "datagen = ImageDataGenerator(rescale=1./255)\n",
        "batch_size = 8\n",
        "\n",
        "# automagically retrieve images and their classes for train and validation sets\n",
        "train_generator = datagen.flow_from_directory(\n",
        "        train_data_dir,\n",
        "        color_mode='grayscale',\n",
        "        target_size=(img_width, img_height),\n",
        "        batch_size=batch_size,\n",
        "        class_mode='binary',\n",
        "        shuffle=False)\n",
        "\n",
        "validation_generator = datagen.flow_from_directory(\n",
        "        validation_data_dir,\n",
        "        color_mode='grayscale',\n",
        "        target_size=(img_width, img_height),\n",
        "        batch_size=batch_size,\n",
        "        class_mode='binary',\n",
        "        shuffle=False)"
      ],
      "execution_count": 0,
      "outputs": [
        {
          "output_type": "stream",
          "text": [
            "Found 5502 images belonging to 2 classes.\n",
            "Found 1835 images belonging to 2 classes.\n"
          ],
          "name": "stdout"
        }
      ]
    },
    {
      "cell_type": "markdown",
      "metadata": {
        "id": "ux6g0OdbJACt",
        "colab_type": "text"
      },
      "source": [
        "## Small Conv Net"
      ]
    },
    {
      "cell_type": "markdown",
      "metadata": {
        "id": "JwdVcAOaJACu",
        "colab_type": "text"
      },
      "source": [
        "### Model architecture definition"
      ]
    },
    {
      "cell_type": "code",
      "metadata": {
        "id": "Sn_qcVR1JACv",
        "colab_type": "code",
        "outputId": "3d8de061-d307-484a-d82e-017799657c54",
        "colab": {
          "base_uri": "https://localhost:8080/",
          "height": 139
        }
      },
      "source": [
        "# a simple stack of 3 convolution layers with a ReLU activation and followed by max-pooling layers.\n",
        "model = Sequential()\n",
        "model.add(Convolution2D(32, (3, 3), input_shape=(img_width, img_height,1)))\n",
        "model.add(Activation('relu'))\n",
        "model.add(Dropout(0.2))\n",
        "model.add(MaxPooling2D(pool_size=(2, 2)))\n",
        "\n",
        "model.add(Convolution2D(32, (3, 3)))\n",
        "model.add(Activation('relu'))\n",
        "model.add(Dropout(0.2))\n",
        "model.add(MaxPooling2D(pool_size=(2, 2)))\n",
        "\n",
        "model.add(Convolution2D(64, (3, 3)))\n",
        "model.add(Activation('relu'))\n",
        "model.add(Dropout(0.2))\n",
        "model.add(MaxPooling2D(pool_size=(2, 2)))\n",
        "\n",
        "model.add(Flatten())\n",
        "model.add(Dense(64))\n",
        "model.add(Activation('relu'))\n",
        "model.add(Dropout(0.5))\n",
        "model.add(Dense(2))\n",
        "model.add(Activation('softmax'))"
      ],
      "execution_count": 17,
      "outputs": [
        {
          "output_type": "stream",
          "text": [
            "WARNING:tensorflow:From /usr/local/lib/python3.6/dist-packages/tensorflow/python/framework/op_def_library.py:263: colocate_with (from tensorflow.python.framework.ops) is deprecated and will be removed in a future version.\n",
            "Instructions for updating:\n",
            "Colocations handled automatically by placer.\n",
            "WARNING:tensorflow:From /usr/local/lib/python3.6/dist-packages/keras/backend/tensorflow_backend.py:3445: calling dropout (from tensorflow.python.ops.nn_ops) with keep_prob is deprecated and will be removed in a future version.\n",
            "Instructions for updating:\n",
            "Please use `rate` instead of `keep_prob`. Rate should be set to `rate = 1 - keep_prob`.\n"
          ],
          "name": "stdout"
        }
      ]
    },
    {
      "cell_type": "code",
      "metadata": {
        "id": "CM7BI8MAty0F",
        "colab_type": "code",
        "colab": {}
      },
      "source": [
        "from keras.layers.normalization import BatchNormalization\n",
        "model = Sequential()\n",
        "model.add(Convolution2D(32, (3, 3), input_shape=(img_width, img_height,1)))\n",
        "model.add(BatchNormalization())\n",
        "model.add(Activation('relu'))\n",
        "\n",
        "model.add(MaxPooling2D(pool_size=(2, 2)))\n",
        "\n",
        "model.add(Convolution2D(32, (3, 3)))\n",
        "model.add(BatchNormalization())\n",
        "model.add(Activation('relu'))\n",
        "\n",
        "model.add(MaxPooling2D(pool_size=(2, 2)))\n",
        "\n",
        "model.add(Convolution2D(64, (3, 3)))\n",
        "model.add(BatchNormalization())\n",
        "model.add(Activation('relu'))\n",
        "\n",
        "model.add(MaxPooling2D(pool_size=(2, 2)))\n",
        "\n",
        "model.add(Flatten())\n",
        "model.add(Dense(64))\n",
        "model.add(Activation('relu'))\n",
        "model.add(Dropout(0.5))\n",
        "model.add(Dense(2))\n",
        "model.add(Activation('softmax'))"
      ],
      "execution_count": 0,
      "outputs": []
    },
    {
      "cell_type": "code",
      "metadata": {
        "id": "qKCuS7GL9BRc",
        "colab_type": "code",
        "outputId": "f9a7ae62-1adc-4a9d-8854-844e2e1d9d4f",
        "colab": {
          "base_uri": "https://localhost:8080/",
          "height": 343
        }
      },
      "source": [
        "model = Sequential()\n",
        "model.add(ZeroPadding2D((1,1),input_shape=(128,128,1)))\n",
        "model.add(Convolution2D(64, 3, 3, activation='relu'))\n",
        "model.add(ZeroPadding2D((1,1)))\n",
        "model.add(Convolution2D(64, 3, 3, activation='relu'))\n",
        "model.add(MaxPooling2D((2,2), strides=(2,2)))\n",
        "\n",
        "model.add(ZeroPadding2D((1,1)))\n",
        "model.add(Convolution2D(128, 3, 3, activation='relu'))\n",
        "model.add(ZeroPadding2D((1,1)))\n",
        "model.add(Convolution2D(128, 3, 3, activation='relu'))\n",
        "model.add(MaxPooling2D((2,2), strides=(2,2)))\n",
        "\n",
        "model.add(ZeroPadding2D((1,1)))\n",
        "model.add(Convolution2D(256, 3, 3, activation='relu'))\n",
        "model.add(ZeroPadding2D((1,1)))\n",
        "model.add(Convolution2D(256, 3, 3, activation='relu'))\n",
        "model.add(ZeroPadding2D((1,1)))\n",
        "model.add(Convolution2D(256, 3, 3, activation='relu'))\n",
        "model.add(MaxPooling2D((2,2), strides=(2,2)))\n",
        "\n",
        "model.add(ZeroPadding2D((1,1)))\n",
        "model.add(Convolution2D(512, 3, 3, activation='relu'))\n",
        "model.add(ZeroPadding2D((1,1)))\n",
        "model.add(Convolution2D(512, 3, 3, activation='relu'))\n",
        "model.add(ZeroPadding2D((1,1)))\n",
        "model.add(Convolution2D(512, 3, 3, activation='relu'))\n",
        "model.add(MaxPooling2D((2,2), strides=(2,2)))\n",
        "\n",
        "model.add(ZeroPadding2D((1,1)))\n",
        "model.add(Convolution2D(512, 3, 3, activation='relu'))\n",
        "model.add(ZeroPadding2D((1,1)))\n",
        "model.add(Convolution2D(512, 3, 3, activation='relu'))\n",
        "model.add(ZeroPadding2D((1,1)))\n",
        "model.add(Convolution2D(512, 3, 3, activation='relu'))\n",
        "model.add(MaxPooling2D((2,2), strides=(2,2)))"
      ],
      "execution_count": 0,
      "outputs": [
        {
          "output_type": "stream",
          "text": [
            "/usr/local/lib/python3.6/dist-packages/ipykernel_launcher.py:3: UserWarning: Update your `Conv2D` call to the Keras 2 API: `Conv2D(64, (3, 3), activation=\"relu\")`\n",
            "  This is separate from the ipykernel package so we can avoid doing imports until\n",
            "/usr/local/lib/python3.6/dist-packages/ipykernel_launcher.py:5: UserWarning: Update your `Conv2D` call to the Keras 2 API: `Conv2D(64, (3, 3), activation=\"relu\")`\n",
            "  \"\"\"\n",
            "/usr/local/lib/python3.6/dist-packages/ipykernel_launcher.py:9: UserWarning: Update your `Conv2D` call to the Keras 2 API: `Conv2D(128, (3, 3), activation=\"relu\")`\n",
            "  if __name__ == '__main__':\n",
            "/usr/local/lib/python3.6/dist-packages/ipykernel_launcher.py:11: UserWarning: Update your `Conv2D` call to the Keras 2 API: `Conv2D(128, (3, 3), activation=\"relu\")`\n",
            "  # This is added back by InteractiveShellApp.init_path()\n",
            "/usr/local/lib/python3.6/dist-packages/ipykernel_launcher.py:15: UserWarning: Update your `Conv2D` call to the Keras 2 API: `Conv2D(256, (3, 3), activation=\"relu\")`\n",
            "  from ipykernel import kernelapp as app\n",
            "/usr/local/lib/python3.6/dist-packages/ipykernel_launcher.py:17: UserWarning: Update your `Conv2D` call to the Keras 2 API: `Conv2D(256, (3, 3), activation=\"relu\")`\n",
            "/usr/local/lib/python3.6/dist-packages/ipykernel_launcher.py:19: UserWarning: Update your `Conv2D` call to the Keras 2 API: `Conv2D(256, (3, 3), activation=\"relu\")`\n",
            "/usr/local/lib/python3.6/dist-packages/ipykernel_launcher.py:23: UserWarning: Update your `Conv2D` call to the Keras 2 API: `Conv2D(512, (3, 3), activation=\"relu\")`\n",
            "/usr/local/lib/python3.6/dist-packages/ipykernel_launcher.py:25: UserWarning: Update your `Conv2D` call to the Keras 2 API: `Conv2D(512, (3, 3), activation=\"relu\")`\n",
            "/usr/local/lib/python3.6/dist-packages/ipykernel_launcher.py:27: UserWarning: Update your `Conv2D` call to the Keras 2 API: `Conv2D(512, (3, 3), activation=\"relu\")`\n",
            "/usr/local/lib/python3.6/dist-packages/ipykernel_launcher.py:31: UserWarning: Update your `Conv2D` call to the Keras 2 API: `Conv2D(512, (3, 3), activation=\"relu\")`\n",
            "/usr/local/lib/python3.6/dist-packages/ipykernel_launcher.py:33: UserWarning: Update your `Conv2D` call to the Keras 2 API: `Conv2D(512, (3, 3), activation=\"relu\")`\n",
            "/usr/local/lib/python3.6/dist-packages/ipykernel_launcher.py:35: UserWarning: Update your `Conv2D` call to the Keras 2 API: `Conv2D(512, (3, 3), activation=\"relu\")`\n"
          ],
          "name": "stderr"
        }
      ]
    },
    {
      "cell_type": "code",
      "metadata": {
        "id": "yuWPKrSCZTyv",
        "colab_type": "code",
        "outputId": "cf0f717f-c8f8-446f-ced0-3cbde427db27",
        "colab": {
          "base_uri": "https://localhost:8080/",
          "height": 748
        }
      },
      "source": [
        "model.summary()"
      ],
      "execution_count": 0,
      "outputs": [
        {
          "output_type": "stream",
          "text": [
            "_________________________________________________________________\n",
            "Layer (type)                 Output Shape              Param #   \n",
            "=================================================================\n",
            "conv2d_11 (Conv2D)           (None, 126, 126, 32)      320       \n",
            "_________________________________________________________________\n",
            "batch_normalization_2 (Batch (None, 126, 126, 32)      128       \n",
            "_________________________________________________________________\n",
            "activation_16 (Activation)   (None, 126, 126, 32)      0         \n",
            "_________________________________________________________________\n",
            "max_pooling2d_10 (MaxPooling (None, 63, 63, 32)        0         \n",
            "_________________________________________________________________\n",
            "conv2d_12 (Conv2D)           (None, 61, 61, 32)        9248      \n",
            "_________________________________________________________________\n",
            "batch_normalization_3 (Batch (None, 61, 61, 32)        128       \n",
            "_________________________________________________________________\n",
            "activation_17 (Activation)   (None, 61, 61, 32)        0         \n",
            "_________________________________________________________________\n",
            "max_pooling2d_11 (MaxPooling (None, 30, 30, 32)        0         \n",
            "_________________________________________________________________\n",
            "conv2d_13 (Conv2D)           (None, 28, 28, 64)        18496     \n",
            "_________________________________________________________________\n",
            "batch_normalization_4 (Batch (None, 28, 28, 64)        256       \n",
            "_________________________________________________________________\n",
            "activation_18 (Activation)   (None, 28, 28, 64)        0         \n",
            "_________________________________________________________________\n",
            "max_pooling2d_12 (MaxPooling (None, 14, 14, 64)        0         \n",
            "_________________________________________________________________\n",
            "flatten_4 (Flatten)          (None, 12544)             0         \n",
            "_________________________________________________________________\n",
            "dense_7 (Dense)              (None, 64)                802880    \n",
            "_________________________________________________________________\n",
            "activation_19 (Activation)   (None, 64)                0         \n",
            "_________________________________________________________________\n",
            "dropout_7 (Dropout)          (None, 64)                0         \n",
            "_________________________________________________________________\n",
            "dense_8 (Dense)              (None, 2)                 130       \n",
            "_________________________________________________________________\n",
            "activation_20 (Activation)   (None, 2)                 0         \n",
            "=================================================================\n",
            "Total params: 831,586\n",
            "Trainable params: 831,330\n",
            "Non-trainable params: 256\n",
            "_________________________________________________________________\n"
          ],
          "name": "stdout"
        }
      ]
    },
    {
      "cell_type": "code",
      "metadata": {
        "id": "hu9mxjAsMoDj",
        "colab_type": "code",
        "outputId": "f550d97f-82bd-4828-cf8b-fa3d4670c0cc",
        "colab": {
          "base_uri": "https://localhost:8080/",
          "height": 34
        }
      },
      "source": [
        "model.layers[0].input"
      ],
      "execution_count": 0,
      "outputs": [
        {
          "output_type": "execute_result",
          "data": {
            "text/plain": [
              "<tf.Tensor 'conv2d_1_input:0' shape=(?, 128, 128, 1) dtype=float32>"
            ]
          },
          "metadata": {
            "tags": []
          },
          "execution_count": 7
        }
      ]
    },
    {
      "cell_type": "code",
      "metadata": {
        "id": "-gVBCjUqJACx",
        "colab_type": "code",
        "colab": {}
      },
      "source": [
        "from keras import optimizers\n",
        "sgd=optimizers.SGD(lr=0.01, decay=1e-6, momentum=0.9, nesterov=True)\n",
        "model.compile(loss='binary_crossentropy',\n",
        "              optimizer=sgd,\n",
        "              metrics=['accuracy'])"
      ],
      "execution_count": 0,
      "outputs": []
    },
    {
      "cell_type": "markdown",
      "metadata": {
        "id": "pIZBpUHjJACy",
        "colab_type": "text"
      },
      "source": [
        "### Training"
      ]
    },
    {
      "cell_type": "code",
      "metadata": {
        "id": "hPKVqt229AtP",
        "colab_type": "code",
        "colab": {}
      },
      "source": [
        ""
      ],
      "execution_count": 0,
      "outputs": []
    },
    {
      "cell_type": "code",
      "metadata": {
        "id": "J_gyMUj2JACz",
        "colab_type": "code",
        "colab": {}
      },
      "source": [
        "epochs = 300\n",
        "batch_size=50\n",
        "train_samples = 4924\n",
        "validation_samples = 1231\n",
        "stop=keras.callbacks.EarlyStopping(monitor='val_loss',patience=50,mode='min', verbose=1)"
      ],
      "execution_count": 0,
      "outputs": []
    },
    {
      "cell_type": "code",
      "metadata": {
        "id": "Xhaae_vbXsVC",
        "colab_type": "code",
        "outputId": "9735616e-b0f5-468c-8841-88a12ee38227",
        "colab": {
          "base_uri": "https://localhost:8080/",
          "height": 1805
        }
      },
      "source": [
        "history=model.fit(train_data,train_label1,validation_data=(inval_data,inval_label1),callbacks=[stop],epochs=50,verbose=1)"
      ],
      "execution_count": 20,
      "outputs": [
        {
          "output_type": "stream",
          "text": [
            "WARNING:tensorflow:From /usr/local/lib/python3.6/dist-packages/tensorflow/python/ops/math_ops.py:3066: to_int32 (from tensorflow.python.ops.math_ops) is deprecated and will be removed in a future version.\n",
            "Instructions for updating:\n",
            "Use tf.cast instead.\n",
            "Train on 35569 samples, validate on 7861 samples\n",
            "Epoch 1/50\n",
            "35569/35569 [==============================] - 35s 988us/step - loss: 0.6392 - acc: 0.6569 - val_loss: 0.6507 - val_acc: 0.6442\n",
            "Epoch 2/50\n",
            "35569/35569 [==============================] - 31s 883us/step - loss: 0.6233 - acc: 0.6611 - val_loss: 0.6500 - val_acc: 0.6432\n",
            "Epoch 3/50\n",
            "35569/35569 [==============================] - 31s 875us/step - loss: 0.5817 - acc: 0.6907 - val_loss: 0.6561 - val_acc: 0.6371\n",
            "Epoch 4/50\n",
            "35569/35569 [==============================] - 31s 885us/step - loss: 0.5208 - acc: 0.7395 - val_loss: 0.6450 - val_acc: 0.6270\n",
            "Epoch 5/50\n",
            "35569/35569 [==============================] - 31s 876us/step - loss: 0.4507 - acc: 0.7837 - val_loss: 0.6630 - val_acc: 0.6266\n",
            "Epoch 6/50\n",
            "35569/35569 [==============================] - 31s 876us/step - loss: 0.3908 - acc: 0.8177 - val_loss: 0.7045 - val_acc: 0.6124\n",
            "Epoch 7/50\n",
            "35569/35569 [==============================] - 31s 884us/step - loss: 0.3420 - acc: 0.8431 - val_loss: 0.7350 - val_acc: 0.6181\n",
            "Epoch 8/50\n",
            "35569/35569 [==============================] - 31s 880us/step - loss: 0.3086 - acc: 0.8601 - val_loss: 0.7372 - val_acc: 0.6132\n",
            "Epoch 9/50\n",
            "35569/35569 [==============================] - 32s 886us/step - loss: 0.2770 - acc: 0.8776 - val_loss: 0.7472 - val_acc: 0.6175\n",
            "Epoch 10/50\n",
            "35569/35569 [==============================] - 31s 874us/step - loss: 0.2530 - acc: 0.8862 - val_loss: 0.8073 - val_acc: 0.6011\n",
            "Epoch 11/50\n",
            "35569/35569 [==============================] - 31s 872us/step - loss: 0.2334 - acc: 0.8954 - val_loss: 0.8986 - val_acc: 0.6144\n",
            "Epoch 12/50\n",
            "35569/35569 [==============================] - 31s 881us/step - loss: 0.2151 - acc: 0.9058 - val_loss: 0.8481 - val_acc: 0.6109\n",
            "Epoch 13/50\n",
            "35569/35569 [==============================] - 31s 875us/step - loss: 0.1964 - acc: 0.9140 - val_loss: 0.9107 - val_acc: 0.6129\n",
            "Epoch 14/50\n",
            "35569/35569 [==============================] - 32s 891us/step - loss: 0.1926 - acc: 0.9158 - val_loss: 0.9104 - val_acc: 0.6091\n",
            "Epoch 15/50\n",
            "35569/35569 [==============================] - 31s 877us/step - loss: 0.1830 - acc: 0.9200 - val_loss: 0.9044 - val_acc: 0.6002\n",
            "Epoch 16/50\n",
            "35569/35569 [==============================] - 31s 875us/step - loss: 0.1709 - acc: 0.9249 - val_loss: 0.9292 - val_acc: 0.5990\n",
            "Epoch 17/50\n",
            "35569/35569 [==============================] - 31s 882us/step - loss: 0.1631 - acc: 0.9282 - val_loss: 1.0092 - val_acc: 0.6199\n",
            "Epoch 18/50\n",
            "35569/35569 [==============================] - 31s 874us/step - loss: 0.1594 - acc: 0.9303 - val_loss: 0.9953 - val_acc: 0.6002\n",
            "Epoch 19/50\n",
            "35569/35569 [==============================] - 31s 880us/step - loss: 0.1502 - acc: 0.9345 - val_loss: 1.0275 - val_acc: 0.6006\n",
            "Epoch 20/50\n",
            "35569/35569 [==============================] - 31s 878us/step - loss: 0.1453 - acc: 0.9365 - val_loss: 0.9743 - val_acc: 0.5993\n",
            "Epoch 21/50\n",
            "35569/35569 [==============================] - 31s 874us/step - loss: 0.1419 - acc: 0.9372 - val_loss: 1.0472 - val_acc: 0.6042\n",
            "Epoch 22/50\n",
            "35569/35569 [==============================] - 31s 881us/step - loss: 0.1413 - acc: 0.9375 - val_loss: 1.0328 - val_acc: 0.6090\n",
            "Epoch 23/50\n",
            "35569/35569 [==============================] - 31s 873us/step - loss: 0.1312 - acc: 0.9434 - val_loss: 1.1889 - val_acc: 0.5987\n",
            "Epoch 24/50\n",
            "35569/35569 [==============================] - 31s 882us/step - loss: 0.1262 - acc: 0.9456 - val_loss: 1.0981 - val_acc: 0.5956\n",
            "Epoch 25/50\n",
            "35569/35569 [==============================] - 31s 879us/step - loss: 0.1215 - acc: 0.9456 - val_loss: 1.1505 - val_acc: 0.5981\n",
            "Epoch 26/50\n",
            "35569/35569 [==============================] - 31s 874us/step - loss: 0.1177 - acc: 0.9486 - val_loss: 1.1995 - val_acc: 0.6025\n",
            "Epoch 27/50\n",
            "35569/35569 [==============================] - 31s 880us/step - loss: 0.1156 - acc: 0.9481 - val_loss: 1.2487 - val_acc: 0.6054\n",
            "Epoch 28/50\n",
            "35569/35569 [==============================] - 31s 873us/step - loss: 0.1091 - acc: 0.9525 - val_loss: 1.2613 - val_acc: 0.5995\n",
            "Epoch 29/50\n",
            "35569/35569 [==============================] - 31s 878us/step - loss: 0.1129 - acc: 0.9502 - val_loss: 1.1683 - val_acc: 0.5828\n",
            "Epoch 30/50\n",
            "35569/35569 [==============================] - 31s 880us/step - loss: 0.1057 - acc: 0.9543 - val_loss: 1.1282 - val_acc: 0.6054\n",
            "Epoch 31/50\n",
            "35569/35569 [==============================] - 31s 872us/step - loss: 0.1021 - acc: 0.9535 - val_loss: 1.2663 - val_acc: 0.5955\n",
            "Epoch 32/50\n",
            "35569/35569 [==============================] - 31s 878us/step - loss: 0.1027 - acc: 0.9556 - val_loss: 1.2498 - val_acc: 0.5911\n",
            "Epoch 33/50\n",
            "35569/35569 [==============================] - 31s 874us/step - loss: 0.0978 - acc: 0.9581 - val_loss: 1.2931 - val_acc: 0.6065\n",
            "Epoch 34/50\n",
            "35569/35569 [==============================] - 31s 883us/step - loss: 0.1003 - acc: 0.9558 - val_loss: 1.2826 - val_acc: 0.5994\n",
            "Epoch 35/50\n",
            "35569/35569 [==============================] - 31s 879us/step - loss: 0.0925 - acc: 0.9596 - val_loss: 1.3515 - val_acc: 0.5908\n",
            "Epoch 36/50\n",
            "35569/35569 [==============================] - 31s 873us/step - loss: 0.0958 - acc: 0.9586 - val_loss: 1.3938 - val_acc: 0.5899\n",
            "Epoch 37/50\n",
            "35569/35569 [==============================] - 31s 876us/step - loss: 0.0923 - acc: 0.9595 - val_loss: 1.3328 - val_acc: 0.5914\n",
            "Epoch 38/50\n",
            "35569/35569 [==============================] - 31s 878us/step - loss: 0.0924 - acc: 0.9602 - val_loss: 1.4074 - val_acc: 0.5925\n",
            "Epoch 39/50\n",
            "35569/35569 [==============================] - 31s 878us/step - loss: 0.0875 - acc: 0.9615 - val_loss: 1.3110 - val_acc: 0.6087\n",
            "Epoch 40/50\n",
            "35569/35569 [==============================] - 31s 880us/step - loss: 0.0914 - acc: 0.9599 - val_loss: 1.3691 - val_acc: 0.5962\n",
            "Epoch 41/50\n",
            "35569/35569 [==============================] - 31s 873us/step - loss: 0.0850 - acc: 0.9637 - val_loss: 1.3290 - val_acc: 0.5928\n",
            "Epoch 42/50\n",
            "35569/35569 [==============================] - 31s 875us/step - loss: 0.0847 - acc: 0.9616 - val_loss: 1.4556 - val_acc: 0.5922\n",
            "Epoch 43/50\n",
            "35569/35569 [==============================] - 31s 882us/step - loss: 0.0821 - acc: 0.9625 - val_loss: 1.4297 - val_acc: 0.6011\n",
            "Epoch 44/50\n",
            "35569/35569 [==============================] - 31s 885us/step - loss: 0.0832 - acc: 0.9624 - val_loss: 1.3765 - val_acc: 0.5956\n",
            "Epoch 45/50\n",
            "35569/35569 [==============================] - 31s 881us/step - loss: 0.0812 - acc: 0.9658 - val_loss: 1.3988 - val_acc: 0.5886\n",
            "Epoch 46/50\n",
            "35569/35569 [==============================] - 31s 876us/step - loss: 0.0825 - acc: 0.9647 - val_loss: 1.5402 - val_acc: 0.6004\n",
            "Epoch 47/50\n",
            "35569/35569 [==============================] - 31s 874us/step - loss: 0.0812 - acc: 0.9642 - val_loss: 1.6002 - val_acc: 0.5937\n",
            "Epoch 48/50\n",
            "35569/35569 [==============================] - 31s 885us/step - loss: 0.0774 - acc: 0.9664 - val_loss: 1.5440 - val_acc: 0.5934\n",
            "Epoch 49/50\n",
            "35569/35569 [==============================] - 31s 873us/step - loss: 0.0791 - acc: 0.9655 - val_loss: 1.4615 - val_acc: 0.5889\n",
            "Epoch 50/50\n",
            "35569/35569 [==============================] - 31s 878us/step - loss: 0.0755 - acc: 0.9666 - val_loss: 1.4843 - val_acc: 0.5925\n"
          ],
          "name": "stdout"
        }
      ]
    },
    {
      "cell_type": "code",
      "metadata": {
        "id": "9v_bQ9jKVZJq",
        "colab_type": "code",
        "outputId": "a8df64d9-ece8-46cd-b961-9923fc46607f",
        "colab": {
          "base_uri": "https://localhost:8080/",
          "height": 573
        }
      },
      "source": [
        "import matplotlib.pyplot as plt\n",
        "plt.plot(history.history['acc'])\n",
        "plt.plot(history.history['val_acc'])\n",
        "plt.title('model accuracy')\n",
        "plt.ylabel('accuracy')\n",
        "plt.xlabel('epoch')\n",
        "plt.legend(['train', 'test'], loc='upper left')\n",
        "plt.show()\n",
        "# summarize history for loss\n",
        "plt.plot(history.history['loss'])\n",
        "plt.plot(history.history['val_loss'])\n",
        "plt.title('model loss')\n",
        "plt.ylabel('loss')\n",
        "plt.xlabel('epoch')\n",
        "plt.legend(['train', 'test'], loc='upper left')\n",
        "plt.show()\n"
      ],
      "execution_count": 0,
      "outputs": [
        {
          "output_type": "display_data",
          "data": {
            "image/png": "[encoded data removed]",
            "text/plain": [
              "<Figure size 432x288 with 1 Axes>"
            ]
          },
          "metadata": {
            "tags": []
          }
        },
        {
          "output_type": "display_data",
          "data": {
            "image/png": "[encoded data removed]",
            "text/plain": [
              "<Figure size 432x288 with 1 Axes>"
            ]
          },
          "metadata": {
            "tags": []
          }
        }
      ]
    },
    {
      "cell_type": "code",
      "metadata": {
        "id": "wrRv2VACJAC1",
        "colab_type": "code",
        "colab": {}
      },
      "source": [
        "# model.fit_generator(\n",
        "#         train_generator,\n",
        "#         steps_per_epoch=train_samples // batch_size,\n",
        "#         callbacks=[stop],\n",
        "#         epochs=epochs,\n",
        "#         validation_data=validation_generator,\n",
        "#         validation_steps=validation_samples// batch_size,)\n",
        "# #About 60 seconds an epoch when using CPU"
      ],
      "execution_count": 0,
      "outputs": []
    },
    {
      "cell_type": "code",
      "metadata": {
        "id": "W4hqIE9BJAC4",
        "colab_type": "code",
        "colab": {}
      },
      "source": [
        "model.save_weights('/content/drive/My Drive/gpu/top_model_weights.h5')"
      ],
      "execution_count": 0,
      "outputs": []
    },
    {
      "cell_type": "code",
      "metadata": {
        "id": "cndZ8OhyJAC6",
        "colab_type": "code",
        "colab": {}
      },
      "source": [
        "#model.save_weights('models_trained/basic_cnn_30_epochs.h5')\n",
        "model.load_weights('models_trained/basic_cnn_30_epochs.h5')"
      ],
      "execution_count": 0,
      "outputs": []
    },
    {
      "cell_type": "markdown",
      "metadata": {
        "id": "Skd-bLqOJAC8",
        "colab_type": "text"
      },
      "source": [
        "If your model successfully runs at one epoch, go back and it for 30 epochs by changing nb_epoch above.  I was able to get to an val_acc of 0.71 at 30 epochs.\n",
        "A copy of a pretrained network is available in the pretrained folder."
      ]
    },
    {
      "cell_type": "markdown",
      "metadata": {
        "id": "afjzwPVNJAC9",
        "colab_type": "text"
      },
      "source": [
        "### Validating the Model's Performance"
      ]
    },
    {
      "cell_type": "markdown",
      "metadata": {
        "id": "YsHVQsNVJAC-",
        "colab_type": "text"
      },
      "source": [
        "### Visualizing a Convolutional Neural Network"
      ]
    },
    {
      "cell_type": "markdown",
      "metadata": {
        "id": "T3wkhcA0JAC-",
        "colab_type": "text"
      },
      "source": [
        "### Evaluating on validation set"
      ]
    },
    {
      "cell_type": "code",
      "metadata": {
        "id": "MAvAFWMeJAC_",
        "colab_type": "code",
        "colab": {}
      },
      "source": [
        "# Using quiver\n",
        "#!pip install quiver_engine"
      ],
      "execution_count": 0,
      "outputs": []
    },
    {
      "cell_type": "code",
      "metadata": {
        "id": "StVQf53sJADC",
        "colab_type": "code",
        "colab": {}
      },
      "source": [
        "from keras.applications.vgg16 import VGG16\n",
        "model_vgg = VGG16(weights='imagenet', include_top=False)"
      ],
      "execution_count": 0,
      "outputs": []
    },
    {
      "cell_type": "code",
      "metadata": {
        "id": "c5LhiGWNJADK",
        "colab_type": "code",
        "colab": {}
      },
      "source": [
        "from quiver_engine import server\n",
        "#server.launch(model_vgg,input_folder='./raj')"
      ],
      "execution_count": 0,
      "outputs": []
    },
    {
      "cell_type": "markdown",
      "metadata": {
        "id": "dAENenaZJADL",
        "colab_type": "text"
      },
      "source": [
        "Computing loss and accuracy :"
      ]
    },
    {
      "cell_type": "code",
      "metadata": {
        "id": "JNw2rJdipTF8",
        "colab_type": "code",
        "outputId": "4a5c0eee-6c81-4f22-d249-8a9c3a2165c6",
        "colab": {
          "base_uri": "https://localhost:8080/",
          "height": 51
        }
      },
      "source": [
        "model.evaluate(train_data,train_label1)"
      ],
      "execution_count": 0,
      "outputs": [
        {
          "output_type": "stream",
          "text": [
            "4924/4924 [==============================] - 1s 204us/step\n"
          ],
          "name": "stdout"
        },
        {
          "output_type": "execute_result",
          "data": {
            "text/plain": [
              "[0.21723145989733872, 0.9555239642082822]"
            ]
          },
          "metadata": {
            "tags": []
          },
          "execution_count": 28
        }
      ]
    },
    {
      "cell_type": "code",
      "metadata": {
        "id": "w4Q08rOVJADM",
        "colab_type": "code",
        "outputId": "6b8a3b24-50dd-49c0-e61b-eda8db1a26e6",
        "colab": {
          "base_uri": "https://localhost:8080/",
          "height": 51
        }
      },
      "source": [
        "model.evaluate(test_data,test_label1)"
      ],
      "execution_count": 0,
      "outputs": [
        {
          "output_type": "stream",
          "text": [
            "1231/1231 [==============================] - 0s 254us/step\n"
          ],
          "name": "stdout"
        },
        {
          "output_type": "execute_result",
          "data": {
            "text/plain": [
              "[0.9565536082033023, 0.7912266451493208]"
            ]
          },
          "metadata": {
            "tags": []
          },
          "execution_count": 29
        }
      ]
    },
    {
      "cell_type": "code",
      "metadata": {
        "id": "WvosSnpQz_Vb",
        "colab_type": "code",
        "outputId": "ae812c37-235c-4b92-ae26-0c5683569dab",
        "colab": {
          "base_uri": "https://localhost:8080/",
          "height": 51
        }
      },
      "source": [
        "model.evaluate(validation_data,validation_label1)"
      ],
      "execution_count": 0,
      "outputs": [
        {
          "output_type": "stream",
          "text": [
            "1182/1182 [==============================] - 0s 200us/step\n"
          ],
          "name": "stdout"
        },
        {
          "output_type": "execute_result",
          "data": {
            "text/plain": [
              "[2.3569854887205532, 0.6032148899160666]"
            ]
          },
          "metadata": {
            "tags": []
          },
          "execution_count": 26
        }
      ]
    },
    {
      "cell_type": "code",
      "metadata": {
        "id": "kLlcVwyL0Rpy",
        "colab_type": "code",
        "colab": {}
      },
      "source": [
        ""
      ],
      "execution_count": 0,
      "outputs": []
    },
    {
      "cell_type": "code",
      "metadata": {
        "id": "5H5epbBB9PFG",
        "colab_type": "code",
        "colab": {}
      },
      "source": [
        "test_prob=model.predict(test_data)"
      ],
      "execution_count": 0,
      "outputs": []
    },
    {
      "cell_type": "code",
      "metadata": {
        "id": "2E5zz-h1fWXE",
        "colab_type": "code",
        "colab": {}
      },
      "source": [
        "train_classes=model.predict_classes(train_data)"
      ],
      "execution_count": 0,
      "outputs": []
    },
    {
      "cell_type": "code",
      "metadata": {
        "id": "C78Xa_kL-XC7",
        "colab_type": "code",
        "colab": {}
      },
      "source": [
        "test_classes = model.predict_classes(test_data)"
      ],
      "execution_count": 0,
      "outputs": []
    },
    {
      "cell_type": "code",
      "metadata": {
        "id": "TsToND1abydt",
        "colab_type": "code",
        "outputId": "697d99a5-3bb8-4f17-b6a6-15dc9dd7ddfe",
        "colab": {
          "base_uri": "https://localhost:8080/",
          "height": 34
        }
      },
      "source": [
        "test_classes"
      ],
      "execution_count": 0,
      "outputs": [
        {
          "output_type": "execute_result",
          "data": {
            "text/plain": [
              "array([0, 0, 1, ..., 0, 0, 1])"
            ]
          },
          "metadata": {
            "tags": []
          },
          "execution_count": 25
        }
      ]
    },
    {
      "cell_type": "code",
      "metadata": {
        "id": "qrVlSn0iAjCR",
        "colab_type": "code",
        "outputId": "4ff6f6d3-b535-44a1-ec32-18282636c01d",
        "colab": {
          "base_uri": "https://localhost:8080/",
          "height": 34
        }
      },
      "source": [
        "list(test_classes).count(0),list(test_classes).count(1)"
      ],
      "execution_count": 0,
      "outputs": [
        {
          "output_type": "execute_result",
          "data": {
            "text/plain": [
              "(822, 371)"
            ]
          },
          "metadata": {
            "tags": []
          },
          "execution_count": 26
        }
      ]
    },
    {
      "cell_type": "code",
      "metadata": {
        "id": "kw3OiCUiAv5B",
        "colab_type": "code",
        "outputId": "f2ea86d6-c77e-44b5-a48f-b2fcae98aa46",
        "colab": {
          "base_uri": "https://localhost:8080/",
          "height": 34
        }
      },
      "source": [
        "list(test_label).count(0),list(test_label).count(1)"
      ],
      "execution_count": 0,
      "outputs": [
        {
          "output_type": "execute_result",
          "data": {
            "text/plain": [
              "(781, 412)"
            ]
          },
          "metadata": {
            "tags": []
          },
          "execution_count": 27
        }
      ]
    },
    {
      "cell_type": "markdown",
      "metadata": {
        "id": "gV1n4O5u0lX_",
        "colab_type": "text"
      },
      "source": [
        "**validation performance check**"
      ]
    },
    {
      "cell_type": "code",
      "metadata": {
        "id": "N89jDSFw0plj",
        "colab_type": "code",
        "colab": {}
      },
      "source": [
        "validation_prob=model.predict(validation_data)\n",
        "validation_classes=model.predict_classes(validation_data)\n",
        "validation_preds=np.argmax(validation_prob,axis=1)\n",
        "validation_prob=validation_prob[:,1]\n",
        "val_id_unique=np.unique(validation_id)\n",
        "val_id_prediction=np.array(list(zip(validation_id,validation_preds)))\n",
        "val_combine_data=[]\n",
        "val_unique_predictions=[]\n",
        "for i in range(len(val_id_unique)):\n",
        "  ID=val_id_unique[i]\n",
        "  index=(val_id_prediction[:,0]==ID)\n",
        "  prediction=list(val_id_prediction[index][:,1])\n",
        "  if prediction.count('1')>=prediction.count('0'):\n",
        "    final_pre=1\n",
        "  else:\n",
        "    final_pre=0\n",
        "  val_unique_predictions.append(final_pre)\n",
        "  mix=[[ID],prediction]\n",
        "  val_combine_data.append(mix)"
      ],
      "execution_count": 0,
      "outputs": []
    },
    {
      "cell_type": "code",
      "metadata": {
        "id": "M5Qg1ZTz2ZmR",
        "colab_type": "code",
        "colab": {}
      },
      "source": [
        "val_id_label=np.array(list(zip(validation_id,validation_label)))\n",
        "val_unique_labels=[]\n",
        "for i in range(len(val_id_unique)):\n",
        "  ID=val_id_unique[i]\n",
        "  index=(val_id_label[:,0]==ID)\n",
        "  label=int(np.unique(val_id_label[index][:,1])[0])\n",
        "  val_unique_labels.append(label)"
      ],
      "execution_count": 0,
      "outputs": []
    },
    {
      "cell_type": "code",
      "metadata": {
        "id": "pIY3AWBodvlh",
        "colab_type": "code",
        "colab": {}
      },
      "source": [
        ""
      ],
      "execution_count": 0,
      "outputs": []
    },
    {
      "cell_type": "code",
      "metadata": {
        "id": "j6_s2KrkbCkL",
        "colab_type": "code",
        "outputId": "18194761-0308-4b5b-b610-149b08418325",
        "colab": {
          "base_uri": "https://localhost:8080/",
          "height": 204
        }
      },
      "source": [
        "from sklearn.metrics import confusion_matrix\n",
        "cm=confusion_matrix(val_unique_labels,val_unique_predictions)\n",
        "print('confusion matrix \\n',cm)\n",
        "total=sum(sum(cm))\n",
        "accuracy=(cm[0,0]+cm[1,1])/total\n",
        "print('accuray ',accuracy)\n",
        "sensitivity=cm[1,1]/(cm[1,1]+cm[1,0])\n",
        "print('sensitivity ',sensitivity)\n",
        "specificity=cm[0,0]/(cm[0,0]+cm[0,1])\n",
        "print('specificity ',specificity)\n",
        "ppv = cm[1,1]/(cm[1,1]+cm[0,1])\n",
        "print('PPV  ', ppv)\n",
        "npv = cm[0,0]/(cm[0,0]+cm[1,0])\n",
        "print('NPV  ', npv)\n",
        "PLR=sensitivity/(1-specificity)\n",
        "print('Positive likelihood ratio ',PLR)\n",
        "NLR=(1-sensitivity)/specificity\n",
        "print('Negative likelihood ratio ',NLR)\n",
        "DOR=PLR/NLR\n",
        "print('Diagnostic odds ratio ',DOR)"
      ],
      "execution_count": 0,
      "outputs": [
        {
          "output_type": "stream",
          "text": [
            "confusion matrix \n",
            " [[36  3]\n",
            " [23  6]]\n",
            "accuray  0.6176470588235294\n",
            "sensitivity  0.20689655172413793\n",
            "specificity  0.9230769230769231\n",
            "PPV   0.6666666666666666\n",
            "NPV   0.6101694915254238\n",
            "Positive likelihood ratio  2.689655172413795\n",
            "Negative likelihood ratio  0.8591954022988506\n",
            "Diagnostic odds ratio  3.1304347826086976\n"
          ],
          "name": "stdout"
        }
      ]
    },
    {
      "cell_type": "code",
      "metadata": {
        "id": "XtnzJfin9i3M",
        "colab_type": "code",
        "outputId": "afc536ee-7f30-469c-8a48-1cc278e00ec0",
        "colab": {
          "base_uri": "https://localhost:8080/",
          "height": 219
        }
      },
      "source": [
        "from sklearn.metrics import roc_curve, auc\n",
        "fpr, tpr, thresholds = roc_curve(test_label, np.argmax(test_prob, axis=1))\n",
        "auc_test = auc(fpr, tpr)\n",
        "auc_test"
      ],
      "execution_count": 0,
      "outputs": [
        {
          "output_type": "error",
          "ename": "NameError",
          "evalue": "ignored",
          "traceback": [
            "\u001b[0;31m---------------------------------------------------------------------------\u001b[0m",
            "\u001b[0;31mNameError\u001b[0m                                 Traceback (most recent call last)",
            "\u001b[0;32m<ipython-input-35-fa27dd9f4f09>\u001b[0m in \u001b[0;36m<module>\u001b[0;34m()\u001b[0m\n\u001b[1;32m      1\u001b[0m \u001b[0;32mfrom\u001b[0m \u001b[0msklearn\u001b[0m\u001b[0;34m.\u001b[0m\u001b[0mmetrics\u001b[0m \u001b[0;32mimport\u001b[0m \u001b[0mroc_curve\u001b[0m\u001b[0;34m,\u001b[0m \u001b[0mauc\u001b[0m\u001b[0;34m\u001b[0m\u001b[0;34m\u001b[0m\u001b[0m\n\u001b[0;32m----> 2\u001b[0;31m \u001b[0mfpr\u001b[0m\u001b[0;34m,\u001b[0m \u001b[0mtpr\u001b[0m\u001b[0;34m,\u001b[0m \u001b[0mthresholds\u001b[0m \u001b[0;34m=\u001b[0m \u001b[0mroc_curve\u001b[0m\u001b[0;34m(\u001b[0m\u001b[0mtest_label\u001b[0m\u001b[0;34m,\u001b[0m \u001b[0mnp\u001b[0m\u001b[0;34m.\u001b[0m\u001b[0margmax\u001b[0m\u001b[0;34m(\u001b[0m\u001b[0mtest_prob\u001b[0m\u001b[0;34m,\u001b[0m \u001b[0maxis\u001b[0m\u001b[0;34m=\u001b[0m\u001b[0;36m1\u001b[0m\u001b[0;34m)\u001b[0m\u001b[0;34m)\u001b[0m\u001b[0;34m\u001b[0m\u001b[0;34m\u001b[0m\u001b[0m\n\u001b[0m\u001b[1;32m      3\u001b[0m \u001b[0mauc_test\u001b[0m \u001b[0;34m=\u001b[0m \u001b[0mauc\u001b[0m\u001b[0;34m(\u001b[0m\u001b[0mfpr\u001b[0m\u001b[0;34m,\u001b[0m \u001b[0mtpr\u001b[0m\u001b[0;34m)\u001b[0m\u001b[0;34m\u001b[0m\u001b[0;34m\u001b[0m\u001b[0m\n\u001b[1;32m      4\u001b[0m \u001b[0mauc_test\u001b[0m\u001b[0;34m\u001b[0m\u001b[0;34m\u001b[0m\u001b[0m\n",
            "\u001b[0;31mNameError\u001b[0m: name 'test_prob' is not defined"
          ]
        }
      ]
    },
    {
      "cell_type": "code",
      "metadata": {
        "id": "rLFsYkCJ1K4d",
        "colab_type": "code",
        "colab": {}
      },
      "source": [
        ""
      ],
      "execution_count": 0,
      "outputs": []
    },
    {
      "cell_type": "code",
      "metadata": {
        "id": "DX4ZUXE0fPg7",
        "colab_type": "code",
        "outputId": "e348cb09-309a-4a1b-8559-976b47400336",
        "colab": {
          "base_uri": "https://localhost:8080/",
          "height": 204
        }
      },
      "source": [
        "import sklearn\n",
        "cm=sklearn.metrics.confusion_matrix(train_label,train_classes)\n",
        "print('confusion matrix \\n',cm)\n",
        "total=sum(sum(cm))\n",
        "accuracy=(cm[0,0]+cm[1,1])/total\n",
        "print('accuray ',accuracy)\n",
        "sensitivity=cm[1,1]/(cm[1,1]+cm[1,0])\n",
        "print('sensitivity ',sensitivity)\n",
        "specificity=cm[0,0]/(cm[0,0]+cm[0,1])\n",
        "print('specificity ',specificity)\n",
        "ppv = cm[1,1]/(cm[1,1]+cm[0,1])\n",
        "print('PPV  ', ppv)\n",
        "npv = cm[0,0]/(cm[0,0]+cm[1,0])\n",
        "print('NPV  ', npv)\n",
        "PLR=sensitivity/(1-specificity)\n",
        "print('Positive likelihood ratio ',PLR)\n",
        "NLR=(1-sensitivity)/specificity\n",
        "print('Negative likelihood ratio ',NLR)\n",
        "DOR=PLR/NLR\n",
        "print('Diagnostic odds ratio ',DOR)"
      ],
      "execution_count": 0,
      "outputs": [
        {
          "output_type": "stream",
          "text": [
            "confusion matrix \n",
            " [[2871   85]\n",
            " [ 129 1687]]\n",
            "accuray  0.9551550712489523\n",
            "sensitivity  0.9289647577092511\n",
            "specificity  0.9712449255751014\n",
            "PPV   0.9520316027088036\n",
            "NPV   0.957\n",
            "Positive likelihood ratio  32.30611557398285\n",
            "Negative likelihood ratio  0.07313834072150946\n",
            "Diagnostic odds ratio  441.71244870040994\n"
          ],
          "name": "stdout"
        }
      ]
    },
    {
      "cell_type": "code",
      "metadata": {
        "id": "XSjniOOqbnvk",
        "colab_type": "code",
        "outputId": "1eece641-5e3c-466f-aef2-c121428349e2",
        "colab": {
          "base_uri": "https://localhost:8080/",
          "height": 204
        }
      },
      "source": [
        "import sklearn\n",
        "cm=sklearn.metrics.confusion_matrix(test_label,test_classes)\n",
        "print('confusion matrix \\n',cm)\n",
        "total=sum(sum(cm))\n",
        "accuracy=(cm[0,0]+cm[1,1])/total\n",
        "print('accuray ',accuracy)\n",
        "sensitivity=cm[1,1]/(cm[1,1]+cm[1,0])\n",
        "print('sensitivity ',sensitivity)\n",
        "specificity=cm[0,0]/(cm[0,0]+cm[0,1])\n",
        "print('specificity ',specificity)\n",
        "ppv = cm[1,1]/(cm[1,1]+cm[0,1])\n",
        "print('PPV  ', ppv)\n",
        "npv = cm[0,0]/(cm[0,0]+cm[1,0])\n",
        "print('NPV  ', npv)\n",
        "PLR=sensitivity/(1-specificity)\n",
        "print('Positive likelihood ratio ',PLR)\n",
        "NLR=(1-sensitivity)/specificity\n",
        "print('Negative likelihood ratio ',NLR)\n",
        "DOR=PLR/NLR\n",
        "print('Diagnostic odds ratio ',DOR)\n"
      ],
      "execution_count": 0,
      "outputs": [
        {
          "output_type": "stream",
          "text": [
            "confusion matrix \n",
            " [[656 125]\n",
            " [166 246]]\n",
            "accuray  0.7560771165129925\n",
            "sensitivity  0.5970873786407767\n",
            "specificity  0.8399487836107554\n",
            "PPV   0.6630727762803235\n",
            "NPV   0.7980535279805353\n",
            "Positive likelihood ratio  3.730601941747572\n",
            "Negative likelihood ratio  0.47968713000236807\n",
            "Diagnostic odds ratio  7.777156626506021\n"
          ],
          "name": "stdout"
        }
      ]
    },
    {
      "cell_type": "markdown",
      "metadata": {
        "id": "-dy1xLgYh7BH",
        "colab_type": "text"
      },
      "source": [
        "**combine patient slices prob**"
      ]
    },
    {
      "cell_type": "code",
      "metadata": {
        "id": "bcHL_ikMh-FY",
        "colab_type": "code",
        "colab": {}
      },
      "source": [
        "all_prediction_prob=model.predict(all_data)"
      ],
      "execution_count": 0,
      "outputs": []
    },
    {
      "cell_type": "code",
      "metadata": {
        "id": "-58KkTLkx3k1",
        "colab_type": "code",
        "outputId": "6c0b16b2-5670-4341-da19-913989ccaa3b",
        "colab": {
          "base_uri": "https://localhost:8080/",
          "height": 34
        }
      },
      "source": [
        "all_label"
      ],
      "execution_count": 0,
      "outputs": [
        {
          "output_type": "execute_result",
          "data": {
            "text/plain": [
              "array([0, 0, 0, ..., 1, 1, 1])"
            ]
          },
          "metadata": {
            "tags": []
          },
          "execution_count": 32
        }
      ]
    },
    {
      "cell_type": "code",
      "metadata": {
        "id": "rql2eAkxo8Kq",
        "colab_type": "code",
        "colab": {}
      },
      "source": [
        "all_id_unique=np.unique(all_id)"
      ],
      "execution_count": 0,
      "outputs": []
    },
    {
      "cell_type": "code",
      "metadata": {
        "id": "pOzzJr7epF5i",
        "colab_type": "code",
        "outputId": "9431ab92-a0cd-4fce-c5f5-dc2fcf3d10e5",
        "colab": {
          "base_uri": "https://localhost:8080/",
          "height": 34
        }
      },
      "source": [
        "len(all_id_unique)"
      ],
      "execution_count": 0,
      "outputs": [
        {
          "output_type": "execute_result",
          "data": {
            "text/plain": [
              "352"
            ]
          },
          "metadata": {
            "tags": []
          },
          "execution_count": 34
        }
      ]
    },
    {
      "cell_type": "code",
      "metadata": {
        "id": "NCY2Q7OpkD64",
        "colab_type": "code",
        "colab": {}
      },
      "source": [
        "preds=np.argmax(all_prediction_prob,axis=1)\n",
        "prob=all_prediction_prob[:,1]"
      ],
      "execution_count": 0,
      "outputs": []
    },
    {
      "cell_type": "code",
      "metadata": {
        "id": "CKgGbHgmj5mK",
        "colab_type": "code",
        "colab": {}
      },
      "source": [
        "id_prediction=np.array(list(zip(all_id,preds)))"
      ],
      "execution_count": 0,
      "outputs": []
    },
    {
      "cell_type": "code",
      "metadata": {
        "id": "pGyzkKpnqCu9",
        "colab_type": "code",
        "colab": {}
      },
      "source": [
        "combine_data=[]\n",
        "unique_predictions=[]\n",
        "for i in range(len(all_id_unique)):\n",
        "  ID=all_id_unique[i]\n",
        "  index=(id_prediction[:,0]==ID)\n",
        "  prediction=list(id_prediction[index][:,1])\n",
        "  if prediction.count('1')>=prediction.count('0'):\n",
        "    final_pre=1\n",
        "  else:\n",
        "    final_pre=0\n",
        "  unique_predictions.append(final_pre)\n",
        "  mix=[[ID],prediction]\n",
        "  combine_data.append(mix)"
      ],
      "execution_count": 0,
      "outputs": []
    },
    {
      "cell_type": "code",
      "metadata": {
        "id": "nzqUp57sxRow",
        "colab_type": "code",
        "outputId": "fee7a3f6-163b-4d47-e03f-1fe2b67ab782",
        "colab": {
          "base_uri": "https://localhost:8080/",
          "height": 399
        }
      },
      "source": [
        "import sklearn\n",
        "cm=sklearn.metrics.confusion_matrix(unique_labels,unique_predictions)\n",
        "print('confusion matrix \\n',cm)\n",
        "total=sum(sum(cm))\n",
        "accuracy=(cm[0,0]+cm[1,1])/total\n",
        "print('accuray ',accuracy)\n",
        "sensitivity=cm[1,1]/(cm[1,1]+cm[1,0])\n",
        "print('sensitivity ',sensitivity)\n",
        "specificity=cm[0,0]/(cm[0,0]+cm[0,1])\n",
        "print('specificity ',specificity)\n",
        "ppv = cm[1,1]/(cm[1,1]+cm[0,1])\n",
        "print('PPV  ', ppv)\n",
        "npv = cm[0,0]/(cm[0,0]+cm[1,0])\n",
        "print('NPV  ', npv)\n",
        "PLR=sensitivity/(1-specificity)\n",
        "print('Positive likelihood ratio ',PLR)\n",
        "NLR=(1-sensitivity)/specificity\n",
        "print('Negative likelihood ratio ',NLR)\n",
        "DOR=PLR/NLR\n",
        "print('Diagnostic odds ratio ',DOR)"
      ],
      "execution_count": 0,
      "outputs": [
        {
          "output_type": "error",
          "ename": "ValueError",
          "evalue": "ignored",
          "traceback": [
            "\u001b[0;31m---------------------------------------------------------------------------\u001b[0m",
            "\u001b[0;31mValueError\u001b[0m                                Traceback (most recent call last)",
            "\u001b[0;32m<ipython-input-41-60c49a6d9935>\u001b[0m in \u001b[0;36m<module>\u001b[0;34m()\u001b[0m\n\u001b[1;32m      1\u001b[0m \u001b[0;32mimport\u001b[0m \u001b[0msklearn\u001b[0m\u001b[0;34m\u001b[0m\u001b[0;34m\u001b[0m\u001b[0m\n\u001b[0;32m----> 2\u001b[0;31m \u001b[0mcm\u001b[0m\u001b[0;34m=\u001b[0m\u001b[0msklearn\u001b[0m\u001b[0;34m.\u001b[0m\u001b[0mmetrics\u001b[0m\u001b[0;34m.\u001b[0m\u001b[0mconfusion_matrix\u001b[0m\u001b[0;34m(\u001b[0m\u001b[0munique_labels\u001b[0m\u001b[0;34m,\u001b[0m\u001b[0munique_predictions\u001b[0m\u001b[0;34m)\u001b[0m\u001b[0;34m\u001b[0m\u001b[0;34m\u001b[0m\u001b[0m\n\u001b[0m\u001b[1;32m      3\u001b[0m \u001b[0mprint\u001b[0m\u001b[0;34m(\u001b[0m\u001b[0;34m'confusion matrix \\n'\u001b[0m\u001b[0;34m,\u001b[0m\u001b[0mcm\u001b[0m\u001b[0;34m)\u001b[0m\u001b[0;34m\u001b[0m\u001b[0;34m\u001b[0m\u001b[0m\n\u001b[1;32m      4\u001b[0m \u001b[0mtotal\u001b[0m\u001b[0;34m=\u001b[0m\u001b[0msum\u001b[0m\u001b[0;34m(\u001b[0m\u001b[0msum\u001b[0m\u001b[0;34m(\u001b[0m\u001b[0mcm\u001b[0m\u001b[0;34m)\u001b[0m\u001b[0;34m)\u001b[0m\u001b[0;34m\u001b[0m\u001b[0;34m\u001b[0m\u001b[0m\n\u001b[1;32m      5\u001b[0m \u001b[0maccuracy\u001b[0m\u001b[0;34m=\u001b[0m\u001b[0;34m(\u001b[0m\u001b[0mcm\u001b[0m\u001b[0;34m[\u001b[0m\u001b[0;36m0\u001b[0m\u001b[0;34m,\u001b[0m\u001b[0;36m0\u001b[0m\u001b[0;34m]\u001b[0m\u001b[0;34m+\u001b[0m\u001b[0mcm\u001b[0m\u001b[0;34m[\u001b[0m\u001b[0;36m1\u001b[0m\u001b[0;34m,\u001b[0m\u001b[0;36m1\u001b[0m\u001b[0;34m]\u001b[0m\u001b[0;34m)\u001b[0m\u001b[0;34m/\u001b[0m\u001b[0mtotal\u001b[0m\u001b[0;34m\u001b[0m\u001b[0;34m\u001b[0m\u001b[0m\n",
            "\u001b[0;32m/usr/local/lib/python3.6/dist-packages/sklearn/metrics/classification.py\u001b[0m in \u001b[0;36mconfusion_matrix\u001b[0;34m(y_true, y_pred, labels, sample_weight)\u001b[0m\n\u001b[1;32m    251\u001b[0m \u001b[0;34m\u001b[0m\u001b[0m\n\u001b[1;32m    252\u001b[0m     \"\"\"\n\u001b[0;32m--> 253\u001b[0;31m     \u001b[0my_type\u001b[0m\u001b[0;34m,\u001b[0m \u001b[0my_true\u001b[0m\u001b[0;34m,\u001b[0m \u001b[0my_pred\u001b[0m \u001b[0;34m=\u001b[0m \u001b[0m_check_targets\u001b[0m\u001b[0;34m(\u001b[0m\u001b[0my_true\u001b[0m\u001b[0;34m,\u001b[0m \u001b[0my_pred\u001b[0m\u001b[0;34m)\u001b[0m\u001b[0;34m\u001b[0m\u001b[0;34m\u001b[0m\u001b[0m\n\u001b[0m\u001b[1;32m    254\u001b[0m     \u001b[0;32mif\u001b[0m \u001b[0my_type\u001b[0m \u001b[0;32mnot\u001b[0m \u001b[0;32min\u001b[0m \u001b[0;34m(\u001b[0m\u001b[0;34m\"binary\"\u001b[0m\u001b[0;34m,\u001b[0m \u001b[0;34m\"multiclass\"\u001b[0m\u001b[0;34m)\u001b[0m\u001b[0;34m:\u001b[0m\u001b[0;34m\u001b[0m\u001b[0;34m\u001b[0m\u001b[0m\n\u001b[1;32m    255\u001b[0m         \u001b[0;32mraise\u001b[0m \u001b[0mValueError\u001b[0m\u001b[0;34m(\u001b[0m\u001b[0;34m\"%s is not supported\"\u001b[0m \u001b[0;34m%\u001b[0m \u001b[0my_type\u001b[0m\u001b[0;34m)\u001b[0m\u001b[0;34m\u001b[0m\u001b[0;34m\u001b[0m\u001b[0m\n",
            "\u001b[0;32m/usr/local/lib/python3.6/dist-packages/sklearn/metrics/classification.py\u001b[0m in \u001b[0;36m_check_targets\u001b[0;34m(y_true, y_pred)\u001b[0m\n\u001b[1;32m     69\u001b[0m     \u001b[0my_pred\u001b[0m \u001b[0;34m:\u001b[0m \u001b[0marray\u001b[0m \u001b[0;32mor\u001b[0m \u001b[0mindicator\u001b[0m \u001b[0mmatrix\u001b[0m\u001b[0;34m\u001b[0m\u001b[0;34m\u001b[0m\u001b[0m\n\u001b[1;32m     70\u001b[0m     \"\"\"\n\u001b[0;32m---> 71\u001b[0;31m     \u001b[0mcheck_consistent_length\u001b[0m\u001b[0;34m(\u001b[0m\u001b[0my_true\u001b[0m\u001b[0;34m,\u001b[0m \u001b[0my_pred\u001b[0m\u001b[0;34m)\u001b[0m\u001b[0;34m\u001b[0m\u001b[0;34m\u001b[0m\u001b[0m\n\u001b[0m\u001b[1;32m     72\u001b[0m     \u001b[0mtype_true\u001b[0m \u001b[0;34m=\u001b[0m \u001b[0mtype_of_target\u001b[0m\u001b[0;34m(\u001b[0m\u001b[0my_true\u001b[0m\u001b[0;34m)\u001b[0m\u001b[0;34m\u001b[0m\u001b[0;34m\u001b[0m\u001b[0m\n\u001b[1;32m     73\u001b[0m     \u001b[0mtype_pred\u001b[0m \u001b[0;34m=\u001b[0m \u001b[0mtype_of_target\u001b[0m\u001b[0;34m(\u001b[0m\u001b[0my_pred\u001b[0m\u001b[0;34m)\u001b[0m\u001b[0;34m\u001b[0m\u001b[0;34m\u001b[0m\u001b[0m\n",
            "\u001b[0;32m/usr/local/lib/python3.6/dist-packages/sklearn/utils/validation.py\u001b[0m in \u001b[0;36mcheck_consistent_length\u001b[0;34m(*arrays)\u001b[0m\n\u001b[1;32m    233\u001b[0m     \u001b[0;32mif\u001b[0m \u001b[0mlen\u001b[0m\u001b[0;34m(\u001b[0m\u001b[0muniques\u001b[0m\u001b[0;34m)\u001b[0m \u001b[0;34m>\u001b[0m \u001b[0;36m1\u001b[0m\u001b[0;34m:\u001b[0m\u001b[0;34m\u001b[0m\u001b[0;34m\u001b[0m\u001b[0m\n\u001b[1;32m    234\u001b[0m         raise ValueError(\"Found input variables with inconsistent numbers of\"\n\u001b[0;32m--> 235\u001b[0;31m                          \" samples: %r\" % [int(l) for l in lengths])\n\u001b[0m\u001b[1;32m    236\u001b[0m \u001b[0;34m\u001b[0m\u001b[0m\n\u001b[1;32m    237\u001b[0m \u001b[0;34m\u001b[0m\u001b[0m\n",
            "\u001b[0;31mValueError\u001b[0m: Found input variables with inconsistent numbers of samples: [352, 704]"
          ]
        }
      ]
    },
    {
      "cell_type": "markdown",
      "metadata": {
        "id": "aGyzxlMFzu5x",
        "colab_type": "text"
      },
      "source": [
        "**evaluate on each patient**"
      ]
    },
    {
      "cell_type": "code",
      "metadata": {
        "id": "ePd532tPzy2x",
        "colab_type": "code",
        "outputId": "ae85c650-b924-4c8a-88d7-903e47764d80",
        "colab": {
          "base_uri": "https://localhost:8080/",
          "height": 34
        }
      },
      "source": [
        "for i in range()"
      ],
      "execution_count": 0,
      "outputs": [
        {
          "output_type": "execute_result",
          "data": {
            "text/plain": [
              "'LUNG1-001'"
            ]
          },
          "metadata": {
            "tags": []
          },
          "execution_count": 84
        }
      ]
    },
    {
      "cell_type": "code",
      "metadata": {
        "id": "ChJo-9j7qLfu",
        "colab_type": "code",
        "colab": {}
      },
      "source": [
        "# final_table=[]\n",
        "# for i in range(len(all_id_unique)):\n",
        "#   ID=combine_data[i][0]\n",
        "#   pre=combine_data[i][1]\n",
        "#   if pre.count('1')>=pre.count('0'):\n",
        "#     final_pre=1\n",
        "#   else:\n",
        "#     final_pre=0\n",
        "#   table=[[ID],final_pre]\n",
        "#   final_table.append(table)"
      ],
      "execution_count": 0,
      "outputs": []
    },
    {
      "cell_type": "code",
      "metadata": {
        "id": "Chyp59Ktpoft",
        "colab_type": "code",
        "colab": {}
      },
      "source": [
        "# final_decision=list([final_table[i][1] for i in range(len(all_id_unique))])"
      ],
      "execution_count": 0,
      "outputs": []
    },
    {
      "cell_type": "code",
      "metadata": {
        "id": "Lo7IJjovjjId",
        "colab_type": "code",
        "outputId": "8fd0d473-01db-4258-e899-b0344f0cc54b",
        "colab": {
          "base_uri": "https://localhost:8080/",
          "height": 51
        }
      },
      "source": [
        "model.evaluate(all_data,to_categorical(all_label,2))"
      ],
      "execution_count": 0,
      "outputs": [
        {
          "output_type": "stream",
          "text": [
            "7337/7337 [==============================] - 2s 333us/step\n"
          ],
          "name": "stdout"
        },
        {
          "output_type": "execute_result",
          "data": {
            "text/plain": [
              "[3.7329714384036086, 0.7636636227422113]"
            ]
          },
          "metadata": {
            "tags": []
          },
          "execution_count": 119
        }
      ]
    },
    {
      "cell_type": "markdown",
      "metadata": {
        "id": "V707zDS3JADQ",
        "colab_type": "text"
      },
      "source": [
        "Evolution of accuracy on training (blue) and validation (green) sets for 1 to 32 epochs :"
      ]
    },
    {
      "cell_type": "markdown",
      "metadata": {
        "id": "Bsve9fEGJADQ",
        "colab_type": "text"
      },
      "source": [
        "![Accuracy evolution](pictures/scores_no_dataaugmentation.png)"
      ]
    },
    {
      "cell_type": "markdown",
      "metadata": {
        "id": "lDvV6O_3JADR",
        "colab_type": "text"
      },
      "source": [
        "**After ~10 epochs the neural network reach ~70% accuracy. We can witness overfitting, no progress is made over validation set in the next epochs**"
      ]
    },
    {
      "cell_type": "markdown",
      "metadata": {
        "id": "VZb1ZrsMJADS",
        "colab_type": "text"
      },
      "source": [
        "## Data augmentation for improving the model"
      ]
    },
    {
      "cell_type": "markdown",
      "metadata": {
        "id": "TfRLuGz4JADS",
        "colab_type": "text"
      },
      "source": [
        "By applying random transformation to our train set, we artificially enhance our dataset with new unseen images.  \n",
        "This will hopefully reduce overfitting and allows better generalization capability for our network."
      ]
    },
    {
      "cell_type": "markdown",
      "metadata": {
        "id": "h1U4bAMBJADT",
        "colab_type": "text"
      },
      "source": [
        "Example of data augmentation applied to a picture:\n",
        "![Example of data augmentation applied to a picture](pictures/cat_data_augmentation.png)"
      ]
    },
    {
      "cell_type": "code",
      "metadata": {
        "id": "fB7y9xrUJADT",
        "colab_type": "code",
        "outputId": "b40a0ab1-14a4-4807-fe57-5128f558dcd6",
        "colab": {}
      },
      "source": [
        "train_datagen_augmented = ImageDataGenerator(\n",
        "        rescale=1./255,        # normalize pixel values to [0,1]\n",
        "        shear_range=0.2,       # randomly applies shearing transformation\n",
        "        zoom_range=0.2,        # randomly applies shearing transformation\n",
        "        horizontal_flip=True)  # randomly flip the images\n",
        "\n",
        "# same code as before\n",
        "train_generator_augmented = train_datagen_augmented.flow_from_directory(\n",
        "        train_data_dir,\n",
        "        target_size=(img_width, img_height),\n",
        "        batch_size=batch_size,\n",
        "        class_mode='binary')"
      ],
      "execution_count": 0,
      "outputs": [
        {
          "output_type": "stream",
          "text": [
            "Found 200 images belonging to 2 classes.\n"
          ],
          "name": "stdout"
        }
      ]
    },
    {
      "cell_type": "code",
      "metadata": {
        "id": "4CFD9FyfJADV",
        "colab_type": "code",
        "outputId": "e38b7770-68fc-4910-9a12-38a3bfa78529",
        "colab": {}
      },
      "source": [
        "##Lets look at the training data\n",
        "img = load_img('data/train/cats/cat.0.jpg')  # this is a PIL image\n",
        "x = img_to_array(img)  # this is a Numpy array with shape (3, 150, 150)\n",
        "x = x.reshape((1,) + x.shape)  \n",
        "\n",
        "i = 0\n",
        "for batch in train_datagen_augmented.flow(x,batch_size=1,\n",
        "                          save_to_dir='preview', save_prefix='aug2', save_format='jpg'):\n",
        "    i += 1\n",
        "    if i > 5:\n",
        "        break  #"
      ],
      "execution_count": 0,
      "outputs": [
        {
          "output_type": "error",
          "ename": "FileNotFoundError",
          "evalue": "[Errno 2] No such file or directory: 'data/train/cats/cat.0.jpg'",
          "traceback": [
            "\u001b[0;31m---------------------------------------------------------------------------\u001b[0m",
            "\u001b[0;31mFileNotFoundError\u001b[0m                         Traceback (most recent call last)",
            "\u001b[0;32m<ipython-input-13-028615b4661c>\u001b[0m in \u001b[0;36m<module>\u001b[0;34m()\u001b[0m\n\u001b[1;32m      1\u001b[0m \u001b[0;31m##Lets look at the training data\u001b[0m\u001b[0;34m\u001b[0m\u001b[0;34m\u001b[0m\u001b[0m\n\u001b[0;32m----> 2\u001b[0;31m \u001b[0mimg\u001b[0m \u001b[0;34m=\u001b[0m \u001b[0mload_img\u001b[0m\u001b[0;34m(\u001b[0m\u001b[0;34m'data/train/cats/cat.0.jpg'\u001b[0m\u001b[0;34m)\u001b[0m  \u001b[0;31m# this is a PIL image\u001b[0m\u001b[0;34m\u001b[0m\u001b[0m\n\u001b[0m\u001b[1;32m      3\u001b[0m \u001b[0mx\u001b[0m \u001b[0;34m=\u001b[0m \u001b[0mimg_to_array\u001b[0m\u001b[0;34m(\u001b[0m\u001b[0mimg\u001b[0m\u001b[0;34m)\u001b[0m  \u001b[0;31m# this is a Numpy array with shape (3, 150, 150)\u001b[0m\u001b[0;34m\u001b[0m\u001b[0m\n\u001b[1;32m      4\u001b[0m \u001b[0mx\u001b[0m \u001b[0;34m=\u001b[0m \u001b[0mx\u001b[0m\u001b[0;34m.\u001b[0m\u001b[0mreshape\u001b[0m\u001b[0;34m(\u001b[0m\u001b[0;34m(\u001b[0m\u001b[0;36m1\u001b[0m\u001b[0;34m,\u001b[0m\u001b[0;34m)\u001b[0m \u001b[0;34m+\u001b[0m \u001b[0mx\u001b[0m\u001b[0;34m.\u001b[0m\u001b[0mshape\u001b[0m\u001b[0;34m)\u001b[0m\u001b[0;34m\u001b[0m\u001b[0m\n\u001b[1;32m      5\u001b[0m \u001b[0;34m\u001b[0m\u001b[0m\n",
            "\u001b[0;32m/Applications/anaconda3/lib/python3.6/site-packages/keras_preprocessing/image.py\u001b[0m in \u001b[0;36mload_img\u001b[0;34m(path, grayscale, color_mode, target_size, interpolation)\u001b[0m\n\u001b[1;32m    496\u001b[0m         raise ImportError('Could not import PIL.Image. '\n\u001b[1;32m    497\u001b[0m                           'The use of `array_to_img` requires PIL.')\n\u001b[0;32m--> 498\u001b[0;31m     \u001b[0mimg\u001b[0m \u001b[0;34m=\u001b[0m \u001b[0mpil_image\u001b[0m\u001b[0;34m.\u001b[0m\u001b[0mopen\u001b[0m\u001b[0;34m(\u001b[0m\u001b[0mpath\u001b[0m\u001b[0;34m)\u001b[0m\u001b[0;34m\u001b[0m\u001b[0m\n\u001b[0m\u001b[1;32m    499\u001b[0m     \u001b[0;32mif\u001b[0m \u001b[0mcolor_mode\u001b[0m \u001b[0;34m==\u001b[0m \u001b[0;34m'grayscale'\u001b[0m\u001b[0;34m:\u001b[0m\u001b[0;34m\u001b[0m\u001b[0m\n\u001b[1;32m    500\u001b[0m         \u001b[0;32mif\u001b[0m \u001b[0mimg\u001b[0m\u001b[0;34m.\u001b[0m\u001b[0mmode\u001b[0m \u001b[0;34m!=\u001b[0m \u001b[0;34m'L'\u001b[0m\u001b[0;34m:\u001b[0m\u001b[0;34m\u001b[0m\u001b[0m\n",
            "\u001b[0;32m/Applications/anaconda3/lib/python3.6/site-packages/PIL/Image.py\u001b[0m in \u001b[0;36mopen\u001b[0;34m(fp, mode)\u001b[0m\n\u001b[1;32m   2546\u001b[0m \u001b[0;34m\u001b[0m\u001b[0m\n\u001b[1;32m   2547\u001b[0m     \u001b[0;32mif\u001b[0m \u001b[0mfilename\u001b[0m\u001b[0;34m:\u001b[0m\u001b[0;34m\u001b[0m\u001b[0m\n\u001b[0;32m-> 2548\u001b[0;31m         \u001b[0mfp\u001b[0m \u001b[0;34m=\u001b[0m \u001b[0mbuiltins\u001b[0m\u001b[0;34m.\u001b[0m\u001b[0mopen\u001b[0m\u001b[0;34m(\u001b[0m\u001b[0mfilename\u001b[0m\u001b[0;34m,\u001b[0m \u001b[0;34m\"rb\"\u001b[0m\u001b[0;34m)\u001b[0m\u001b[0;34m\u001b[0m\u001b[0m\n\u001b[0m\u001b[1;32m   2549\u001b[0m         \u001b[0mexclusive_fp\u001b[0m \u001b[0;34m=\u001b[0m \u001b[0;32mTrue\u001b[0m\u001b[0;34m\u001b[0m\u001b[0m\n\u001b[1;32m   2550\u001b[0m \u001b[0;34m\u001b[0m\u001b[0m\n",
            "\u001b[0;31mFileNotFoundError\u001b[0m: [Errno 2] No such file or directory: 'data/train/cats/cat.0.jpg'"
          ]
        }
      ]
    },
    {
      "cell_type": "code",
      "metadata": {
        "id": "-nRaBVv5JADX",
        "colab_type": "code",
        "outputId": "ef926262-1502-4aa2-b569-8021855de731",
        "colab": {}
      },
      "source": [
        "!ls preview"
      ],
      "execution_count": 0,
      "outputs": [
        {
          "output_type": "stream",
          "text": [
            "aug2_0_125.jpg\t  train_10_2638.jpg  train_1_6767.jpg\ttrain_4_3297.jpg\n",
            "aug2_0_1805.jpg   train_10_3001.jpg  train_17_2432.jpg\ttrain_4_3753.jpg\n",
            "aug2_0_1983.jpg   train_11_4831.jpg  train_17_5031.jpg\ttrain_5_2054.jpg\n",
            "aug2_0_2253.jpg   train_11_6773.jpg  train_1_75.jpg\ttrain_5_6591.jpg\n",
            "aug2_0_3107.jpg   train_12_1168.jpg  train_18_8046.jpg\ttrain_6_6153.jpg\n",
            "aug2_0_4003.jpg   train_12_9061.jpg  train_18_8431.jpg\ttrain_6_8550.jpg\n",
            "aug2_0_6103.jpg   train_13_3936.jpg  train_19_6181.jpg\ttrain_7_6307.jpg\n",
            "aug2_0_6544.jpg   train_13_737.jpg   train_19_9408.jpg\ttrain_7_8120.jpg\n",
            "aug2_0_7307.jpg   train_14_3427.jpg  train_20_7450.jpg\ttrain_8_2649.jpg\n",
            "aug2_0_8106.jpg   train_14_7598.jpg  train_20_7602.jpg\ttrain_8_3558.jpg\n",
            "aug2_0_81.jpg\t  train_15_3216.jpg  train_2_1654.jpg\ttrain_9_3911.jpg\n",
            "aug2_0_8474.jpg   train_15_5589.jpg  train_2_8433.jpg\ttrain_9_5143.jpg\n",
            "train_0_5372.jpg  train_16_172.jpg   train_3_2508.jpg\n",
            "train_0_7289.jpg  train_16_3743.jpg  train_3_3853.jpg\n"
          ],
          "name": "stdout"
        }
      ]
    },
    {
      "cell_type": "code",
      "metadata": {
        "id": "UF6yxA8iJADl",
        "colab_type": "code",
        "colab": {}
      },
      "source": [
        "#model.load_weights('models_trained/augmented_30_epochs.h5')"
      ],
      "execution_count": 0,
      "outputs": []
    },
    {
      "cell_type": "markdown",
      "metadata": {
        "id": "xaDh9Z_DJADm",
        "colab_type": "text"
      },
      "source": [
        "### Evaluating on validation set"
      ]
    },
    {
      "cell_type": "markdown",
      "metadata": {
        "id": "qVUKbtyBJADn",
        "colab_type": "text"
      },
      "source": [
        "Computing loss and accuracy :"
      ]
    },
    {
      "cell_type": "code",
      "metadata": {
        "id": "TruG7XwsJADn",
        "colab_type": "code",
        "outputId": "b02e8b13-2669-40a0-8778-041221bdc62d",
        "colab": {}
      },
      "source": [
        "model.evaluate_generator(validation_generator, validation_samples)"
      ],
      "execution_count": 0,
      "outputs": [
        {
          "output_type": "execute_result",
          "data": {
            "text/plain": [
              "[0.57709803022086048, 0.76551231971153844]"
            ]
          },
          "metadata": {
            "tags": []
          },
          "execution_count": 15
        }
      ]
    },
    {
      "cell_type": "markdown",
      "metadata": {
        "id": "BwUd-sWEJADp",
        "colab_type": "text"
      },
      "source": [
        "Evolution of accuracy on training (blue) and validation (green) sets for 1 to 100 epochs :"
      ]
    },
    {
      "cell_type": "markdown",
      "metadata": {
        "id": "H3vVeZFNJADq",
        "colab_type": "text"
      },
      "source": [
        "![Accuracy evolution](pictures/scores_with_dataaugmentation.png)"
      ]
    },
    {
      "cell_type": "markdown",
      "metadata": {
        "id": "3cPHgftcJADq",
        "colab_type": "text"
      },
      "source": [
        "**Thanks to data-augmentation, the accuracy on the validation set improved to ~80%**"
      ]
    },
    {
      "cell_type": "markdown",
      "metadata": {
        "id": "1Zzy9R7vJADr",
        "colab_type": "text"
      },
      "source": [
        "## Using a pre-trained model"
      ]
    },
    {
      "cell_type": "markdown",
      "metadata": {
        "id": "S8PG66p3JADs",
        "colab_type": "text"
      },
      "source": [
        "The process of training a convolutionnal neural network can be very time-consuming and require a lot of datas.  \n",
        "\n",
        "We can go beyond the previous models in terms of performance and efficiency by using a general-purpose, pre-trained image classifier.  This example uses VGG16, a model trained on the ImageNet dataset - which contains millions of images classified in 1000 categories. \n",
        "\n",
        "On top of it, we add a small multi-layer perceptron and we train it on our dataset."
      ]
    },
    {
      "cell_type": "markdown",
      "metadata": {
        "id": "_FeyzVdBJADt",
        "colab_type": "text"
      },
      "source": [
        "### VGG16 + small MLP\n",
        "![VGG16 + Dense layers Schema](pictures/vgg16_original.png)"
      ]
    },
    {
      "cell_type": "markdown",
      "metadata": {
        "id": "RJpnwjU8JADt",
        "colab_type": "text"
      },
      "source": [
        "#### VGG16 model is available in Keras"
      ]
    },
    {
      "cell_type": "code",
      "metadata": {
        "id": "TIeVwEB_KzQi",
        "colab_type": "code",
        "colab": {}
      },
      "source": [
        "from keras.applications import ResNet50"
      ],
      "execution_count": 0,
      "outputs": []
    },
    {
      "cell_type": "code",
      "metadata": {
        "id": "JBx1Zx8TJADu",
        "colab_type": "code",
        "outputId": "7e41f84f-1d77-4a6c-8fd4-b6db0c8ee6b6",
        "colab": {
          "base_uri": "https://localhost:8080/",
          "height": 219
        }
      },
      "source": [
        "model_pretrain = applications.resnet.ResNet50(input_shape=(128,128,3),include_top=False, weights='imagenet')\n",
        "epochs = 300\n",
        "train_samples = len(train_id)\n",
        "validation_samples = len(inval_id)"
      ],
      "execution_count": 0,
      "outputs": [
        {
          "output_type": "error",
          "ename": "AttributeError",
          "evalue": "ignored",
          "traceback": [
            "\u001b[0;31m---------------------------------------------------------------------------\u001b[0m",
            "\u001b[0;31mAttributeError\u001b[0m                            Traceback (most recent call last)",
            "\u001b[0;32m<ipython-input-44-72bad468e1e4>\u001b[0m in \u001b[0;36m<module>\u001b[0;34m()\u001b[0m\n\u001b[0;32m----> 1\u001b[0;31m \u001b[0mmodel_pretrain\u001b[0m \u001b[0;34m=\u001b[0m \u001b[0mapplications\u001b[0m\u001b[0;34m.\u001b[0m\u001b[0mresnet\u001b[0m\u001b[0;34m.\u001b[0m\u001b[0mResNet50\u001b[0m\u001b[0;34m(\u001b[0m\u001b[0minput_shape\u001b[0m\u001b[0;34m=\u001b[0m\u001b[0;34m(\u001b[0m\u001b[0;36m128\u001b[0m\u001b[0;34m,\u001b[0m\u001b[0;36m128\u001b[0m\u001b[0;34m,\u001b[0m\u001b[0;36m3\u001b[0m\u001b[0;34m)\u001b[0m\u001b[0;34m,\u001b[0m\u001b[0minclude_top\u001b[0m\u001b[0;34m=\u001b[0m\u001b[0;32mFalse\u001b[0m\u001b[0;34m,\u001b[0m \u001b[0mweights\u001b[0m\u001b[0;34m=\u001b[0m\u001b[0;34m'imagenet'\u001b[0m\u001b[0;34m)\u001b[0m\u001b[0;34m\u001b[0m\u001b[0;34m\u001b[0m\u001b[0m\n\u001b[0m\u001b[1;32m      2\u001b[0m \u001b[0mepochs\u001b[0m \u001b[0;34m=\u001b[0m \u001b[0;36m300\u001b[0m\u001b[0;34m\u001b[0m\u001b[0;34m\u001b[0m\u001b[0m\n\u001b[1;32m      3\u001b[0m \u001b[0mtrain_samples\u001b[0m \u001b[0;34m=\u001b[0m \u001b[0mlen\u001b[0m\u001b[0;34m(\u001b[0m\u001b[0mtrain_id\u001b[0m\u001b[0;34m)\u001b[0m\u001b[0;34m\u001b[0m\u001b[0;34m\u001b[0m\u001b[0m\n\u001b[1;32m      4\u001b[0m \u001b[0mvalidation_samples\u001b[0m \u001b[0;34m=\u001b[0m \u001b[0mlen\u001b[0m\u001b[0;34m(\u001b[0m\u001b[0minval_id\u001b[0m\u001b[0;34m)\u001b[0m\u001b[0;34m\u001b[0m\u001b[0;34m\u001b[0m\u001b[0m\n",
            "\u001b[0;31mAttributeError\u001b[0m: module 'keras.applications' has no attribute 'resnet'"
          ]
        }
      ]
    },
    {
      "cell_type": "code",
      "metadata": {
        "id": "Eqewqw74OBBD",
        "colab_type": "code",
        "colab": {}
      },
      "source": [
        ""
      ],
      "execution_count": 0,
      "outputs": []
    },
    {
      "cell_type": "code",
      "metadata": {
        "id": "3_QdBtffCc1P",
        "colab_type": "code",
        "outputId": "e9b3ab79-dfc7-49af-e3ca-6a14ac41c035",
        "colab": {
          "base_uri": "https://localhost:8080/",
          "height": 168
        }
      },
      "source": [
        "batch_size"
      ],
      "execution_count": 0,
      "outputs": [
        {
          "output_type": "error",
          "ename": "NameError",
          "evalue": "ignored",
          "traceback": [
            "\u001b[0;31m---------------------------------------------------------------------------\u001b[0m",
            "\u001b[0;31mNameError\u001b[0m                                 Traceback (most recent call last)",
            "\u001b[0;32m<ipython-input-1-6c43fa1057c2>\u001b[0m in \u001b[0;36m<module>\u001b[0;34m()\u001b[0m\n\u001b[0;32m----> 1\u001b[0;31m \u001b[0mbatch_size\u001b[0m\u001b[0;34m\u001b[0m\u001b[0;34m\u001b[0m\u001b[0m\n\u001b[0m",
            "\u001b[0;31mNameError\u001b[0m: name 'batch_size' is not defined"
          ]
        }
      ]
    },
    {
      "cell_type": "markdown",
      "metadata": {
        "id": "cvlCN0nsJADw",
        "colab_type": "text"
      },
      "source": [
        "### Using the VGG16 model to process samples"
      ]
    },
    {
      "cell_type": "code",
      "metadata": {
        "id": "9w-CNJvWJADx",
        "colab_type": "code",
        "colab": {}
      },
      "source": [
        "train_3chanel=np.squeeze(np.stack((train_data,) * 3, -1))\n"
      ],
      "execution_count": 0,
      "outputs": []
    },
    {
      "cell_type": "code",
      "metadata": {
        "id": "KsuLdWdCHs8b",
        "colab_type": "code",
        "colab": {}
      },
      "source": [
        "test_3chanel=np.squeeze(np.stack((inval_data,) * 3, -1))"
      ],
      "execution_count": 0,
      "outputs": []
    },
    {
      "cell_type": "code",
      "metadata": {
        "id": "t8QiEaFqJAD1",
        "colab_type": "code",
        "outputId": "63c6eef1-6ec5-48d6-c13e-abfd8e618a1a",
        "colab": {
          "base_uri": "https://localhost:8080/",
          "height": 782
        }
      },
      "source": [
        "model_pretrain.summary()"
      ],
      "execution_count": 0,
      "outputs": [
        {
          "output_type": "stream",
          "text": [
            "_________________________________________________________________\n",
            "Layer (type)                 Output Shape              Param #   \n",
            "=================================================================\n",
            "input_1 (InputLayer)         (None, 128, 128, 3)       0         \n",
            "_________________________________________________________________\n",
            "block1_conv1 (Conv2D)        (None, 128, 128, 64)      1792      \n",
            "_________________________________________________________________\n",
            "block1_conv2 (Conv2D)        (None, 128, 128, 64)      36928     \n",
            "_________________________________________________________________\n",
            "block1_pool (MaxPooling2D)   (None, 64, 64, 64)        0         \n",
            "_________________________________________________________________\n",
            "block2_conv1 (Conv2D)        (None, 64, 64, 128)       73856     \n",
            "_________________________________________________________________\n",
            "block2_conv2 (Conv2D)        (None, 64, 64, 128)       147584    \n",
            "_________________________________________________________________\n",
            "block2_pool (MaxPooling2D)   (None, 32, 32, 128)       0         \n",
            "_________________________________________________________________\n",
            "block3_conv1 (Conv2D)        (None, 32, 32, 256)       295168    \n",
            "_________________________________________________________________\n",
            "block3_conv2 (Conv2D)        (None, 32, 32, 256)       590080    \n",
            "_________________________________________________________________\n",
            "block3_conv3 (Conv2D)        (None, 32, 32, 256)       590080    \n",
            "_________________________________________________________________\n",
            "block3_pool (MaxPooling2D)   (None, 16, 16, 256)       0         \n",
            "_________________________________________________________________\n",
            "block4_conv1 (Conv2D)        (None, 16, 16, 512)       1180160   \n",
            "_________________________________________________________________\n",
            "block4_conv2 (Conv2D)        (None, 16, 16, 512)       2359808   \n",
            "_________________________________________________________________\n",
            "block4_conv3 (Conv2D)        (None, 16, 16, 512)       2359808   \n",
            "_________________________________________________________________\n",
            "block4_pool (MaxPooling2D)   (None, 8, 8, 512)         0         \n",
            "_________________________________________________________________\n",
            "block5_conv1 (Conv2D)        (None, 8, 8, 512)         2359808   \n",
            "_________________________________________________________________\n",
            "block5_conv2 (Conv2D)        (None, 8, 8, 512)         2359808   \n",
            "_________________________________________________________________\n",
            "block5_conv3 (Conv2D)        (None, 8, 8, 512)         2359808   \n",
            "_________________________________________________________________\n",
            "block5_pool (MaxPooling2D)   (None, 4, 4, 512)         0         \n",
            "=================================================================\n",
            "Total params: 14,714,688\n",
            "Trainable params: 14,714,688\n",
            "Non-trainable params: 0\n",
            "_________________________________________________________________\n"
          ],
          "name": "stdout"
        }
      ]
    },
    {
      "cell_type": "code",
      "metadata": {
        "id": "Hl7pP0LkPCrS",
        "colab_type": "code",
        "outputId": "b8bbb43d-9de8-4a40-b459-6cf24b4a61e5",
        "colab": {
          "base_uri": "https://localhost:8080/",
          "height": 241
        }
      },
      "source": [
        "!ln -sf /opt/bin/nvidia-smi /usr/bin/nvidia-smi\n",
        "!pip install gputil\n",
        "!pip install psutil\n",
        "!pip install humanize\n",
        "import psutil\n",
        "import humanize\n",
        "import os\n",
        "import GPUtil as GPU\n",
        "GPUs = GPU.getGPUs()\n",
        "\n",
        "# XXX: only one GPU on Colab and isn’t guaranteed\n",
        "gpu = GPUs[0]\n",
        "def printm():\n",
        " process = psutil.Process(os.getpid())\n",
        " print(\"Gen RAM Free: \" + humanize.naturalsize( psutil.virtual_memory().available ), \" | Proc size: \" + humanize.naturalsize( process.memory_info().rss))\n",
        " print(\"GPU RAM Free: {0:.0f}MB | Used: {1:.0f}MB | Util {2:3.0f}% | Total {3:.0f}MB\".format(gpu.memoryFree, gpu.memoryUsed, gpu.memoryUtil*100, gpu.memoryTotal))\n",
        "printm()"
      ],
      "execution_count": 0,
      "outputs": [
        {
          "output_type": "stream",
          "text": [
            "Collecting gputil\n",
            "  Downloading https://files.pythonhosted.org/packages/ed/0e/5c61eedde9f6c87713e89d794f01e378cfd9565847d4576fa627d758c554/GPUtil-1.4.0.tar.gz\n",
            "Building wheels for collected packages: gputil\n",
            "  Building wheel for gputil (setup.py) ... \u001b[?25l\u001b[?25hdone\n",
            "  Stored in directory: /root/.cache/pip/wheels/3d/77/07/80562de4bb0786e5ea186911a2c831fdd0018bda69beab71fd\n",
            "Successfully built gputil\n",
            "Installing collected packages: gputil\n",
            "Successfully installed gputil-1.4.0\n",
            "Requirement already satisfied: psutil in /usr/local/lib/python3.6/dist-packages (5.4.8)\n",
            "Requirement already satisfied: humanize in /usr/local/lib/python3.6/dist-packages (0.5.1)\n",
            "Gen RAM Free: 11.8 GB  | Proc size: 120.0 MB\n",
            "GPU RAM Free: 8938MB | Used: 2503MB | Util  22% | Total 11441MB\n"
          ],
          "name": "stdout"
        }
      ]
    },
    {
      "cell_type": "markdown",
      "metadata": {
        "id": "UKAYqlyNJAD8",
        "colab_type": "text"
      },
      "source": [
        "This is a long process, so we save the output of the VGG16 once and for all.  "
      ]
    },
    {
      "cell_type": "code",
      "metadata": {
        "id": "LX6Y-6zb6Qs1",
        "colab_type": "code",
        "outputId": "8c2c027e-fd99-4be9-daee-8cb78e63a0c8",
        "colab": {
          "base_uri": "https://localhost:8080/",
          "height": 51
        }
      },
      "source": [
        "bottleneck_features_train = model_pretrain.predict(train_3chanel,verbose=1)\n",
        "print('done for train')\n",
        "np.save(open('/content/drive/My Drive/gpu/bottleneck_features_train.npy', 'wb'), bottleneck_features_train)"
      ],
      "execution_count": 0,
      "outputs": [
        {
          "output_type": "stream",
          "text": [
            "4809/4809 [==============================] - 8s 2ms/step\n",
            "done for train\n"
          ],
          "name": "stdout"
        }
      ]
    },
    {
      "cell_type": "code",
      "metadata": {
        "id": "VPxw2CdY_38P",
        "colab_type": "code",
        "outputId": "78201df3-921e-4882-f08e-770ac62e8b40",
        "colab": {
          "base_uri": "https://localhost:8080/",
          "height": 34
        }
      },
      "source": [
        "bottleneck_features_train.shape"
      ],
      "execution_count": 0,
      "outputs": [
        {
          "output_type": "execute_result",
          "data": {
            "text/plain": [
              "(4809, 4, 4, 512)"
            ]
          },
          "metadata": {
            "tags": []
          },
          "execution_count": 26
        }
      ]
    },
    {
      "cell_type": "code",
      "metadata": {
        "id": "6ZhRX6aL6mOi",
        "colab_type": "code",
        "outputId": "eec09225-6b0a-454d-89b1-d02367a00ac1",
        "colab": {
          "base_uri": "https://localhost:8080/",
          "height": 34
        }
      },
      "source": [
        "bottleneck_features_train1.shape"
      ],
      "execution_count": 0,
      "outputs": [
        {
          "output_type": "execute_result",
          "data": {
            "text/plain": [
              "(2809, 4, 4, 512)"
            ]
          },
          "metadata": {
            "tags": []
          },
          "execution_count": 19
        }
      ]
    },
    {
      "cell_type": "code",
      "metadata": {
        "id": "Xarfoz-qK804",
        "colab_type": "code",
        "outputId": "fe48495d-8a3c-433e-a570-512c9685f9de",
        "colab": {
          "base_uri": "https://localhost:8080/",
          "height": 51
        }
      },
      "source": [
        "bottleneck_features_validation = model_pretrain.predict(test_3chanel,verbose=1)\n",
        "print('done for test')\n",
        "np.save(open('/content/drive/My Drive/gpu/bottleneck_features_validation.npy', 'wb'), bottleneck_features_validation)"
      ],
      "execution_count": 0,
      "outputs": [
        {
          "output_type": "stream",
          "text": [
            "1346/1346 [==============================] - 3s 2ms/step\n",
            "done for test\n"
          ],
          "name": "stdout"
        }
      ]
    },
    {
      "cell_type": "markdown",
      "metadata": {
        "id": "Nhh89ZAcJAD_",
        "colab_type": "text"
      },
      "source": [
        "Now we can load it..."
      ]
    },
    {
      "cell_type": "code",
      "metadata": {
        "id": "SuYkTu2nJAEA",
        "colab_type": "code",
        "colab": {}
      },
      "source": [
        "train_feature = np.load(open('/content/drive/My Drive/gpu/bottleneck_features_train.npy', 'rb'))\n",
        "train_labels = train_label\n",
        "\n",
        "validation_feature = np.load(open('/content/drive/My Drive/gpu/bottleneck_features_validation.npy', 'rb'))\n",
        "validation_labels = inval_label\n",
        "\n",
        "\n"
      ],
      "execution_count": 0,
      "outputs": []
    },
    {
      "cell_type": "code",
      "metadata": {
        "id": "eImc2g7K7IFA",
        "colab_type": "code",
        "outputId": "a69143f9-bc24-4494-9039-1ed0b0ec331b",
        "colab": {
          "base_uri": "https://localhost:8080/",
          "height": 34
        }
      },
      "source": [
        ""
      ],
      "execution_count": 0,
      "outputs": [
        {
          "output_type": "execute_result",
          "data": {
            "text/plain": [
              "(2809, 4, 4, 512)"
            ]
          },
          "metadata": {
            "tags": []
          },
          "execution_count": 23
        }
      ]
    },
    {
      "cell_type": "markdown",
      "metadata": {
        "id": "rPtzo7WIJAEE",
        "colab_type": "text"
      },
      "source": [
        "And define and train the custom fully connected neural network :"
      ]
    },
    {
      "cell_type": "code",
      "metadata": {
        "id": "jIo83ViTJAEF",
        "colab_type": "code",
        "colab": {}
      },
      "source": [
        "model_top = Sequential()\n",
        "model_top.add(Flatten(input_shape=train_feature.shape[1:]))\n",
        "model_top.add(Dense(512, activation='relu'))\n",
        "model_top.add(Dropout(0.5))\n",
        "model_top.add(Dense(256, activation='relu'))\n",
        "model_top.add(Dropout(0.5))\n",
        "model_top.add(Dense(1, activation='sigmoid'))\n",
        "\n",
        "model_top.compile(optimizer='rmsprop', loss='binary_crossentropy', metrics=['accuracy'])\n"
      ],
      "execution_count": 0,
      "outputs": []
    },
    {
      "cell_type": "code",
      "metadata": {
        "id": "4oEzUeR8Al-L",
        "colab_type": "code",
        "outputId": "7b95efbb-a17c-4e28-b582-88e518f0c831",
        "colab": {
          "base_uri": "https://localhost:8080/",
          "height": 340
        }
      },
      "source": [
        "model_top.summary()"
      ],
      "execution_count": 0,
      "outputs": [
        {
          "output_type": "stream",
          "text": [
            "_________________________________________________________________\n",
            "Layer (type)                 Output Shape              Param #   \n",
            "=================================================================\n",
            "flatten_6 (Flatten)          (None, 8192)              0         \n",
            "_________________________________________________________________\n",
            "dense_15 (Dense)             (None, 512)               4194816   \n",
            "_________________________________________________________________\n",
            "dropout_9 (Dropout)          (None, 512)               0         \n",
            "_________________________________________________________________\n",
            "dense_16 (Dense)             (None, 256)               131328    \n",
            "_________________________________________________________________\n",
            "dropout_10 (Dropout)         (None, 256)               0         \n",
            "_________________________________________________________________\n",
            "dense_17 (Dense)             (None, 1)                 257       \n",
            "=================================================================\n",
            "Total params: 4,326,401\n",
            "Trainable params: 4,326,401\n",
            "Non-trainable params: 0\n",
            "_________________________________________________________________\n"
          ],
          "name": "stdout"
        }
      ]
    },
    {
      "cell_type": "code",
      "metadata": {
        "id": "Jnm-PY0EIDQ4",
        "colab_type": "code",
        "outputId": "b4299fc0-5cce-4e61-aa97-bb64197b7495",
        "colab": {
          "base_uri": "https://localhost:8080/",
          "height": 168
        }
      },
      "source": [
        "inval_label.count(0)"
      ],
      "execution_count": 0,
      "outputs": [
        {
          "output_type": "error",
          "ename": "AttributeError",
          "evalue": "ignored",
          "traceback": [
            "\u001b[0;31m---------------------------------------------------------------------------\u001b[0m",
            "\u001b[0;31mAttributeError\u001b[0m                            Traceback (most recent call last)",
            "\u001b[0;32m<ipython-input-43-eaa69546ef3d>\u001b[0m in \u001b[0;36m<module>\u001b[0;34m()\u001b[0m\n\u001b[0;32m----> 1\u001b[0;31m \u001b[0minval_label\u001b[0m\u001b[0;34m.\u001b[0m\u001b[0mcount\u001b[0m\u001b[0;34m(\u001b[0m\u001b[0;36m0\u001b[0m\u001b[0;34m)\u001b[0m\u001b[0;34m\u001b[0m\u001b[0;34m\u001b[0m\u001b[0m\n\u001b[0m",
            "\u001b[0;31mAttributeError\u001b[0m: 'numpy.ndarray' object has no attribute 'count'"
          ]
        }
      ]
    },
    {
      "cell_type": "code",
      "metadata": {
        "id": "NpnUnCCNJAEH",
        "colab_type": "code",
        "outputId": "3d87267e-ad44-42e0-c018-d711365f16bc",
        "colab": {
          "base_uri": "https://localhost:8080/",
          "height": 10254
        }
      },
      "source": [
        "top_history=model_top.fit(train_feature, train_labels,\n",
        "        epochs=epochs, \n",
        "        batch_size=batch_size,\n",
        "        validation_data=(validation_feature, validation_labels))\n"
      ],
      "execution_count": 0,
      "outputs": [
        {
          "output_type": "stream",
          "text": [
            "Train on 4809 samples, validate on 1346 samples\n",
            "Epoch 1/300\n",
            "4809/4809 [==============================] - 1s 250us/step - loss: 0.8788 - acc: 0.6082 - val_loss: 0.6506 - val_acc: 0.6538\n",
            "Epoch 2/300\n",
            "4809/4809 [==============================] - 1s 143us/step - loss: 0.6447 - acc: 0.6475 - val_loss: 0.7284 - val_acc: 0.6538\n",
            "Epoch 3/300\n",
            "4809/4809 [==============================] - 1s 137us/step - loss: 0.6173 - acc: 0.6611 - val_loss: 0.6410 - val_acc: 0.6501\n",
            "Epoch 4/300\n",
            "4809/4809 [==============================] - 1s 135us/step - loss: 0.5918 - acc: 0.6619 - val_loss: 0.8861 - val_acc: 0.6538\n",
            "Epoch 5/300\n",
            "4809/4809 [==============================] - 1s 139us/step - loss: 0.5752 - acc: 0.6764 - val_loss: 0.6818 - val_acc: 0.6152\n",
            "Epoch 6/300\n",
            "4809/4809 [==============================] - 1s 135us/step - loss: 0.5632 - acc: 0.6812 - val_loss: 0.7216 - val_acc: 0.6166\n",
            "Epoch 7/300\n",
            "4809/4809 [==============================] - 1s 134us/step - loss: 0.5551 - acc: 0.6873 - val_loss: 0.7729 - val_acc: 0.6575\n",
            "Epoch 8/300\n",
            "4809/4809 [==============================] - 1s 137us/step - loss: 0.5385 - acc: 0.6931 - val_loss: 0.8745 - val_acc: 0.6456\n",
            "Epoch 9/300\n",
            "4809/4809 [==============================] - 1s 134us/step - loss: 0.5236 - acc: 0.6995 - val_loss: 1.1042 - val_acc: 0.6634\n",
            "Epoch 10/300\n",
            "4809/4809 [==============================] - 1s 133us/step - loss: 0.5139 - acc: 0.7209 - val_loss: 0.9904 - val_acc: 0.6597\n",
            "Epoch 11/300\n",
            "4809/4809 [==============================] - 1s 135us/step - loss: 0.4984 - acc: 0.7193 - val_loss: 0.9024 - val_acc: 0.5758\n",
            "Epoch 12/300\n",
            "4809/4809 [==============================] - 1s 134us/step - loss: 0.4952 - acc: 0.7203 - val_loss: 1.2379 - val_acc: 0.6523\n",
            "Epoch 13/300\n",
            "4809/4809 [==============================] - 1s 135us/step - loss: 0.4878 - acc: 0.7315 - val_loss: 0.9112 - val_acc: 0.5572\n",
            "Epoch 14/300\n",
            "4809/4809 [==============================] - 1s 135us/step - loss: 0.4796 - acc: 0.7361 - val_loss: 1.5402 - val_acc: 0.6530\n",
            "Epoch 15/300\n",
            "4809/4809 [==============================] - 1s 134us/step - loss: 0.4680 - acc: 0.7446 - val_loss: 1.3263 - val_acc: 0.6612\n",
            "Epoch 16/300\n",
            "4809/4809 [==============================] - 1s 140us/step - loss: 0.4580 - acc: 0.7430 - val_loss: 0.9942 - val_acc: 0.5654\n",
            "Epoch 17/300\n",
            "4809/4809 [==============================] - 1s 146us/step - loss: 0.4494 - acc: 0.7598 - val_loss: 1.1703 - val_acc: 0.6233\n",
            "Epoch 18/300\n",
            "4809/4809 [==============================] - 1s 144us/step - loss: 0.4475 - acc: 0.7588 - val_loss: 1.0877 - val_acc: 0.6419\n",
            "Epoch 19/300\n",
            "4809/4809 [==============================] - 1s 148us/step - loss: 0.4506 - acc: 0.7546 - val_loss: 1.1779 - val_acc: 0.6404\n",
            "Epoch 20/300\n",
            "4809/4809 [==============================] - 1s 146us/step - loss: 0.4242 - acc: 0.7773 - val_loss: 1.2528 - val_acc: 0.5765\n",
            "Epoch 21/300\n",
            "4809/4809 [==============================] - 1s 144us/step - loss: 0.4310 - acc: 0.7661 - val_loss: 1.6550 - val_acc: 0.6634\n",
            "Epoch 22/300\n",
            "4809/4809 [==============================] - 1s 150us/step - loss: 0.4256 - acc: 0.7796 - val_loss: 1.3171 - val_acc: 0.5468\n",
            "Epoch 23/300\n",
            "4809/4809 [==============================] - 1s 149us/step - loss: 0.4243 - acc: 0.7790 - val_loss: 1.3877 - val_acc: 0.6352\n",
            "Epoch 24/300\n",
            "4809/4809 [==============================] - 1s 147us/step - loss: 0.4172 - acc: 0.7877 - val_loss: 1.6198 - val_acc: 0.6456\n",
            "Epoch 25/300\n",
            "4809/4809 [==============================] - 1s 146us/step - loss: 0.3957 - acc: 0.7948 - val_loss: 1.7501 - val_acc: 0.6523\n",
            "Epoch 26/300\n",
            "4809/4809 [==============================] - 1s 150us/step - loss: 0.4059 - acc: 0.7829 - val_loss: 1.9910 - val_acc: 0.6605\n",
            "Epoch 27/300\n",
            "4809/4809 [==============================] - 1s 148us/step - loss: 0.4006 - acc: 0.7844 - val_loss: 1.6564 - val_acc: 0.6159\n",
            "Epoch 28/300\n",
            "4809/4809 [==============================] - 1s 145us/step - loss: 0.3943 - acc: 0.8020 - val_loss: 1.1899 - val_acc: 0.5899\n",
            "Epoch 29/300\n",
            "4809/4809 [==============================] - 1s 148us/step - loss: 0.3773 - acc: 0.8010 - val_loss: 1.2673 - val_acc: 0.5862\n",
            "Epoch 30/300\n",
            "4809/4809 [==============================] - 1s 142us/step - loss: 0.3813 - acc: 0.8070 - val_loss: 1.3221 - val_acc: 0.5869\n",
            "Epoch 31/300\n",
            "4809/4809 [==============================] - 1s 135us/step - loss: 0.3813 - acc: 0.8018 - val_loss: 1.6026 - val_acc: 0.6352\n",
            "Epoch 32/300\n",
            "4809/4809 [==============================] - 1s 135us/step - loss: 0.3795 - acc: 0.8104 - val_loss: 1.7374 - val_acc: 0.6404\n",
            "Epoch 33/300\n",
            "4809/4809 [==============================] - 1s 135us/step - loss: 0.3715 - acc: 0.8122 - val_loss: 1.4532 - val_acc: 0.6256\n",
            "Epoch 34/300\n",
            "4809/4809 [==============================] - 1s 133us/step - loss: 0.3687 - acc: 0.8089 - val_loss: 1.3733 - val_acc: 0.5446\n",
            "Epoch 35/300\n",
            "4809/4809 [==============================] - 1s 136us/step - loss: 0.3643 - acc: 0.8116 - val_loss: 1.5866 - val_acc: 0.6100\n",
            "Epoch 36/300\n",
            "4809/4809 [==============================] - 1s 133us/step - loss: 0.3625 - acc: 0.8203 - val_loss: 1.5615 - val_acc: 0.5557\n",
            "Epoch 37/300\n",
            "4809/4809 [==============================] - 1s 138us/step - loss: 0.3647 - acc: 0.8153 - val_loss: 1.7431 - val_acc: 0.6033\n",
            "Epoch 38/300\n",
            "4809/4809 [==============================] - 1s 134us/step - loss: 0.3469 - acc: 0.8228 - val_loss: 1.7968 - val_acc: 0.6367\n",
            "Epoch 39/300\n",
            "4809/4809 [==============================] - 1s 133us/step - loss: 0.3544 - acc: 0.8239 - val_loss: 1.7740 - val_acc: 0.6122\n",
            "Epoch 40/300\n",
            "4809/4809 [==============================] - 1s 135us/step - loss: 0.3565 - acc: 0.8193 - val_loss: 1.5989 - val_acc: 0.6085\n",
            "Epoch 41/300\n",
            "4809/4809 [==============================] - 1s 135us/step - loss: 0.3460 - acc: 0.8205 - val_loss: 1.9260 - val_acc: 0.5840\n",
            "Epoch 42/300\n",
            "4809/4809 [==============================] - 1s 132us/step - loss: 0.3437 - acc: 0.8249 - val_loss: 1.6093 - val_acc: 0.5773\n",
            "Epoch 43/300\n",
            "4809/4809 [==============================] - 1s 135us/step - loss: 0.3349 - acc: 0.8322 - val_loss: 1.9058 - val_acc: 0.6122\n",
            "Epoch 44/300\n",
            "4809/4809 [==============================] - 1s 135us/step - loss: 0.3241 - acc: 0.8372 - val_loss: 1.9131 - val_acc: 0.6189\n",
            "Epoch 45/300\n",
            "4809/4809 [==============================] - 1s 134us/step - loss: 0.3400 - acc: 0.8264 - val_loss: 1.7705 - val_acc: 0.5929\n",
            "Epoch 46/300\n",
            "4809/4809 [==============================] - 1s 135us/step - loss: 0.3400 - acc: 0.8239 - val_loss: 1.8694 - val_acc: 0.5921\n",
            "Epoch 47/300\n",
            "4809/4809 [==============================] - 1s 135us/step - loss: 0.3312 - acc: 0.8334 - val_loss: 1.8476 - val_acc: 0.6144\n",
            "Epoch 48/300\n",
            "4809/4809 [==============================] - 1s 135us/step - loss: 0.3310 - acc: 0.8332 - val_loss: 2.0224 - val_acc: 0.6508\n",
            "Epoch 49/300\n",
            "4809/4809 [==============================] - 1s 136us/step - loss: 0.3321 - acc: 0.8378 - val_loss: 1.9272 - val_acc: 0.6345\n",
            "Epoch 50/300\n",
            "4809/4809 [==============================] - 1s 136us/step - loss: 0.3266 - acc: 0.8409 - val_loss: 1.6271 - val_acc: 0.6055\n",
            "Epoch 51/300\n",
            "4809/4809 [==============================] - 1s 136us/step - loss: 0.3192 - acc: 0.8391 - val_loss: 1.6333 - val_acc: 0.5587\n",
            "Epoch 52/300\n",
            "4809/4809 [==============================] - 1s 136us/step - loss: 0.3226 - acc: 0.8374 - val_loss: 2.5092 - val_acc: 0.6471\n",
            "Epoch 53/300\n",
            "4809/4809 [==============================] - 1s 137us/step - loss: 0.3199 - acc: 0.8422 - val_loss: 1.9460 - val_acc: 0.5996\n",
            "Epoch 54/300\n",
            "4809/4809 [==============================] - 1s 135us/step - loss: 0.3303 - acc: 0.8428 - val_loss: 1.6904 - val_acc: 0.5847\n",
            "Epoch 55/300\n",
            "4809/4809 [==============================] - 1s 135us/step - loss: 0.3279 - acc: 0.8418 - val_loss: 2.0471 - val_acc: 0.5921\n",
            "Epoch 56/300\n",
            "4809/4809 [==============================] - 1s 134us/step - loss: 0.3102 - acc: 0.8515 - val_loss: 2.0769 - val_acc: 0.6426\n",
            "Epoch 57/300\n",
            "4809/4809 [==============================] - 1s 135us/step - loss: 0.3001 - acc: 0.8517 - val_loss: 2.0280 - val_acc: 0.5884\n",
            "Epoch 58/300\n",
            "4809/4809 [==============================] - 1s 148us/step - loss: 0.3112 - acc: 0.8494 - val_loss: 1.8885 - val_acc: 0.5453\n",
            "Epoch 59/300\n",
            "4809/4809 [==============================] - 1s 138us/step - loss: 0.3062 - acc: 0.8486 - val_loss: 1.7688 - val_acc: 0.5676\n",
            "Epoch 60/300\n",
            "4809/4809 [==============================] - 1s 137us/step - loss: 0.3152 - acc: 0.8457 - val_loss: 2.2276 - val_acc: 0.6025\n",
            "Epoch 61/300\n",
            "4809/4809 [==============================] - 1s 134us/step - loss: 0.3009 - acc: 0.8486 - val_loss: 2.2884 - val_acc: 0.6322\n",
            "Epoch 62/300\n",
            "4809/4809 [==============================] - 1s 136us/step - loss: 0.3001 - acc: 0.8551 - val_loss: 2.1873 - val_acc: 0.6122\n",
            "Epoch 63/300\n",
            "4809/4809 [==============================] - 1s 136us/step - loss: 0.2946 - acc: 0.8546 - val_loss: 2.6583 - val_acc: 0.6568\n",
            "Epoch 64/300\n",
            "4809/4809 [==============================] - 1s 134us/step - loss: 0.3058 - acc: 0.8563 - val_loss: 2.1035 - val_acc: 0.6204\n",
            "Epoch 65/300\n",
            "4809/4809 [==============================] - 1s 133us/step - loss: 0.2915 - acc: 0.8613 - val_loss: 2.5522 - val_acc: 0.6360\n",
            "Epoch 66/300\n",
            "4809/4809 [==============================] - 1s 135us/step - loss: 0.2843 - acc: 0.8665 - val_loss: 2.0244 - val_acc: 0.5840\n",
            "Epoch 67/300\n",
            "4809/4809 [==============================] - 1s 134us/step - loss: 0.3021 - acc: 0.8549 - val_loss: 2.2006 - val_acc: 0.6241\n",
            "Epoch 68/300\n",
            "4809/4809 [==============================] - 1s 138us/step - loss: 0.2932 - acc: 0.8594 - val_loss: 2.1875 - val_acc: 0.6085\n",
            "Epoch 69/300\n",
            "4809/4809 [==============================] - 1s 133us/step - loss: 0.3020 - acc: 0.8559 - val_loss: 2.0082 - val_acc: 0.5810\n",
            "Epoch 70/300\n",
            "4809/4809 [==============================] - 1s 135us/step - loss: 0.2955 - acc: 0.8574 - val_loss: 2.0926 - val_acc: 0.6189\n",
            "Epoch 71/300\n",
            "4809/4809 [==============================] - 1s 135us/step - loss: 0.2962 - acc: 0.8511 - val_loss: 2.4445 - val_acc: 0.6248\n",
            "Epoch 72/300\n",
            "4809/4809 [==============================] - 1s 134us/step - loss: 0.2916 - acc: 0.8592 - val_loss: 2.1473 - val_acc: 0.6062\n",
            "Epoch 73/300\n",
            "4809/4809 [==============================] - 1s 134us/step - loss: 0.2913 - acc: 0.8655 - val_loss: 2.5791 - val_acc: 0.6256\n",
            "Epoch 74/300\n",
            "4809/4809 [==============================] - 1s 135us/step - loss: 0.2991 - acc: 0.8532 - val_loss: 2.4362 - val_acc: 0.6152\n",
            "Epoch 75/300\n",
            "4809/4809 [==============================] - 1s 134us/step - loss: 0.2852 - acc: 0.8661 - val_loss: 2.2331 - val_acc: 0.6315\n",
            "Epoch 76/300\n",
            "4809/4809 [==============================] - 1s 134us/step - loss: 0.2859 - acc: 0.8621 - val_loss: 2.3506 - val_acc: 0.5936\n",
            "Epoch 77/300\n",
            "4809/4809 [==============================] - 1s 135us/step - loss: 0.2834 - acc: 0.8661 - val_loss: 2.6254 - val_acc: 0.6516\n",
            "Epoch 78/300\n",
            "4809/4809 [==============================] - 1s 133us/step - loss: 0.2805 - acc: 0.8644 - val_loss: 2.3327 - val_acc: 0.6218\n",
            "Epoch 79/300\n",
            "4809/4809 [==============================] - 1s 134us/step - loss: 0.2864 - acc: 0.8644 - val_loss: 2.2094 - val_acc: 0.5988\n",
            "Epoch 80/300\n",
            "4809/4809 [==============================] - 1s 132us/step - loss: 0.2846 - acc: 0.8688 - val_loss: 2.3861 - val_acc: 0.6263\n",
            "Epoch 81/300\n",
            "4809/4809 [==============================] - 1s 136us/step - loss: 0.2902 - acc: 0.8644 - val_loss: 2.5162 - val_acc: 0.6278\n",
            "Epoch 82/300\n",
            "4809/4809 [==============================] - 1s 136us/step - loss: 0.2718 - acc: 0.8640 - val_loss: 2.3045 - val_acc: 0.6122\n",
            "Epoch 83/300\n",
            "4809/4809 [==============================] - 1s 134us/step - loss: 0.2759 - acc: 0.8642 - val_loss: 2.2995 - val_acc: 0.6263\n",
            "Epoch 84/300\n",
            "4809/4809 [==============================] - 1s 138us/step - loss: 0.2762 - acc: 0.8734 - val_loss: 2.4783 - val_acc: 0.6189\n",
            "Epoch 85/300\n",
            "4809/4809 [==============================] - 1s 135us/step - loss: 0.2804 - acc: 0.8684 - val_loss: 2.5575 - val_acc: 0.6107\n",
            "Epoch 86/300\n",
            "4809/4809 [==============================] - 1s 132us/step - loss: 0.2649 - acc: 0.8732 - val_loss: 2.4422 - val_acc: 0.6114\n",
            "Epoch 87/300\n",
            "4809/4809 [==============================] - 1s 136us/step - loss: 0.2742 - acc: 0.8725 - val_loss: 3.1311 - val_acc: 0.6426\n",
            "Epoch 88/300\n",
            "4809/4809 [==============================] - 1s 135us/step - loss: 0.2889 - acc: 0.8590 - val_loss: 2.4423 - val_acc: 0.6129\n",
            "Epoch 89/300\n",
            "4809/4809 [==============================] - 1s 133us/step - loss: 0.2735 - acc: 0.8711 - val_loss: 2.4946 - val_acc: 0.6025\n",
            "Epoch 90/300\n",
            "4809/4809 [==============================] - 1s 135us/step - loss: 0.2812 - acc: 0.8709 - val_loss: 2.4574 - val_acc: 0.5899\n",
            "Epoch 91/300\n",
            "4809/4809 [==============================] - 1s 135us/step - loss: 0.2746 - acc: 0.8682 - val_loss: 1.9927 - val_acc: 0.5750\n",
            "Epoch 92/300\n",
            "4809/4809 [==============================] - 1s 135us/step - loss: 0.2746 - acc: 0.8686 - val_loss: 2.3848 - val_acc: 0.6003\n",
            "Epoch 93/300\n",
            "4809/4809 [==============================] - 1s 138us/step - loss: 0.2726 - acc: 0.8750 - val_loss: 2.5475 - val_acc: 0.6159\n",
            "Epoch 94/300\n",
            "4809/4809 [==============================] - 1s 133us/step - loss: 0.2746 - acc: 0.8705 - val_loss: 2.1346 - val_acc: 0.5944\n",
            "Epoch 95/300\n",
            "4809/4809 [==============================] - 1s 134us/step - loss: 0.2646 - acc: 0.8742 - val_loss: 2.3209 - val_acc: 0.6122\n",
            "Epoch 96/300\n",
            "4809/4809 [==============================] - 1s 135us/step - loss: 0.2751 - acc: 0.8736 - val_loss: 2.6604 - val_acc: 0.6218\n",
            "Epoch 97/300\n",
            "4809/4809 [==============================] - 1s 136us/step - loss: 0.2658 - acc: 0.8752 - val_loss: 2.5299 - val_acc: 0.5981\n",
            "Epoch 98/300\n",
            "4809/4809 [==============================] - 1s 136us/step - loss: 0.2667 - acc: 0.8804 - val_loss: 2.7869 - val_acc: 0.6456\n",
            "Epoch 99/300\n",
            "4809/4809 [==============================] - 1s 138us/step - loss: 0.2726 - acc: 0.8754 - val_loss: 2.5287 - val_acc: 0.6107\n",
            "Epoch 100/300\n",
            "4809/4809 [==============================] - 1s 135us/step - loss: 0.2694 - acc: 0.8740 - val_loss: 2.3549 - val_acc: 0.5810\n",
            "Epoch 101/300\n",
            "4809/4809 [==============================] - 1s 135us/step - loss: 0.2804 - acc: 0.8734 - val_loss: 2.3690 - val_acc: 0.6040\n",
            "Epoch 102/300\n",
            "4809/4809 [==============================] - 1s 134us/step - loss: 0.2626 - acc: 0.8779 - val_loss: 2.4356 - val_acc: 0.6226\n",
            "Epoch 103/300\n",
            "4809/4809 [==============================] - 1s 135us/step - loss: 0.2731 - acc: 0.8686 - val_loss: 2.1972 - val_acc: 0.6122\n",
            "Epoch 104/300\n",
            "4809/4809 [==============================] - 1s 136us/step - loss: 0.2615 - acc: 0.8773 - val_loss: 2.9288 - val_acc: 0.6285\n",
            "Epoch 105/300\n",
            "4809/4809 [==============================] - 1s 133us/step - loss: 0.2561 - acc: 0.8796 - val_loss: 2.4661 - val_acc: 0.5869\n",
            "Epoch 106/300\n",
            "4809/4809 [==============================] - 1s 137us/step - loss: 0.2603 - acc: 0.8800 - val_loss: 2.5810 - val_acc: 0.5936\n",
            "Epoch 107/300\n",
            "4809/4809 [==============================] - 1s 135us/step - loss: 0.2576 - acc: 0.8819 - val_loss: 2.3748 - val_acc: 0.5884\n",
            "Epoch 108/300\n",
            "4809/4809 [==============================] - 1s 133us/step - loss: 0.2618 - acc: 0.8763 - val_loss: 3.6931 - val_acc: 0.6449\n",
            "Epoch 109/300\n",
            "4809/4809 [==============================] - 1s 134us/step - loss: 0.2570 - acc: 0.8802 - val_loss: 2.5106 - val_acc: 0.5906\n",
            "Epoch 110/300\n",
            "4809/4809 [==============================] - 1s 133us/step - loss: 0.2506 - acc: 0.8858 - val_loss: 3.0464 - val_acc: 0.6308\n",
            "Epoch 111/300\n",
            "4809/4809 [==============================] - 1s 135us/step - loss: 0.2507 - acc: 0.8856 - val_loss: 2.5809 - val_acc: 0.5847\n",
            "Epoch 112/300\n",
            "4809/4809 [==============================] - 1s 136us/step - loss: 0.2589 - acc: 0.8831 - val_loss: 2.8911 - val_acc: 0.6300\n",
            "Epoch 113/300\n",
            "4809/4809 [==============================] - 1s 137us/step - loss: 0.2508 - acc: 0.8875 - val_loss: 2.7732 - val_acc: 0.6389\n",
            "Epoch 114/300\n",
            "4809/4809 [==============================] - 1s 149us/step - loss: 0.2610 - acc: 0.8840 - val_loss: 2.5634 - val_acc: 0.5899\n",
            "Epoch 115/300\n",
            "4809/4809 [==============================] - 1s 151us/step - loss: 0.2490 - acc: 0.8844 - val_loss: 2.2814 - val_acc: 0.5810\n",
            "Epoch 116/300\n",
            "4809/4809 [==============================] - 1s 149us/step - loss: 0.2664 - acc: 0.8811 - val_loss: 2.8262 - val_acc: 0.6330\n",
            "Epoch 117/300\n",
            "4809/4809 [==============================] - 1s 147us/step - loss: 0.2554 - acc: 0.8846 - val_loss: 2.4519 - val_acc: 0.5802\n",
            "Epoch 118/300\n",
            "4809/4809 [==============================] - 1s 151us/step - loss: 0.2533 - acc: 0.8798 - val_loss: 2.5551 - val_acc: 0.6025\n",
            "Epoch 119/300\n",
            "4809/4809 [==============================] - 1s 150us/step - loss: 0.2494 - acc: 0.8879 - val_loss: 2.4900 - val_acc: 0.6033\n",
            "Epoch 120/300\n",
            "4809/4809 [==============================] - 1s 149us/step - loss: 0.2486 - acc: 0.8888 - val_loss: 2.4939 - val_acc: 0.5802\n",
            "Epoch 121/300\n",
            "4809/4809 [==============================] - 1s 138us/step - loss: 0.2558 - acc: 0.8823 - val_loss: 2.7781 - val_acc: 0.6293\n",
            "Epoch 122/300\n",
            "4809/4809 [==============================] - 1s 139us/step - loss: 0.2580 - acc: 0.8798 - val_loss: 2.4554 - val_acc: 0.6174\n",
            "Epoch 123/300\n",
            "4809/4809 [==============================] - 1s 132us/step - loss: 0.2503 - acc: 0.8840 - val_loss: 2.8581 - val_acc: 0.6285\n",
            "Epoch 124/300\n",
            "4809/4809 [==============================] - 1s 136us/step - loss: 0.2530 - acc: 0.8817 - val_loss: 2.5691 - val_acc: 0.5988\n",
            "Epoch 125/300\n",
            "4809/4809 [==============================] - 1s 135us/step - loss: 0.2453 - acc: 0.8912 - val_loss: 2.3961 - val_acc: 0.5921\n",
            "Epoch 126/300\n",
            "4809/4809 [==============================] - 1s 133us/step - loss: 0.2561 - acc: 0.8825 - val_loss: 2.9993 - val_acc: 0.6464\n",
            "Epoch 127/300\n",
            "4809/4809 [==============================] - 1s 136us/step - loss: 0.2585 - acc: 0.8858 - val_loss: 2.7794 - val_acc: 0.6196\n",
            "Epoch 128/300\n",
            "4809/4809 [==============================] - 1s 134us/step - loss: 0.2473 - acc: 0.8888 - val_loss: 2.3563 - val_acc: 0.5765\n",
            "Epoch 129/300\n",
            "4809/4809 [==============================] - 1s 134us/step - loss: 0.2582 - acc: 0.8819 - val_loss: 2.7070 - val_acc: 0.6263\n",
            "Epoch 130/300\n",
            "4809/4809 [==============================] - 1s 134us/step - loss: 0.2460 - acc: 0.8881 - val_loss: 3.0150 - val_acc: 0.6263\n",
            "Epoch 131/300\n",
            "4809/4809 [==============================] - 1s 135us/step - loss: 0.2503 - acc: 0.8885 - val_loss: 2.6560 - val_acc: 0.6114\n",
            "Epoch 132/300\n",
            "4809/4809 [==============================] - 1s 134us/step - loss: 0.2442 - acc: 0.8917 - val_loss: 3.1040 - val_acc: 0.6189\n",
            "Epoch 133/300\n",
            "4809/4809 [==============================] - 1s 136us/step - loss: 0.2563 - acc: 0.8858 - val_loss: 2.4421 - val_acc: 0.5847\n",
            "Epoch 134/300\n",
            "4809/4809 [==============================] - 1s 133us/step - loss: 0.2337 - acc: 0.8969 - val_loss: 2.9642 - val_acc: 0.6092\n",
            "Epoch 135/300\n",
            "4809/4809 [==============================] - 1s 135us/step - loss: 0.2409 - acc: 0.8900 - val_loss: 2.7691 - val_acc: 0.6010\n",
            "Epoch 136/300\n",
            "4809/4809 [==============================] - 1s 133us/step - loss: 0.2467 - acc: 0.8919 - val_loss: 2.9349 - val_acc: 0.6308\n",
            "Epoch 137/300\n",
            "4809/4809 [==============================] - 1s 135us/step - loss: 0.2364 - acc: 0.8894 - val_loss: 3.5422 - val_acc: 0.6456\n",
            "Epoch 138/300\n",
            "4809/4809 [==============================] - 1s 144us/step - loss: 0.2516 - acc: 0.8873 - val_loss: 2.5271 - val_acc: 0.5973\n",
            "Epoch 139/300\n",
            "4809/4809 [==============================] - 1s 147us/step - loss: 0.2303 - acc: 0.8964 - val_loss: 2.7691 - val_acc: 0.5899\n",
            "Epoch 140/300\n",
            "4809/4809 [==============================] - 1s 147us/step - loss: 0.2441 - acc: 0.8894 - val_loss: 3.0504 - val_acc: 0.6166\n",
            "Epoch 141/300\n",
            "4809/4809 [==============================] - 1s 148us/step - loss: 0.2468 - acc: 0.8908 - val_loss: 2.6386 - val_acc: 0.5884\n",
            "Epoch 142/300\n",
            "4809/4809 [==============================] - 1s 148us/step - loss: 0.2435 - acc: 0.8873 - val_loss: 2.6652 - val_acc: 0.6152\n",
            "Epoch 143/300\n",
            "4809/4809 [==============================] - 1s 145us/step - loss: 0.2522 - acc: 0.8873 - val_loss: 2.7983 - val_acc: 0.6018\n",
            "Epoch 144/300\n",
            "4809/4809 [==============================] - 1s 148us/step - loss: 0.2411 - acc: 0.8863 - val_loss: 2.7706 - val_acc: 0.5832\n",
            "Epoch 145/300\n",
            "4809/4809 [==============================] - 1s 147us/step - loss: 0.2648 - acc: 0.8815 - val_loss: 2.7228 - val_acc: 0.5944\n",
            "Epoch 146/300\n",
            "4809/4809 [==============================] - 1s 148us/step - loss: 0.2330 - acc: 0.8962 - val_loss: 3.2207 - val_acc: 0.6218\n",
            "Epoch 147/300\n",
            "4809/4809 [==============================] - 1s 147us/step - loss: 0.2530 - acc: 0.8873 - val_loss: 2.6998 - val_acc: 0.5906\n",
            "Epoch 148/300\n",
            "4809/4809 [==============================] - 1s 150us/step - loss: 0.2551 - acc: 0.8900 - val_loss: 2.4081 - val_acc: 0.5817\n",
            "Epoch 149/300\n",
            "4809/4809 [==============================] - 1s 159us/step - loss: 0.2526 - acc: 0.8875 - val_loss: 2.5932 - val_acc: 0.5609\n",
            "Epoch 150/300\n",
            "4809/4809 [==============================] - 1s 151us/step - loss: 0.2440 - acc: 0.8969 - val_loss: 2.6997 - val_acc: 0.5988\n",
            "Epoch 151/300\n",
            "4809/4809 [==============================] - 1s 147us/step - loss: 0.2447 - acc: 0.8863 - val_loss: 2.8046 - val_acc: 0.6100\n",
            "Epoch 152/300\n",
            "4809/4809 [==============================] - 1s 136us/step - loss: 0.2481 - acc: 0.8921 - val_loss: 2.4211 - val_acc: 0.5825\n",
            "Epoch 153/300\n",
            "4809/4809 [==============================] - 1s 135us/step - loss: 0.2350 - acc: 0.8931 - val_loss: 3.0415 - val_acc: 0.6196\n",
            "Epoch 154/300\n",
            "4809/4809 [==============================] - 1s 134us/step - loss: 0.2497 - acc: 0.8879 - val_loss: 2.4906 - val_acc: 0.6114\n",
            "Epoch 155/300\n",
            "4809/4809 [==============================] - 1s 133us/step - loss: 0.2470 - acc: 0.8950 - val_loss: 2.8828 - val_acc: 0.6218\n",
            "Epoch 156/300\n",
            "4809/4809 [==============================] - 1s 134us/step - loss: 0.2298 - acc: 0.9043 - val_loss: 2.6275 - val_acc: 0.5698\n",
            "Epoch 157/300\n",
            "4809/4809 [==============================] - 1s 136us/step - loss: 0.2349 - acc: 0.8890 - val_loss: 2.8606 - val_acc: 0.5944\n",
            "Epoch 158/300\n",
            "4809/4809 [==============================] - 1s 137us/step - loss: 0.2359 - acc: 0.8969 - val_loss: 2.8936 - val_acc: 0.6077\n",
            "Epoch 159/300\n",
            "4809/4809 [==============================] - 1s 154us/step - loss: 0.2331 - acc: 0.9006 - val_loss: 3.2228 - val_acc: 0.6337\n",
            "Epoch 160/300\n",
            "4809/4809 [==============================] - 1s 151us/step - loss: 0.2483 - acc: 0.8917 - val_loss: 3.0566 - val_acc: 0.6233\n",
            "Epoch 161/300\n",
            "4809/4809 [==============================] - 1s 153us/step - loss: 0.2330 - acc: 0.8956 - val_loss: 3.0347 - val_acc: 0.6114\n",
            "Epoch 162/300\n",
            "4809/4809 [==============================] - 1s 154us/step - loss: 0.2338 - acc: 0.8933 - val_loss: 3.2613 - val_acc: 0.6285\n",
            "Epoch 163/300\n",
            "4809/4809 [==============================] - 1s 153us/step - loss: 0.2327 - acc: 0.8994 - val_loss: 2.8113 - val_acc: 0.6018\n",
            "Epoch 164/300\n",
            "4809/4809 [==============================] - 1s 153us/step - loss: 0.2346 - acc: 0.8979 - val_loss: 2.5270 - val_acc: 0.5914\n",
            "Epoch 165/300\n",
            "4809/4809 [==============================] - 1s 150us/step - loss: 0.2417 - acc: 0.8962 - val_loss: 2.9810 - val_acc: 0.6062\n",
            "Epoch 166/300\n",
            "4809/4809 [==============================] - 1s 152us/step - loss: 0.2371 - acc: 0.8975 - val_loss: 2.7766 - val_acc: 0.5921\n",
            "Epoch 167/300\n",
            "4809/4809 [==============================] - 1s 151us/step - loss: 0.2381 - acc: 0.8921 - val_loss: 3.0067 - val_acc: 0.6218\n",
            "Epoch 168/300\n",
            "4809/4809 [==============================] - 1s 149us/step - loss: 0.2339 - acc: 0.8962 - val_loss: 2.8949 - val_acc: 0.6070\n",
            "Epoch 169/300\n",
            "4809/4809 [==============================] - 1s 152us/step - loss: 0.2472 - acc: 0.8896 - val_loss: 2.8816 - val_acc: 0.5966\n",
            "Epoch 170/300\n",
            "4809/4809 [==============================] - 1s 153us/step - loss: 0.2352 - acc: 0.8967 - val_loss: 3.2737 - val_acc: 0.6204\n",
            "Epoch 171/300\n",
            "4809/4809 [==============================] - 1s 152us/step - loss: 0.2399 - acc: 0.8923 - val_loss: 2.9256 - val_acc: 0.6003\n",
            "Epoch 172/300\n",
            "4809/4809 [==============================] - 1s 146us/step - loss: 0.2267 - acc: 0.9002 - val_loss: 2.9450 - val_acc: 0.5973\n",
            "Epoch 173/300\n",
            "4809/4809 [==============================] - 1s 134us/step - loss: 0.2284 - acc: 0.8991 - val_loss: 2.9126 - val_acc: 0.6018\n",
            "Epoch 174/300\n",
            "4809/4809 [==============================] - 1s 134us/step - loss: 0.2443 - acc: 0.8925 - val_loss: 2.8708 - val_acc: 0.5951\n",
            "Epoch 175/300\n",
            "4809/4809 [==============================] - 1s 136us/step - loss: 0.2347 - acc: 0.8975 - val_loss: 2.6199 - val_acc: 0.5862\n",
            "Epoch 176/300\n",
            "4809/4809 [==============================] - 1s 134us/step - loss: 0.2427 - acc: 0.8994 - val_loss: 2.6856 - val_acc: 0.5973\n",
            "Epoch 177/300\n",
            "4809/4809 [==============================] - 1s 133us/step - loss: 0.2379 - acc: 0.8985 - val_loss: 3.0540 - val_acc: 0.6114\n",
            "Epoch 178/300\n",
            "4809/4809 [==============================] - 1s 135us/step - loss: 0.2462 - acc: 0.8902 - val_loss: 3.1986 - val_acc: 0.6270\n",
            "Epoch 179/300\n",
            "4809/4809 [==============================] - 1s 137us/step - loss: 0.2348 - acc: 0.8956 - val_loss: 2.9472 - val_acc: 0.6129\n",
            "Epoch 180/300\n",
            "4809/4809 [==============================] - 1s 133us/step - loss: 0.2425 - acc: 0.8898 - val_loss: 2.8871 - val_acc: 0.6055\n",
            "Epoch 181/300\n",
            "4809/4809 [==============================] - 1s 135us/step - loss: 0.2363 - acc: 0.8956 - val_loss: 2.7857 - val_acc: 0.5892\n",
            "Epoch 182/300\n",
            "4809/4809 [==============================] - 1s 135us/step - loss: 0.2320 - acc: 0.8991 - val_loss: 3.4368 - val_acc: 0.6300\n",
            "Epoch 183/300\n",
            "4809/4809 [==============================] - 1s 133us/step - loss: 0.2341 - acc: 0.8952 - val_loss: 3.0255 - val_acc: 0.6174\n",
            "Epoch 184/300\n",
            "4809/4809 [==============================] - 1s 135us/step - loss: 0.2508 - acc: 0.8904 - val_loss: 2.8870 - val_acc: 0.5996\n",
            "Epoch 185/300\n",
            "4809/4809 [==============================] - 1s 133us/step - loss: 0.2344 - acc: 0.8948 - val_loss: 3.2442 - val_acc: 0.6092\n",
            "Epoch 186/300\n",
            "4809/4809 [==============================] - 1s 136us/step - loss: 0.2331 - acc: 0.8979 - val_loss: 2.9128 - val_acc: 0.6114\n",
            "Epoch 187/300\n",
            "4809/4809 [==============================] - 1s 138us/step - loss: 0.2462 - acc: 0.8946 - val_loss: 2.9999 - val_acc: 0.5988\n",
            "Epoch 188/300\n",
            "4809/4809 [==============================] - 1s 134us/step - loss: 0.2302 - acc: 0.8985 - val_loss: 2.6931 - val_acc: 0.5788\n",
            "Epoch 189/300\n",
            "4809/4809 [==============================] - 1s 134us/step - loss: 0.2319 - acc: 0.8989 - val_loss: 2.8206 - val_acc: 0.5996\n",
            "Epoch 190/300\n",
            "4809/4809 [==============================] - 1s 135us/step - loss: 0.2431 - acc: 0.8904 - val_loss: 2.9112 - val_acc: 0.6070\n",
            "Epoch 191/300\n",
            "4809/4809 [==============================] - 1s 136us/step - loss: 0.2426 - acc: 0.8888 - val_loss: 2.8164 - val_acc: 0.6077\n",
            "Epoch 192/300\n",
            "4809/4809 [==============================] - 1s 135us/step - loss: 0.2327 - acc: 0.9016 - val_loss: 2.8879 - val_acc: 0.6048\n",
            "Epoch 193/300\n",
            "4809/4809 [==============================] - 1s 135us/step - loss: 0.2341 - acc: 0.8952 - val_loss: 2.8360 - val_acc: 0.6010\n",
            "Epoch 194/300\n",
            "4809/4809 [==============================] - 1s 134us/step - loss: 0.2317 - acc: 0.8985 - val_loss: 2.8989 - val_acc: 0.5825\n",
            "Epoch 195/300\n",
            "4809/4809 [==============================] - 1s 135us/step - loss: 0.2257 - acc: 0.9002 - val_loss: 3.0373 - val_acc: 0.6174\n",
            "Epoch 196/300\n",
            "4809/4809 [==============================] - 1s 132us/step - loss: 0.2345 - acc: 0.8971 - val_loss: 2.9694 - val_acc: 0.6033\n",
            "Epoch 197/300\n",
            "4809/4809 [==============================] - 1s 134us/step - loss: 0.2402 - acc: 0.8921 - val_loss: 2.8343 - val_acc: 0.6055\n",
            "Epoch 198/300\n",
            "4809/4809 [==============================] - 1s 134us/step - loss: 0.2369 - acc: 0.8937 - val_loss: 2.8323 - val_acc: 0.6107\n",
            "Epoch 199/300\n",
            "4809/4809 [==============================] - 1s 133us/step - loss: 0.2327 - acc: 0.8906 - val_loss: 2.9338 - val_acc: 0.5966\n",
            "Epoch 200/300\n",
            "4809/4809 [==============================] - 1s 135us/step - loss: 0.2518 - acc: 0.8977 - val_loss: 2.7789 - val_acc: 0.5966\n",
            "Epoch 201/300\n",
            "4809/4809 [==============================] - 1s 136us/step - loss: 0.2410 - acc: 0.8946 - val_loss: 2.8833 - val_acc: 0.5921\n",
            "Epoch 202/300\n",
            "4809/4809 [==============================] - 1s 133us/step - loss: 0.2335 - acc: 0.8952 - val_loss: 2.9176 - val_acc: 0.5958\n",
            "Epoch 203/300\n",
            "4809/4809 [==============================] - 1s 134us/step - loss: 0.2349 - acc: 0.9031 - val_loss: 2.9617 - val_acc: 0.5899\n",
            "Epoch 204/300\n",
            "4809/4809 [==============================] - 1s 135us/step - loss: 0.2344 - acc: 0.9010 - val_loss: 2.6943 - val_acc: 0.5765\n",
            "Epoch 205/300\n",
            "4809/4809 [==============================] - 1s 133us/step - loss: 0.2407 - acc: 0.8948 - val_loss: 2.7942 - val_acc: 0.5832\n",
            "Epoch 206/300\n",
            "4809/4809 [==============================] - 1s 138us/step - loss: 0.2345 - acc: 0.8979 - val_loss: 3.4934 - val_acc: 0.6278\n",
            "Epoch 207/300\n",
            "4809/4809 [==============================] - 1s 133us/step - loss: 0.2378 - acc: 0.8931 - val_loss: 2.8492 - val_acc: 0.5840\n",
            "Epoch 208/300\n",
            "4809/4809 [==============================] - 1s 135us/step - loss: 0.2166 - acc: 0.9041 - val_loss: 3.1431 - val_acc: 0.6003\n",
            "Epoch 209/300\n",
            "4809/4809 [==============================] - 1s 135us/step - loss: 0.2332 - acc: 0.8960 - val_loss: 3.2882 - val_acc: 0.6129\n",
            "Epoch 210/300\n",
            "4809/4809 [==============================] - 1s 134us/step - loss: 0.2349 - acc: 0.8981 - val_loss: 2.7917 - val_acc: 0.5884\n",
            "Epoch 211/300\n",
            "4809/4809 [==============================] - 1s 135us/step - loss: 0.2258 - acc: 0.9041 - val_loss: 2.9202 - val_acc: 0.5869\n",
            "Epoch 212/300\n",
            "4809/4809 [==============================] - 1s 135us/step - loss: 0.2355 - acc: 0.9006 - val_loss: 2.9081 - val_acc: 0.5877\n",
            "Epoch 213/300\n",
            "4809/4809 [==============================] - 1s 133us/step - loss: 0.2375 - acc: 0.8991 - val_loss: 2.9620 - val_acc: 0.5966\n",
            "Epoch 214/300\n",
            "4809/4809 [==============================] - 1s 134us/step - loss: 0.2250 - acc: 0.9010 - val_loss: 2.8579 - val_acc: 0.6003\n",
            "Epoch 215/300\n",
            "4809/4809 [==============================] - 1s 133us/step - loss: 0.2257 - acc: 0.8960 - val_loss: 3.2036 - val_acc: 0.6114\n",
            "Epoch 216/300\n",
            "4809/4809 [==============================] - 1s 133us/step - loss: 0.2285 - acc: 0.8979 - val_loss: 3.2353 - val_acc: 0.6055\n",
            "Epoch 217/300\n",
            "4809/4809 [==============================] - 1s 137us/step - loss: 0.2376 - acc: 0.8950 - val_loss: 3.1488 - val_acc: 0.6166\n",
            "Epoch 218/300\n",
            "4809/4809 [==============================] - 1s 133us/step - loss: 0.2279 - acc: 0.9016 - val_loss: 3.1012 - val_acc: 0.5996\n",
            "Epoch 219/300\n",
            "4809/4809 [==============================] - 1s 134us/step - loss: 0.2201 - acc: 0.8998 - val_loss: 3.2376 - val_acc: 0.6196\n",
            "Epoch 220/300\n",
            "4809/4809 [==============================] - 1s 134us/step - loss: 0.2247 - acc: 0.8981 - val_loss: 3.3160 - val_acc: 0.6129\n",
            "Epoch 221/300\n",
            "4809/4809 [==============================] - 1s 133us/step - loss: 0.2443 - acc: 0.8937 - val_loss: 2.7893 - val_acc: 0.5936\n",
            "Epoch 222/300\n",
            "4809/4809 [==============================] - 1s 137us/step - loss: 0.2354 - acc: 0.8956 - val_loss: 3.1726 - val_acc: 0.6092\n",
            "Epoch 223/300\n",
            "4809/4809 [==============================] - 1s 134us/step - loss: 0.2230 - acc: 0.9012 - val_loss: 3.1350 - val_acc: 0.6085\n",
            "Epoch 224/300\n",
            "4809/4809 [==============================] - 1s 132us/step - loss: 0.2237 - acc: 0.9004 - val_loss: 3.1543 - val_acc: 0.6003\n",
            "Epoch 225/300\n",
            "4809/4809 [==============================] - 1s 135us/step - loss: 0.2197 - acc: 0.9029 - val_loss: 3.0707 - val_acc: 0.5944\n",
            "Epoch 226/300\n",
            "4809/4809 [==============================] - 1s 132us/step - loss: 0.2334 - acc: 0.8991 - val_loss: 3.1049 - val_acc: 0.5966\n",
            "Epoch 227/300\n",
            "4809/4809 [==============================] - 1s 134us/step - loss: 0.2276 - acc: 0.8977 - val_loss: 2.9824 - val_acc: 0.5929\n",
            "Epoch 228/300\n",
            "4809/4809 [==============================] - 1s 136us/step - loss: 0.2235 - acc: 0.9070 - val_loss: 3.1144 - val_acc: 0.6070\n",
            "Epoch 229/300\n",
            "4809/4809 [==============================] - 1s 133us/step - loss: 0.2362 - acc: 0.8973 - val_loss: 3.2061 - val_acc: 0.6092\n",
            "Epoch 230/300\n",
            "4809/4809 [==============================] - 1s 134us/step - loss: 0.2214 - acc: 0.9041 - val_loss: 2.7775 - val_acc: 0.5817\n",
            "Epoch 231/300\n",
            "4809/4809 [==============================] - 1s 134us/step - loss: 0.2311 - acc: 0.8983 - val_loss: 3.1042 - val_acc: 0.6085\n",
            "Epoch 232/300\n",
            "4809/4809 [==============================] - 1s 134us/step - loss: 0.2335 - acc: 0.8937 - val_loss: 3.0618 - val_acc: 0.6010\n",
            "Epoch 233/300\n",
            "4809/4809 [==============================] - 1s 133us/step - loss: 0.2369 - acc: 0.9008 - val_loss: 3.0843 - val_acc: 0.5981\n",
            "Epoch 234/300\n",
            "4809/4809 [==============================] - 1s 134us/step - loss: 0.2186 - acc: 0.8996 - val_loss: 3.0671 - val_acc: 0.5936\n",
            "Epoch 235/300\n",
            "4809/4809 [==============================] - 1s 137us/step - loss: 0.2323 - acc: 0.9016 - val_loss: 3.1766 - val_acc: 0.6070\n",
            "Epoch 236/300\n",
            "4809/4809 [==============================] - 1s 135us/step - loss: 0.2204 - acc: 0.9031 - val_loss: 2.9895 - val_acc: 0.5899\n",
            "Epoch 237/300\n",
            "4809/4809 [==============================] - 1s 133us/step - loss: 0.2173 - acc: 0.9054 - val_loss: 3.0615 - val_acc: 0.5929\n",
            "Epoch 238/300\n",
            "4809/4809 [==============================] - 1s 137us/step - loss: 0.2410 - acc: 0.8958 - val_loss: 3.0294 - val_acc: 0.5840\n",
            "Epoch 239/300\n",
            "4809/4809 [==============================] - 1s 138us/step - loss: 0.2363 - acc: 0.9025 - val_loss: 3.4026 - val_acc: 0.6077\n",
            "Epoch 240/300\n",
            "4809/4809 [==============================] - 1s 143us/step - loss: 0.2195 - acc: 0.9023 - val_loss: 3.1786 - val_acc: 0.5884\n",
            "Epoch 241/300\n",
            "4809/4809 [==============================] - 1s 135us/step - loss: 0.2188 - acc: 0.9060 - val_loss: 2.8290 - val_acc: 0.5750\n",
            "Epoch 242/300\n",
            "4809/4809 [==============================] - 1s 134us/step - loss: 0.2299 - acc: 0.8948 - val_loss: 3.0936 - val_acc: 0.5906\n",
            "Epoch 243/300\n",
            "4809/4809 [==============================] - 1s 135us/step - loss: 0.2378 - acc: 0.8969 - val_loss: 2.8214 - val_acc: 0.5728\n",
            "Epoch 244/300\n",
            "4809/4809 [==============================] - 1s 134us/step - loss: 0.2360 - acc: 0.8939 - val_loss: 3.2443 - val_acc: 0.5958\n",
            "Epoch 245/300\n",
            "4809/4809 [==============================] - 1s 133us/step - loss: 0.2176 - acc: 0.9070 - val_loss: 3.1905 - val_acc: 0.5906\n",
            "Epoch 246/300\n",
            "4809/4809 [==============================] - 1s 135us/step - loss: 0.2278 - acc: 0.9002 - val_loss: 3.1798 - val_acc: 0.6107\n",
            "Epoch 247/300\n",
            "4809/4809 [==============================] - 1s 135us/step - loss: 0.2184 - acc: 0.9048 - val_loss: 3.2045 - val_acc: 0.6048\n",
            "Epoch 248/300\n",
            "4809/4809 [==============================] - 1s 134us/step - loss: 0.2325 - acc: 0.8994 - val_loss: 3.1705 - val_acc: 0.6062\n",
            "Epoch 249/300\n",
            "4809/4809 [==============================] - 1s 134us/step - loss: 0.2515 - acc: 0.8858 - val_loss: 2.9394 - val_acc: 0.6062\n",
            "Epoch 250/300\n",
            "4809/4809 [==============================] - 1s 135us/step - loss: 0.2334 - acc: 0.8979 - val_loss: 3.1770 - val_acc: 0.6040\n",
            "Epoch 251/300\n",
            "4809/4809 [==============================] - 1s 133us/step - loss: 0.2275 - acc: 0.9019 - val_loss: 3.0600 - val_acc: 0.6003\n",
            "Epoch 252/300\n",
            "4809/4809 [==============================] - 1s 137us/step - loss: 0.2409 - acc: 0.9048 - val_loss: 2.9575 - val_acc: 0.5869\n",
            "Epoch 253/300\n",
            "4809/4809 [==============================] - 1s 135us/step - loss: 0.2241 - acc: 0.8991 - val_loss: 3.0861 - val_acc: 0.5921\n",
            "Epoch 254/300\n",
            "4809/4809 [==============================] - 1s 136us/step - loss: 0.2228 - acc: 0.9021 - val_loss: 3.3817 - val_acc: 0.6122\n",
            "Epoch 255/300\n",
            "4809/4809 [==============================] - 1s 135us/step - loss: 0.2377 - acc: 0.8987 - val_loss: 3.3130 - val_acc: 0.6174\n",
            "Epoch 256/300\n",
            "4809/4809 [==============================] - 1s 134us/step - loss: 0.2308 - acc: 0.9033 - val_loss: 3.2219 - val_acc: 0.6092\n",
            "Epoch 257/300\n",
            "4809/4809 [==============================] - 1s 134us/step - loss: 0.2286 - acc: 0.8962 - val_loss: 3.2443 - val_acc: 0.6144\n",
            "Epoch 258/300\n",
            "4809/4809 [==============================] - 1s 136us/step - loss: 0.2249 - acc: 0.9033 - val_loss: 3.1127 - val_acc: 0.5944\n",
            "Epoch 259/300\n",
            "4809/4809 [==============================] - 1s 145us/step - loss: 0.2308 - acc: 0.9031 - val_loss: 3.2324 - val_acc: 0.6062\n",
            "Epoch 260/300\n",
            "4809/4809 [==============================] - 1s 148us/step - loss: 0.2329 - acc: 0.9006 - val_loss: 2.8020 - val_acc: 0.5654\n",
            "Epoch 261/300\n",
            "4809/4809 [==============================] - 1s 147us/step - loss: 0.2301 - acc: 0.9016 - val_loss: 3.3407 - val_acc: 0.6248\n",
            "Epoch 262/300\n",
            "4809/4809 [==============================] - 1s 145us/step - loss: 0.2325 - acc: 0.8967 - val_loss: 3.1594 - val_acc: 0.6003\n",
            "Epoch 263/300\n",
            "4809/4809 [==============================] - 1s 148us/step - loss: 0.2293 - acc: 0.9000 - val_loss: 3.1185 - val_acc: 0.5944\n",
            "Epoch 264/300\n",
            "4809/4809 [==============================] - 1s 145us/step - loss: 0.2218 - acc: 0.9008 - val_loss: 3.4421 - val_acc: 0.6159\n",
            "Epoch 265/300\n",
            "4809/4809 [==============================] - 1s 146us/step - loss: 0.2309 - acc: 0.9019 - val_loss: 3.1405 - val_acc: 0.5914\n",
            "Epoch 266/300\n",
            "4809/4809 [==============================] - 1s 145us/step - loss: 0.2235 - acc: 0.9041 - val_loss: 3.1993 - val_acc: 0.6003\n",
            "Epoch 267/300\n",
            "4809/4809 [==============================] - 1s 147us/step - loss: 0.2393 - acc: 0.8981 - val_loss: 3.1598 - val_acc: 0.6018\n",
            "Epoch 268/300\n",
            "4809/4809 [==============================] - 1s 149us/step - loss: 0.2240 - acc: 0.9058 - val_loss: 3.2910 - val_acc: 0.6114\n",
            "Epoch 269/300\n",
            "4809/4809 [==============================] - 1s 146us/step - loss: 0.2489 - acc: 0.8923 - val_loss: 3.1728 - val_acc: 0.6040\n",
            "Epoch 270/300\n",
            "4809/4809 [==============================] - 1s 147us/step - loss: 0.2223 - acc: 0.9023 - val_loss: 3.3122 - val_acc: 0.6025\n",
            "Epoch 271/300\n",
            "4809/4809 [==============================] - 1s 147us/step - loss: 0.2386 - acc: 0.8937 - val_loss: 3.0918 - val_acc: 0.5914\n",
            "Epoch 272/300\n",
            "4809/4809 [==============================] - 1s 145us/step - loss: 0.2322 - acc: 0.8985 - val_loss: 3.2585 - val_acc: 0.6137\n",
            "Epoch 273/300\n",
            "4809/4809 [==============================] - 1s 140us/step - loss: 0.2338 - acc: 0.8971 - val_loss: 3.2994 - val_acc: 0.6256\n",
            "Epoch 274/300\n",
            "4809/4809 [==============================] - 1s 135us/step - loss: 0.2294 - acc: 0.9004 - val_loss: 3.8793 - val_acc: 0.6337\n",
            "Epoch 275/300\n",
            "4809/4809 [==============================] - 1s 134us/step - loss: 0.2257 - acc: 0.9027 - val_loss: 3.0742 - val_acc: 0.5958\n",
            "Epoch 276/300\n",
            "4809/4809 [==============================] - 1s 135us/step - loss: 0.2188 - acc: 0.9079 - val_loss: 3.1214 - val_acc: 0.5906\n",
            "Epoch 277/300\n",
            "4809/4809 [==============================] - 1s 137us/step - loss: 0.2299 - acc: 0.9035 - val_loss: 3.0598 - val_acc: 0.5981\n",
            "Epoch 278/300\n",
            "4809/4809 [==============================] - 1s 133us/step - loss: 0.2252 - acc: 0.9046 - val_loss: 3.4809 - val_acc: 0.6122\n",
            "Epoch 279/300\n",
            "4809/4809 [==============================] - 1s 137us/step - loss: 0.2351 - acc: 0.8956 - val_loss: 3.3492 - val_acc: 0.6062\n",
            "Epoch 280/300\n",
            "4809/4809 [==============================] - 1s 136us/step - loss: 0.2278 - acc: 0.9019 - val_loss: 2.9928 - val_acc: 0.5973\n",
            "Epoch 281/300\n",
            "4809/4809 [==============================] - 1s 134us/step - loss: 0.2399 - acc: 0.8964 - val_loss: 3.1139 - val_acc: 0.5944\n",
            "Epoch 282/300\n",
            "4809/4809 [==============================] - 1s 135us/step - loss: 0.2358 - acc: 0.8944 - val_loss: 3.1388 - val_acc: 0.5936\n",
            "Epoch 283/300\n",
            "4809/4809 [==============================] - 1s 134us/step - loss: 0.2273 - acc: 0.9010 - val_loss: 3.3594 - val_acc: 0.5966\n",
            "Epoch 284/300\n",
            "4809/4809 [==============================] - 1s 138us/step - loss: 0.2382 - acc: 0.8952 - val_loss: 3.0224 - val_acc: 0.5832\n",
            "Epoch 285/300\n",
            "4809/4809 [==============================] - 1s 135us/step - loss: 0.2238 - acc: 0.9000 - val_loss: 3.1147 - val_acc: 0.6025\n",
            "Epoch 286/300\n",
            "4809/4809 [==============================] - 1s 134us/step - loss: 0.2241 - acc: 0.9066 - val_loss: 3.2584 - val_acc: 0.6062\n",
            "Epoch 287/300\n",
            "4809/4809 [==============================] - 1s 134us/step - loss: 0.2167 - acc: 0.9043 - val_loss: 3.0896 - val_acc: 0.5921\n",
            "Epoch 288/300\n",
            "4809/4809 [==============================] - 1s 136us/step - loss: 0.2232 - acc: 0.8981 - val_loss: 3.2126 - val_acc: 0.5884\n",
            "Epoch 289/300\n",
            "4809/4809 [==============================] - 1s 132us/step - loss: 0.2285 - acc: 0.9012 - val_loss: 3.1607 - val_acc: 0.5944\n",
            "Epoch 290/300\n",
            "4809/4809 [==============================] - 1s 135us/step - loss: 0.2124 - acc: 0.9087 - val_loss: 3.2572 - val_acc: 0.5944\n",
            "Epoch 291/300\n",
            "4809/4809 [==============================] - 1s 133us/step - loss: 0.2334 - acc: 0.9023 - val_loss: 3.3591 - val_acc: 0.6033\n",
            "Epoch 292/300\n",
            "4809/4809 [==============================] - 1s 137us/step - loss: 0.2205 - acc: 0.9021 - val_loss: 3.1065 - val_acc: 0.6055\n",
            "Epoch 293/300\n",
            "4809/4809 [==============================] - 1s 137us/step - loss: 0.2200 - acc: 0.9043 - val_loss: 3.2908 - val_acc: 0.6070\n",
            "Epoch 294/300\n",
            "4809/4809 [==============================] - 1s 134us/step - loss: 0.2342 - acc: 0.8987 - val_loss: 3.0573 - val_acc: 0.5869\n",
            "Epoch 295/300\n",
            "4809/4809 [==============================] - 1s 134us/step - loss: 0.2310 - acc: 0.9016 - val_loss: 3.2953 - val_acc: 0.6010\n",
            "Epoch 296/300\n",
            "4809/4809 [==============================] - 1s 135us/step - loss: 0.2270 - acc: 0.8967 - val_loss: 3.1448 - val_acc: 0.5914\n",
            "Epoch 297/300\n",
            "4809/4809 [==============================] - 1s 132us/step - loss: 0.2376 - acc: 0.8933 - val_loss: 3.2144 - val_acc: 0.6077\n",
            "Epoch 298/300\n",
            "4809/4809 [==============================] - 1s 135us/step - loss: 0.2282 - acc: 0.8998 - val_loss: 3.3478 - val_acc: 0.6077\n",
            "Epoch 299/300\n",
            "4809/4809 [==============================] - 1s 132us/step - loss: 0.2318 - acc: 0.8991 - val_loss: 3.3398 - val_acc: 0.6062\n",
            "Epoch 300/300\n",
            "4809/4809 [==============================] - 1s 139us/step - loss: 0.2293 - acc: 0.9006 - val_loss: 3.5922 - val_acc: 0.6181\n"
          ],
          "name": "stdout"
        }
      ]
    },
    {
      "cell_type": "markdown",
      "metadata": {
        "id": "0GPgrZ70JAEJ",
        "colab_type": "text"
      },
      "source": [
        "The training process of this small neural network is very fast : ~2s per epoch"
      ]
    },
    {
      "cell_type": "code",
      "metadata": {
        "id": "YCtnCbfWJAEJ",
        "colab_type": "code",
        "colab": {}
      },
      "source": [
        "model_top.save_weights('/content/drive/My Drive/gpu/bottleneck_300_epochs.h5')"
      ],
      "execution_count": 0,
      "outputs": []
    },
    {
      "cell_type": "markdown",
      "metadata": {
        "id": "XgcNh40EJAEL",
        "colab_type": "text"
      },
      "source": [
        "### Bottleneck model evaluation"
      ]
    },
    {
      "cell_type": "code",
      "metadata": {
        "id": "Q5JmKK_AJAEM",
        "colab_type": "code",
        "colab": {}
      },
      "source": [
        "#model_top.load_weights('models/bottleneck_30_epochs.h5)"
      ],
      "execution_count": 0,
      "outputs": []
    },
    {
      "cell_type": "markdown",
      "metadata": {
        "id": "XVGlFhmNJAEQ",
        "colab_type": "text"
      },
      "source": [
        "Loss and accuracy :"
      ]
    },
    {
      "cell_type": "code",
      "metadata": {
        "id": "eDys9Y2yJAER",
        "colab_type": "code",
        "outputId": "cd67d88f-5ec8-4056-8a6d-6c5eddb870e0",
        "colab": {
          "base_uri": "https://localhost:8080/",
          "height": 51
        }
      },
      "source": [
        "model_top.evaluate(validation_data, validation_labels)"
      ],
      "execution_count": 0,
      "outputs": [
        {
          "output_type": "stream",
          "text": [
            "1346/1346 [==============================] - 0s 79us/step\n"
          ],
          "name": "stdout"
        },
        {
          "output_type": "execute_result",
          "data": {
            "text/plain": [
              "[3.592292955892339, 0.6181277860326895]"
            ]
          },
          "metadata": {
            "tags": []
          },
          "execution_count": 51
        }
      ]
    },
    {
      "cell_type": "markdown",
      "metadata": {
        "id": "nGMsSGj0JAET",
        "colab_type": "text"
      },
      "source": [
        "Evolution of accuracy on training (blue) and validation (green) sets for 1 to 32 epochs :"
      ]
    },
    {
      "cell_type": "markdown",
      "metadata": {
        "id": "4OrIs4HfJAET",
        "colab_type": "text"
      },
      "source": [
        "![Accuracy evolution](pictures/scores_with_bottleneck.png)"
      ]
    },
    {
      "cell_type": "markdown",
      "metadata": {
        "id": "qf6sY0n6JAET",
        "colab_type": "text"
      },
      "source": [
        "**We reached a 90% accuracy on the validation after ~1m of training (~20 epochs) and 8% of the samples originally available on the Kaggle competition !**"
      ]
    },
    {
      "cell_type": "markdown",
      "metadata": {
        "id": "wg0M3125JAEU",
        "colab_type": "text"
      },
      "source": [
        "## Fine-tuning the top layers of a a pre-trained network"
      ]
    },
    {
      "cell_type": "markdown",
      "metadata": {
        "id": "5Fk7NUGNJAEU",
        "colab_type": "text"
      },
      "source": [
        "Start by instantiating the VGG base and loading its weights."
      ]
    },
    {
      "cell_type": "code",
      "metadata": {
        "id": "czxweJkEJAEV",
        "colab_type": "code",
        "colab": {}
      },
      "source": [
        "from keras.layers import Dropout, Flatten, Dense, GlobalAveragePooling2D\n",
        "from keras.optimizers import Adam\n",
        "##Updated to Keras 2.0\n",
        "import os\n",
        "import numpy as np\n",
        "from keras.models import Sequential\n",
        "from keras.layers import Activation, Dropout, Flatten, Dense\n",
        "from keras.preprocessing.image import ImageDataGenerator\n",
        "from keras.layers import Convolution2D, MaxPooling2D, ZeroPadding2D\n",
        "from keras import optimizers\n",
        "from keras import applications\n",
        "from keras.models import Model\n",
        "from IPython.display import Image\n",
        "from keras.preprocessing.image import ImageDataGenerator, array_to_img, img_to_array, load_img\n"
      ],
      "execution_count": 0,
      "outputs": []
    },
    {
      "cell_type": "code",
      "metadata": {
        "id": "cJX7pOlOJAEX",
        "colab_type": "code",
        "colab": {}
      },
      "source": [
        "train_data_dir ='/Users/zhangchong/deep_learning/Open_I_abd_vs_CXRs/TRAIN'\n",
        "validation_data_dir ='/Users/zhangchong/deep_learning/Open_I_abd_vs_CXRs/VAL'\n",
        "train_samples=65\n",
        "validation_samples=10\n",
        "img_width, img_height = 150, 150"
      ],
      "execution_count": 0,
      "outputs": []
    },
    {
      "cell_type": "code",
      "metadata": {
        "id": "saEBBrRLJAEY",
        "colab_type": "code",
        "colab": {}
      },
      "source": [
        "model_vgg=applications.VGG16(weights='imagenet', include_top=False, input_shape=(128, 128, 3))"
      ],
      "execution_count": 0,
      "outputs": []
    },
    {
      "cell_type": "markdown",
      "metadata": {
        "id": "MONVplrzJAEg",
        "colab_type": "text"
      },
      "source": [
        "Build a classifier model to put on top of the convolutional model. For the fine tuning, we start with a fully trained-classifer. We will use the weights from the earlier model. And then we will add this model on top of the convolutional base."
      ]
    },
    {
      "cell_type": "code",
      "metadata": {
        "id": "v6wXXbhoJAEh",
        "colab_type": "code",
        "colab": {}
      },
      "source": [
        "model_top=Sequential()\n",
        "model_top.add(Flatten(input_shape=model_vgg.output_shape[1:]))\n",
        "model_top.add(Dense(512,activation='relu'))\n",
        "model_top.add(Dropout(0.5))\n",
        "model_top.add(Dense(256,activation='relu'))\n",
        "model_top.add(Dropout(0.5))\n",
        "model_top.add(Dense(1,activation='sigmoid'))\n",
        "model_top.load_weights('/content/drive/My Drive/gpu/bottleneck_300_epochs.h5')\n",
        "#model_vgg.add(top_model)\n",
        "model = Model(inputs = model_vgg.input, outputs = model_top(model_vgg.output))"
      ],
      "execution_count": 0,
      "outputs": []
    },
    {
      "cell_type": "code",
      "metadata": {
        "id": "t2wuQttzJAEj",
        "colab_type": "code",
        "outputId": "82b17132-7a1f-456c-9698-87b79839adb5",
        "colab": {
          "base_uri": "https://localhost:8080/",
          "height": 816
        }
      },
      "source": [
        "model.summary()"
      ],
      "execution_count": 0,
      "outputs": [
        {
          "output_type": "stream",
          "text": [
            "_________________________________________________________________\n",
            "Layer (type)                 Output Shape              Param #   \n",
            "=================================================================\n",
            "input_2 (InputLayer)         (None, 128, 128, 3)       0         \n",
            "_________________________________________________________________\n",
            "block1_conv1 (Conv2D)        (None, 128, 128, 64)      1792      \n",
            "_________________________________________________________________\n",
            "block1_conv2 (Conv2D)        (None, 128, 128, 64)      36928     \n",
            "_________________________________________________________________\n",
            "block1_pool (MaxPooling2D)   (None, 64, 64, 64)        0         \n",
            "_________________________________________________________________\n",
            "block2_conv1 (Conv2D)        (None, 64, 64, 128)       73856     \n",
            "_________________________________________________________________\n",
            "block2_conv2 (Conv2D)        (None, 64, 64, 128)       147584    \n",
            "_________________________________________________________________\n",
            "block2_pool (MaxPooling2D)   (None, 32, 32, 128)       0         \n",
            "_________________________________________________________________\n",
            "block3_conv1 (Conv2D)        (None, 32, 32, 256)       295168    \n",
            "_________________________________________________________________\n",
            "block3_conv2 (Conv2D)        (None, 32, 32, 256)       590080    \n",
            "_________________________________________________________________\n",
            "block3_conv3 (Conv2D)        (None, 32, 32, 256)       590080    \n",
            "_________________________________________________________________\n",
            "block3_pool (MaxPooling2D)   (None, 16, 16, 256)       0         \n",
            "_________________________________________________________________\n",
            "block4_conv1 (Conv2D)        (None, 16, 16, 512)       1180160   \n",
            "_________________________________________________________________\n",
            "block4_conv2 (Conv2D)        (None, 16, 16, 512)       2359808   \n",
            "_________________________________________________________________\n",
            "block4_conv3 (Conv2D)        (None, 16, 16, 512)       2359808   \n",
            "_________________________________________________________________\n",
            "block4_pool (MaxPooling2D)   (None, 8, 8, 512)         0         \n",
            "_________________________________________________________________\n",
            "block5_conv1 (Conv2D)        (None, 8, 8, 512)         2359808   \n",
            "_________________________________________________________________\n",
            "block5_conv2 (Conv2D)        (None, 8, 8, 512)         2359808   \n",
            "_________________________________________________________________\n",
            "block5_conv3 (Conv2D)        (None, 8, 8, 512)         2359808   \n",
            "_________________________________________________________________\n",
            "block5_pool (MaxPooling2D)   (None, 4, 4, 512)         0         \n",
            "_________________________________________________________________\n",
            "sequential_11 (Sequential)   (None, 1)                 4326401   \n",
            "=================================================================\n",
            "Total params: 19,041,089\n",
            "Trainable params: 11,405,825\n",
            "Non-trainable params: 7,635,264\n",
            "_________________________________________________________________\n"
          ],
          "name": "stdout"
        }
      ]
    },
    {
      "cell_type": "markdown",
      "metadata": {
        "id": "EcYb9bYcJAEl",
        "colab_type": "text"
      },
      "source": [
        "For fine turning, we only want to train a few layers.  This line will set the first 25 layers (up to the conv block) to non-trainable."
      ]
    },
    {
      "cell_type": "code",
      "metadata": {
        "id": "7Gzgiw1cJAEl",
        "colab_type": "code",
        "colab": {}
      },
      "source": [
        "for layer in model_vgg.layers[:15]:\n",
        "    layer.trainable = False\n",
        "# for layer in model_v3.layers:\n",
        "#     layer.trainable = False"
      ],
      "execution_count": 0,
      "outputs": []
    },
    {
      "cell_type": "code",
      "metadata": {
        "id": "aJnz6fHkJAEp",
        "colab_type": "code",
        "colab": {}
      },
      "source": [
        "# compile the model with a SGD/momentum optimizer\n",
        "# and a very slow learning rate.\n",
        "model.compile(loss='binary_crossentropy',\n",
        "              optimizer=optimizers.SGD(lr=1e-4, momentum=0.9),\n",
        "              metrics=['accuracy'])\n",
        "# model.compile(optimizer=Adam(lr=0.0001), loss='binary_crossentropy',metrics=['accuracy'])"
      ],
      "execution_count": 0,
      "outputs": []
    },
    {
      "cell_type": "code",
      "metadata": {
        "id": "R9ymSQHHJAEr",
        "colab_type": "code",
        "outputId": "fd874104-2719-44d3-e63c-50ff95a23416",
        "colab": {
          "base_uri": "https://localhost:8080/",
          "height": 816
        }
      },
      "source": [
        "model.summary()"
      ],
      "execution_count": 0,
      "outputs": [
        {
          "output_type": "stream",
          "text": [
            "_________________________________________________________________\n",
            "Layer (type)                 Output Shape              Param #   \n",
            "=================================================================\n",
            "input_2 (InputLayer)         (None, 128, 128, 3)       0         \n",
            "_________________________________________________________________\n",
            "block1_conv1 (Conv2D)        (None, 128, 128, 64)      1792      \n",
            "_________________________________________________________________\n",
            "block1_conv2 (Conv2D)        (None, 128, 128, 64)      36928     \n",
            "_________________________________________________________________\n",
            "block1_pool (MaxPooling2D)   (None, 64, 64, 64)        0         \n",
            "_________________________________________________________________\n",
            "block2_conv1 (Conv2D)        (None, 64, 64, 128)       73856     \n",
            "_________________________________________________________________\n",
            "block2_conv2 (Conv2D)        (None, 64, 64, 128)       147584    \n",
            "_________________________________________________________________\n",
            "block2_pool (MaxPooling2D)   (None, 32, 32, 128)       0         \n",
            "_________________________________________________________________\n",
            "block3_conv1 (Conv2D)        (None, 32, 32, 256)       295168    \n",
            "_________________________________________________________________\n",
            "block3_conv2 (Conv2D)        (None, 32, 32, 256)       590080    \n",
            "_________________________________________________________________\n",
            "block3_conv3 (Conv2D)        (None, 32, 32, 256)       590080    \n",
            "_________________________________________________________________\n",
            "block3_pool (MaxPooling2D)   (None, 16, 16, 256)       0         \n",
            "_________________________________________________________________\n",
            "block4_conv1 (Conv2D)        (None, 16, 16, 512)       1180160   \n",
            "_________________________________________________________________\n",
            "block4_conv2 (Conv2D)        (None, 16, 16, 512)       2359808   \n",
            "_________________________________________________________________\n",
            "block4_conv3 (Conv2D)        (None, 16, 16, 512)       2359808   \n",
            "_________________________________________________________________\n",
            "block4_pool (MaxPooling2D)   (None, 8, 8, 512)         0         \n",
            "_________________________________________________________________\n",
            "block5_conv1 (Conv2D)        (None, 8, 8, 512)         2359808   \n",
            "_________________________________________________________________\n",
            "block5_conv2 (Conv2D)        (None, 8, 8, 512)         2359808   \n",
            "_________________________________________________________________\n",
            "block5_conv3 (Conv2D)        (None, 8, 8, 512)         2359808   \n",
            "_________________________________________________________________\n",
            "block5_pool (MaxPooling2D)   (None, 4, 4, 512)         0         \n",
            "_________________________________________________________________\n",
            "sequential_7 (Sequential)    (None, 1)                 131585    \n",
            "=================================================================\n",
            "Total params: 14,846,273\n",
            "Trainable params: 7,211,009\n",
            "Non-trainable params: 7,635,264\n",
            "_________________________________________________________________\n"
          ],
          "name": "stdout"
        }
      ]
    },
    {
      "cell_type": "code",
      "metadata": {
        "id": "pmspMsCmO5rd",
        "colab_type": "code",
        "outputId": "3e3216fc-9e7b-43e8-fc09-5d2ec13d63e3",
        "colab": {
          "base_uri": "https://localhost:8080/",
          "height": 34
        }
      },
      "source": [
        "train_label.shape"
      ],
      "execution_count": 0,
      "outputs": [
        {
          "output_type": "execute_result",
          "data": {
            "text/plain": [
              "(4809,)"
            ]
          },
          "metadata": {
            "tags": []
          },
          "execution_count": 60
        }
      ]
    },
    {
      "cell_type": "code",
      "metadata": {
        "id": "_Wvg1tQ6Oq_r",
        "colab_type": "code",
        "outputId": "c97fb134-1eea-4ba8-f382-9e233d15016b",
        "colab": {
          "base_uri": "https://localhost:8080/",
          "height": 10254
        }
      },
      "source": [
        "batch_size=5\n",
        "model_histoty=model.fit(train_3chanel,train_label,validation_data=(test_3chanel,inval_label),verbose=1,epochs=300)"
      ],
      "execution_count": 0,
      "outputs": [
        {
          "output_type": "stream",
          "text": [
            "Train on 4809 samples, validate on 1346 samples\n",
            "Epoch 1/300\n",
            "4809/4809 [==============================] - 13s 3ms/step - loss: 0.7887 - acc: 0.4151 - val_loss: 0.6498 - val_acc: 0.6538\n",
            "Epoch 2/300\n",
            "4809/4809 [==============================] - 13s 3ms/step - loss: 0.6947 - acc: 0.5725 - val_loss: 0.6484 - val_acc: 0.6538\n",
            "Epoch 3/300\n",
            "4809/4809 [==============================] - 13s 3ms/step - loss: 0.6830 - acc: 0.5953 - val_loss: 0.6469 - val_acc: 0.6538\n",
            "Epoch 4/300\n",
            "4809/4809 [==============================] - 12s 3ms/step - loss: 0.6819 - acc: 0.5904 - val_loss: 0.6456 - val_acc: 0.6538\n",
            "Epoch 5/300\n",
            "4809/4809 [==============================] - 12s 3ms/step - loss: 0.6779 - acc: 0.6014 - val_loss: 0.6479 - val_acc: 0.6538\n",
            "Epoch 6/300\n",
            "4809/4809 [==============================] - 12s 3ms/step - loss: 0.6744 - acc: 0.6045 - val_loss: 0.6455 - val_acc: 0.6538\n",
            "Epoch 7/300\n",
            "4809/4809 [==============================] - 12s 3ms/step - loss: 0.6721 - acc: 0.6003 - val_loss: 0.6445 - val_acc: 0.6538\n",
            "Epoch 8/300\n",
            "4809/4809 [==============================] - 12s 3ms/step - loss: 0.6705 - acc: 0.6051 - val_loss: 0.6442 - val_acc: 0.6538\n",
            "Epoch 9/300\n",
            "4809/4809 [==============================] - 12s 3ms/step - loss: 0.6714 - acc: 0.6134 - val_loss: 0.6435 - val_acc: 0.6538\n",
            "Epoch 10/300\n",
            "4809/4809 [==============================] - 12s 3ms/step - loss: 0.6596 - acc: 0.6234 - val_loss: 0.6408 - val_acc: 0.6538\n",
            "Epoch 11/300\n",
            "4809/4809 [==============================] - 12s 3ms/step - loss: 0.6561 - acc: 0.6384 - val_loss: 0.6393 - val_acc: 0.6538\n",
            "Epoch 12/300\n",
            "4809/4809 [==============================] - 12s 3ms/step - loss: 0.6637 - acc: 0.6190 - val_loss: 0.6432 - val_acc: 0.6538\n",
            "Epoch 13/300\n",
            "4809/4809 [==============================] - 12s 3ms/step - loss: 0.6535 - acc: 0.6332 - val_loss: 0.6375 - val_acc: 0.6538\n",
            "Epoch 14/300\n",
            "4809/4809 [==============================] - 12s 3ms/step - loss: 0.6517 - acc: 0.6388 - val_loss: 0.6364 - val_acc: 0.6538\n",
            "Epoch 15/300\n",
            "4809/4809 [==============================] - 12s 3ms/step - loss: 0.6499 - acc: 0.6373 - val_loss: 0.6367 - val_acc: 0.6538\n",
            "Epoch 16/300\n",
            "4809/4809 [==============================] - 12s 3ms/step - loss: 0.6448 - acc: 0.6440 - val_loss: 0.6320 - val_acc: 0.6538\n",
            "Epoch 17/300\n",
            "4809/4809 [==============================] - 12s 3ms/step - loss: 0.6449 - acc: 0.6463 - val_loss: 0.6320 - val_acc: 0.6538\n",
            "Epoch 18/300\n",
            "4809/4809 [==============================] - 12s 3ms/step - loss: 0.6381 - acc: 0.6492 - val_loss: 0.6292 - val_acc: 0.6516\n",
            "Epoch 19/300\n",
            "4809/4809 [==============================] - 12s 3ms/step - loss: 0.6369 - acc: 0.6471 - val_loss: 0.6296 - val_acc: 0.6478\n",
            "Epoch 20/300\n",
            "4809/4809 [==============================] - 12s 3ms/step - loss: 0.6404 - acc: 0.6463 - val_loss: 0.6318 - val_acc: 0.6404\n",
            "Epoch 21/300\n",
            "4809/4809 [==============================] - 12s 3ms/step - loss: 0.6341 - acc: 0.6488 - val_loss: 0.6289 - val_acc: 0.6419\n",
            "Epoch 22/300\n",
            "4809/4809 [==============================] - 12s 3ms/step - loss: 0.6313 - acc: 0.6548 - val_loss: 0.6282 - val_acc: 0.6449\n",
            "Epoch 23/300\n",
            "4809/4809 [==============================] - 12s 3ms/step - loss: 0.6295 - acc: 0.6573 - val_loss: 0.6263 - val_acc: 0.6471\n",
            "Epoch 24/300\n",
            "4809/4809 [==============================] - 12s 3ms/step - loss: 0.6272 - acc: 0.6540 - val_loss: 0.6263 - val_acc: 0.6471\n",
            "Epoch 25/300\n",
            "4809/4809 [==============================] - 12s 3ms/step - loss: 0.6285 - acc: 0.6544 - val_loss: 0.6266 - val_acc: 0.6419\n",
            "Epoch 26/300\n",
            "4809/4809 [==============================] - 12s 3ms/step - loss: 0.6244 - acc: 0.6538 - val_loss: 0.6296 - val_acc: 0.6412\n",
            "Epoch 27/300\n",
            "4809/4809 [==============================] - 12s 3ms/step - loss: 0.6154 - acc: 0.6600 - val_loss: 0.6301 - val_acc: 0.6389\n",
            "Epoch 28/300\n",
            "4809/4809 [==============================] - 12s 3ms/step - loss: 0.6131 - acc: 0.6638 - val_loss: 0.6297 - val_acc: 0.6419\n",
            "Epoch 29/300\n",
            "4809/4809 [==============================] - 12s 3ms/step - loss: 0.6151 - acc: 0.6598 - val_loss: 0.6309 - val_acc: 0.6345\n",
            "Epoch 30/300\n",
            "4809/4809 [==============================] - 12s 3ms/step - loss: 0.6110 - acc: 0.6638 - val_loss: 0.6292 - val_acc: 0.6464\n",
            "Epoch 31/300\n",
            "4809/4809 [==============================] - 12s 3ms/step - loss: 0.6094 - acc: 0.6579 - val_loss: 0.6300 - val_acc: 0.6471\n",
            "Epoch 32/300\n",
            "4809/4809 [==============================] - 12s 3ms/step - loss: 0.6041 - acc: 0.6727 - val_loss: 0.6343 - val_acc: 0.6330\n",
            "Epoch 33/300\n",
            "4809/4809 [==============================] - 12s 3ms/step - loss: 0.6038 - acc: 0.6742 - val_loss: 0.6350 - val_acc: 0.6441\n",
            "Epoch 34/300\n",
            "4809/4809 [==============================] - 12s 3ms/step - loss: 0.5986 - acc: 0.6698 - val_loss: 0.6363 - val_acc: 0.6434\n",
            "Epoch 35/300\n",
            "4809/4809 [==============================] - 12s 3ms/step - loss: 0.5978 - acc: 0.6714 - val_loss: 0.6402 - val_acc: 0.6426\n",
            "Epoch 36/300\n",
            "4809/4809 [==============================] - 12s 3ms/step - loss: 0.5911 - acc: 0.6802 - val_loss: 0.6431 - val_acc: 0.6248\n",
            "Epoch 37/300\n",
            "4809/4809 [==============================] - 12s 3ms/step - loss: 0.5907 - acc: 0.6714 - val_loss: 0.6460 - val_acc: 0.6107\n",
            "Epoch 38/300\n",
            "4809/4809 [==============================] - 12s 3ms/step - loss: 0.5813 - acc: 0.6893 - val_loss: 0.6443 - val_acc: 0.6404\n",
            "Epoch 39/300\n",
            "4809/4809 [==============================] - 12s 3ms/step - loss: 0.5879 - acc: 0.6783 - val_loss: 0.6496 - val_acc: 0.6389\n",
            "Epoch 40/300\n",
            "4809/4809 [==============================] - 12s 3ms/step - loss: 0.5732 - acc: 0.6875 - val_loss: 0.6555 - val_acc: 0.6085\n",
            "Epoch 41/300\n",
            "4809/4809 [==============================] - 12s 3ms/step - loss: 0.5783 - acc: 0.6833 - val_loss: 0.6575 - val_acc: 0.6345\n",
            "Epoch 42/300\n",
            "4809/4809 [==============================] - 12s 3ms/step - loss: 0.5716 - acc: 0.6823 - val_loss: 0.6740 - val_acc: 0.6449\n",
            "Epoch 43/300\n",
            "4809/4809 [==============================] - 12s 3ms/step - loss: 0.5659 - acc: 0.6891 - val_loss: 0.6678 - val_acc: 0.5869\n",
            "Epoch 44/300\n",
            "4809/4809 [==============================] - 12s 3ms/step - loss: 0.5649 - acc: 0.6935 - val_loss: 0.6689 - val_acc: 0.6382\n",
            "Epoch 45/300\n",
            "4809/4809 [==============================] - 12s 3ms/step - loss: 0.5595 - acc: 0.6920 - val_loss: 0.6681 - val_acc: 0.6070\n",
            "Epoch 46/300\n",
            "4809/4809 [==============================] - 12s 3ms/step - loss: 0.5585 - acc: 0.6949 - val_loss: 0.6743 - val_acc: 0.6025\n",
            "Epoch 47/300\n",
            "4809/4809 [==============================] - 12s 3ms/step - loss: 0.5495 - acc: 0.7018 - val_loss: 0.6738 - val_acc: 0.6114\n",
            "Epoch 48/300\n",
            "4809/4809 [==============================] - 12s 3ms/step - loss: 0.5485 - acc: 0.7080 - val_loss: 0.6932 - val_acc: 0.6486\n",
            "Epoch 49/300\n",
            "4809/4809 [==============================] - 12s 3ms/step - loss: 0.5441 - acc: 0.7141 - val_loss: 0.6819 - val_acc: 0.6003\n",
            "Epoch 50/300\n",
            "4809/4809 [==============================] - 12s 3ms/step - loss: 0.5427 - acc: 0.7101 - val_loss: 0.6904 - val_acc: 0.6085\n",
            "Epoch 51/300\n",
            "4809/4809 [==============================] - 12s 3ms/step - loss: 0.5323 - acc: 0.7128 - val_loss: 0.7134 - val_acc: 0.6441\n",
            "Epoch 52/300\n",
            "4809/4809 [==============================] - 12s 3ms/step - loss: 0.5295 - acc: 0.7193 - val_loss: 0.6960 - val_acc: 0.6181\n",
            "Epoch 53/300\n",
            "4809/4809 [==============================] - 12s 3ms/step - loss: 0.5255 - acc: 0.7274 - val_loss: 0.7130 - val_acc: 0.6010\n",
            "Epoch 54/300\n",
            "4809/4809 [==============================] - 12s 3ms/step - loss: 0.5190 - acc: 0.7218 - val_loss: 0.7047 - val_acc: 0.6077\n",
            "Epoch 55/300\n",
            "4809/4809 [==============================] - 12s 3ms/step - loss: 0.5229 - acc: 0.7301 - val_loss: 0.7154 - val_acc: 0.5996\n",
            "Epoch 56/300\n",
            "4809/4809 [==============================] - 12s 3ms/step - loss: 0.5084 - acc: 0.7394 - val_loss: 0.7130 - val_acc: 0.5698\n",
            "Epoch 57/300\n",
            "4809/4809 [==============================] - 12s 3ms/step - loss: 0.5059 - acc: 0.7436 - val_loss: 0.7568 - val_acc: 0.6404\n",
            "Epoch 58/300\n",
            "4809/4809 [==============================] - 12s 3ms/step - loss: 0.4953 - acc: 0.7538 - val_loss: 0.7515 - val_acc: 0.6196\n",
            "Epoch 59/300\n",
            "4809/4809 [==============================] - 12s 3ms/step - loss: 0.4865 - acc: 0.7555 - val_loss: 0.7548 - val_acc: 0.6129\n",
            "Epoch 60/300\n",
            "4809/4809 [==============================] - 12s 3ms/step - loss: 0.4886 - acc: 0.7544 - val_loss: 0.7602 - val_acc: 0.6129\n",
            "Epoch 61/300\n",
            "4809/4809 [==============================] - 12s 3ms/step - loss: 0.4849 - acc: 0.7636 - val_loss: 0.7402 - val_acc: 0.5305\n",
            "Epoch 62/300\n",
            "4809/4809 [==============================] - 12s 3ms/step - loss: 0.4778 - acc: 0.7638 - val_loss: 0.8064 - val_acc: 0.6129\n",
            "Epoch 63/300\n",
            "4809/4809 [==============================] - 12s 3ms/step - loss: 0.4834 - acc: 0.7557 - val_loss: 0.7366 - val_acc: 0.4874\n",
            "Epoch 64/300\n",
            "4809/4809 [==============================] - 12s 3ms/step - loss: 0.4760 - acc: 0.7602 - val_loss: 0.7561 - val_acc: 0.5572\n",
            "Epoch 65/300\n",
            "4809/4809 [==============================] - 12s 3ms/step - loss: 0.4678 - acc: 0.7665 - val_loss: 0.7820 - val_acc: 0.6070\n",
            "Epoch 66/300\n",
            "4809/4809 [==============================] - 12s 3ms/step - loss: 0.4619 - acc: 0.7717 - val_loss: 0.7511 - val_acc: 0.5290\n",
            "Epoch 67/300\n",
            "4809/4809 [==============================] - 12s 3ms/step - loss: 0.4701 - acc: 0.7600 - val_loss: 0.8059 - val_acc: 0.6270\n",
            "Epoch 68/300\n",
            "4809/4809 [==============================] - 12s 3ms/step - loss: 0.4563 - acc: 0.7806 - val_loss: 0.8111 - val_acc: 0.6129\n",
            "Epoch 69/300\n",
            "4809/4809 [==============================] - 12s 3ms/step - loss: 0.4425 - acc: 0.7873 - val_loss: 0.8408 - val_acc: 0.6248\n",
            "Epoch 70/300\n",
            "4809/4809 [==============================] - 12s 3ms/step - loss: 0.4419 - acc: 0.7954 - val_loss: 0.8077 - val_acc: 0.5498\n",
            "Epoch 71/300\n",
            "4809/4809 [==============================] - 12s 3ms/step - loss: 0.4258 - acc: 0.8018 - val_loss: 0.8108 - val_acc: 0.6107\n",
            "Epoch 72/300\n",
            "4809/4809 [==============================] - 12s 3ms/step - loss: 0.4273 - acc: 0.8066 - val_loss: 0.7832 - val_acc: 0.5527\n",
            "Epoch 73/300\n",
            "4809/4809 [==============================] - 12s 3ms/step - loss: 0.4164 - acc: 0.8122 - val_loss: 0.8727 - val_acc: 0.6010\n",
            "Epoch 74/300\n",
            "4809/4809 [==============================] - 12s 3ms/step - loss: 0.4357 - acc: 0.7939 - val_loss: 0.8802 - val_acc: 0.6122\n",
            "Epoch 75/300\n",
            "4809/4809 [==============================] - 12s 3ms/step - loss: 0.4157 - acc: 0.8216 - val_loss: 0.8348 - val_acc: 0.5862\n",
            "Epoch 76/300\n",
            "4809/4809 [==============================] - 12s 3ms/step - loss: 0.4296 - acc: 0.7964 - val_loss: 0.8060 - val_acc: 0.4681\n",
            "Epoch 77/300\n",
            "4809/4809 [==============================] - 12s 3ms/step - loss: 0.4041 - acc: 0.8228 - val_loss: 1.0333 - val_acc: 0.6464\n",
            "Epoch 78/300\n",
            "4809/4809 [==============================] - 12s 3ms/step - loss: 0.3980 - acc: 0.8347 - val_loss: 0.8446 - val_acc: 0.5906\n",
            "Epoch 79/300\n",
            "4809/4809 [==============================] - 12s 3ms/step - loss: 0.3982 - acc: 0.8237 - val_loss: 0.8432 - val_acc: 0.5579\n",
            "Epoch 80/300\n",
            "4809/4809 [==============================] - 12s 3ms/step - loss: 0.3911 - acc: 0.8278 - val_loss: 0.8942 - val_acc: 0.5929\n",
            "Epoch 81/300\n",
            "4809/4809 [==============================] - 12s 3ms/step - loss: 0.3750 - acc: 0.8424 - val_loss: 0.8394 - val_acc: 0.5550\n",
            "Epoch 82/300\n",
            "4809/4809 [==============================] - 12s 3ms/step - loss: 0.3655 - acc: 0.8511 - val_loss: 0.9050 - val_acc: 0.5758\n",
            "Epoch 83/300\n",
            "4809/4809 [==============================] - 12s 3ms/step - loss: 0.3650 - acc: 0.8499 - val_loss: 0.9279 - val_acc: 0.5847\n",
            "Epoch 84/300\n",
            "4809/4809 [==============================] - 12s 3ms/step - loss: 0.3910 - acc: 0.8282 - val_loss: 0.9367 - val_acc: 0.5921\n",
            "Epoch 85/300\n",
            "4809/4809 [==============================] - 12s 3ms/step - loss: 0.3624 - acc: 0.8532 - val_loss: 0.9500 - val_acc: 0.5788\n",
            "Epoch 86/300\n",
            "4809/4809 [==============================] - 12s 3ms/step - loss: 0.3363 - acc: 0.8696 - val_loss: 0.9093 - val_acc: 0.5587\n",
            "Epoch 87/300\n",
            "4809/4809 [==============================] - 12s 3ms/step - loss: 0.3442 - acc: 0.8684 - val_loss: 1.1352 - val_acc: 0.6256\n",
            "Epoch 88/300\n",
            "4809/4809 [==============================] - 12s 3ms/step - loss: 0.3360 - acc: 0.8773 - val_loss: 1.0488 - val_acc: 0.5877\n",
            "Epoch 89/300\n",
            "4809/4809 [==============================] - 12s 3ms/step - loss: 0.3796 - acc: 0.8301 - val_loss: 0.9653 - val_acc: 0.5810\n",
            "Epoch 90/300\n",
            "4809/4809 [==============================] - 12s 3ms/step - loss: 0.3626 - acc: 0.8497 - val_loss: 1.2523 - val_acc: 0.6441\n",
            "Epoch 91/300\n",
            "4809/4809 [==============================] - 12s 3ms/step - loss: 0.3327 - acc: 0.8748 - val_loss: 1.1742 - val_acc: 0.6218\n",
            "Epoch 92/300\n",
            "4809/4809 [==============================] - 12s 3ms/step - loss: 0.3239 - acc: 0.8779 - val_loss: 0.9248 - val_acc: 0.5565\n",
            "Epoch 93/300\n",
            "4809/4809 [==============================] - 12s 3ms/step - loss: 0.3198 - acc: 0.8813 - val_loss: 1.0968 - val_acc: 0.6018\n",
            "Epoch 94/300\n",
            "4809/4809 [==============================] - 12s 3ms/step - loss: 0.3269 - acc: 0.8767 - val_loss: 1.0412 - val_acc: 0.5936\n",
            "Epoch 95/300\n",
            "4809/4809 [==============================] - 12s 3ms/step - loss: 0.3066 - acc: 0.8860 - val_loss: 1.0349 - val_acc: 0.6055\n",
            "Epoch 96/300\n",
            "4809/4809 [==============================] - 12s 3ms/step - loss: 0.3053 - acc: 0.8867 - val_loss: 1.0208 - val_acc: 0.5386\n",
            "Epoch 97/300\n",
            "4809/4809 [==============================] - 12s 3ms/step - loss: 0.3076 - acc: 0.8854 - val_loss: 1.3684 - val_acc: 0.6389\n",
            "Epoch 98/300\n",
            "4809/4809 [==============================] - 12s 3ms/step - loss: 0.3015 - acc: 0.8890 - val_loss: 1.1251 - val_acc: 0.5951\n",
            "Epoch 99/300\n",
            "4809/4809 [==============================] - 12s 3ms/step - loss: 0.2720 - acc: 0.9089 - val_loss: 0.9389 - val_acc: 0.5193\n",
            "Epoch 100/300\n",
            "4809/4809 [==============================] - 12s 3ms/step - loss: 0.2925 - acc: 0.8964 - val_loss: 1.2694 - val_acc: 0.6174\n",
            "Epoch 101/300\n",
            "4809/4809 [==============================] - 12s 3ms/step - loss: 0.2941 - acc: 0.8858 - val_loss: 1.3187 - val_acc: 0.6241\n",
            "Epoch 102/300\n",
            "4809/4809 [==============================] - 12s 3ms/step - loss: 0.2592 - acc: 0.9179 - val_loss: 1.5396 - val_acc: 0.6367\n",
            "Epoch 103/300\n",
            "4809/4809 [==============================] - 12s 3ms/step - loss: 0.2579 - acc: 0.9125 - val_loss: 1.2588 - val_acc: 0.5966\n",
            "Epoch 104/300\n",
            "4809/4809 [==============================] - 12s 3ms/step - loss: 0.2771 - acc: 0.9019 - val_loss: 1.4273 - val_acc: 0.6226\n",
            "Epoch 105/300\n",
            "4809/4809 [==============================] - 12s 3ms/step - loss: 0.2491 - acc: 0.9231 - val_loss: 1.2981 - val_acc: 0.6100\n",
            "Epoch 106/300\n",
            "4809/4809 [==============================] - 12s 3ms/step - loss: 0.2370 - acc: 0.9295 - val_loss: 1.1554 - val_acc: 0.5490\n",
            "Epoch 107/300\n",
            "4809/4809 [==============================] - 12s 3ms/step - loss: 0.2296 - acc: 0.9330 - val_loss: 1.4719 - val_acc: 0.6189\n",
            "Epoch 108/300\n",
            "4809/4809 [==============================] - 12s 3ms/step - loss: 0.2242 - acc: 0.9395 - val_loss: 1.4537 - val_acc: 0.6233\n",
            "Epoch 109/300\n",
            "4809/4809 [==============================] - 12s 3ms/step - loss: 0.2469 - acc: 0.9141 - val_loss: 1.3936 - val_acc: 0.6077\n",
            "Epoch 110/300\n",
            "4809/4809 [==============================] - 12s 3ms/step - loss: 0.2361 - acc: 0.9256 - val_loss: 1.4009 - val_acc: 0.6025\n",
            "Epoch 111/300\n",
            "4809/4809 [==============================] - 12s 3ms/step - loss: 0.2704 - acc: 0.9033 - val_loss: 1.6068 - val_acc: 0.6412\n",
            "Epoch 112/300\n",
            "4809/4809 [==============================] - 12s 3ms/step - loss: 0.2265 - acc: 0.9310 - val_loss: 1.4527 - val_acc: 0.6010\n",
            "Epoch 113/300\n",
            "4809/4809 [==============================] - 12s 3ms/step - loss: 0.2261 - acc: 0.9314 - val_loss: 1.3113 - val_acc: 0.5936\n",
            "Epoch 114/300\n",
            "4809/4809 [==============================] - 12s 3ms/step - loss: 0.2093 - acc: 0.9416 - val_loss: 1.4580 - val_acc: 0.6070\n",
            "Epoch 115/300\n",
            "4809/4809 [==============================] - 12s 3ms/step - loss: 0.2047 - acc: 0.9441 - val_loss: 1.7219 - val_acc: 0.6352\n",
            "Epoch 116/300\n",
            "4809/4809 [==============================] - 12s 3ms/step - loss: 0.2057 - acc: 0.9378 - val_loss: 1.5534 - val_acc: 0.6211\n",
            "Epoch 117/300\n",
            "4809/4809 [==============================] - 12s 3ms/step - loss: 0.1847 - acc: 0.9549 - val_loss: 1.1116 - val_acc: 0.5082\n",
            "Epoch 118/300\n",
            "4809/4809 [==============================] - 12s 3ms/step - loss: 0.1941 - acc: 0.9464 - val_loss: 1.9459 - val_acc: 0.6434\n",
            "Epoch 119/300\n",
            "4809/4809 [==============================] - 12s 3ms/step - loss: 0.2075 - acc: 0.9374 - val_loss: 1.8279 - val_acc: 0.6278\n",
            "Epoch 120/300\n",
            "4809/4809 [==============================] - 12s 3ms/step - loss: 0.2088 - acc: 0.9343 - val_loss: 2.2022 - val_acc: 0.6486\n",
            "Epoch 121/300\n",
            "4809/4809 [==============================] - 12s 3ms/step - loss: 0.1900 - acc: 0.9480 - val_loss: 1.7061 - val_acc: 0.6152\n",
            "Epoch 122/300\n",
            "4809/4809 [==============================] - 12s 3ms/step - loss: 0.1699 - acc: 0.9599 - val_loss: 1.4475 - val_acc: 0.5832\n",
            "Epoch 123/300\n",
            "4809/4809 [==============================] - 12s 3ms/step - loss: 0.2112 - acc: 0.9295 - val_loss: 1.7326 - val_acc: 0.6181\n",
            "Epoch 124/300\n",
            "4809/4809 [==============================] - 12s 3ms/step - loss: 0.1670 - acc: 0.9563 - val_loss: 1.9635 - val_acc: 0.6345\n",
            "Epoch 125/300\n",
            "4809/4809 [==============================] - 12s 3ms/step - loss: 0.1649 - acc: 0.9580 - val_loss: 1.9645 - val_acc: 0.6270\n",
            "Epoch 126/300\n",
            "4809/4809 [==============================] - 12s 3ms/step - loss: 0.1662 - acc: 0.9532 - val_loss: 1.8583 - val_acc: 0.6129\n",
            "Epoch 127/300\n",
            "4809/4809 [==============================] - 12s 3ms/step - loss: 0.1858 - acc: 0.9397 - val_loss: 2.2248 - val_acc: 0.6337\n",
            "Epoch 128/300\n",
            "4809/4809 [==============================] - 12s 3ms/step - loss: 0.1702 - acc: 0.9534 - val_loss: 2.0295 - val_acc: 0.6397\n",
            "Epoch 129/300\n",
            "4809/4809 [==============================] - 12s 3ms/step - loss: 0.1439 - acc: 0.9636 - val_loss: 1.8045 - val_acc: 0.6070\n",
            "Epoch 130/300\n",
            "4809/4809 [==============================] - 12s 3ms/step - loss: 0.1583 - acc: 0.9505 - val_loss: 1.6318 - val_acc: 0.5572\n",
            "Epoch 131/300\n",
            "4809/4809 [==============================] - 12s 3ms/step - loss: 0.1823 - acc: 0.9397 - val_loss: 1.9070 - val_acc: 0.6040\n",
            "Epoch 132/300\n",
            "4809/4809 [==============================] - 12s 3ms/step - loss: 0.1275 - acc: 0.9721 - val_loss: 1.9312 - val_acc: 0.6233\n",
            "Epoch 133/300\n",
            "4809/4809 [==============================] - 12s 3ms/step - loss: 0.1628 - acc: 0.9472 - val_loss: 1.8123 - val_acc: 0.5825\n",
            "Epoch 134/300\n",
            "4809/4809 [==============================] - 12s 3ms/step - loss: 0.1392 - acc: 0.9636 - val_loss: 1.6969 - val_acc: 0.5773\n",
            "Epoch 135/300\n",
            "4809/4809 [==============================] - 12s 3ms/step - loss: 0.1449 - acc: 0.9557 - val_loss: 2.5765 - val_acc: 0.6389\n",
            "Epoch 136/300\n",
            "4809/4809 [==============================] - 12s 3ms/step - loss: 0.1407 - acc: 0.9574 - val_loss: 1.7368 - val_acc: 0.5557\n",
            "Epoch 137/300\n",
            "4809/4809 [==============================] - 12s 3ms/step - loss: 0.1406 - acc: 0.9586 - val_loss: 1.9478 - val_acc: 0.6048\n",
            "Epoch 138/300\n",
            "4809/4809 [==============================] - 12s 3ms/step - loss: 0.1127 - acc: 0.9653 - val_loss: 1.8069 - val_acc: 0.5691\n",
            "Epoch 139/300\n",
            "4809/4809 [==============================] - 12s 3ms/step - loss: 0.1525 - acc: 0.9518 - val_loss: 1.8068 - val_acc: 0.5877\n",
            "Epoch 140/300\n",
            "4809/4809 [==============================] - 12s 3ms/step - loss: 0.1304 - acc: 0.9624 - val_loss: 2.0655 - val_acc: 0.6270\n",
            "Epoch 141/300\n",
            "4809/4809 [==============================] - 12s 3ms/step - loss: 0.1139 - acc: 0.9709 - val_loss: 2.3661 - val_acc: 0.6315\n",
            "Epoch 142/300\n",
            "4809/4809 [==============================] - 12s 3ms/step - loss: 0.1893 - acc: 0.9295 - val_loss: 2.2328 - val_acc: 0.6166\n",
            "Epoch 143/300\n",
            "4809/4809 [==============================] - 12s 3ms/step - loss: 0.1075 - acc: 0.9678 - val_loss: 1.7895 - val_acc: 0.5817\n",
            "Epoch 144/300\n",
            "4809/4809 [==============================] - 12s 3ms/step - loss: 0.1745 - acc: 0.9399 - val_loss: 1.8876 - val_acc: 0.6174\n",
            "Epoch 145/300\n",
            "4809/4809 [==============================] - 12s 3ms/step - loss: 0.0963 - acc: 0.9771 - val_loss: 2.6514 - val_acc: 0.6241\n",
            "Epoch 146/300\n",
            "4809/4809 [==============================] - 12s 3ms/step - loss: 0.0993 - acc: 0.9715 - val_loss: 1.9472 - val_acc: 0.5869\n",
            "Epoch 147/300\n",
            "4809/4809 [==============================] - 12s 3ms/step - loss: 0.0930 - acc: 0.9707 - val_loss: 2.0507 - val_acc: 0.5676\n",
            "Epoch 148/300\n",
            "4809/4809 [==============================] - 12s 3ms/step - loss: 0.1090 - acc: 0.9674 - val_loss: 2.3534 - val_acc: 0.6218\n",
            "Epoch 149/300\n",
            "4809/4809 [==============================] - 12s 3ms/step - loss: 0.1128 - acc: 0.9607 - val_loss: 1.9340 - val_acc: 0.5958\n",
            "Epoch 150/300\n",
            "4809/4809 [==============================] - 12s 3ms/step - loss: 0.0732 - acc: 0.9796 - val_loss: 2.8115 - val_acc: 0.6241\n",
            "Epoch 151/300\n",
            "4809/4809 [==============================] - 12s 3ms/step - loss: 0.1408 - acc: 0.9553 - val_loss: 2.4239 - val_acc: 0.6471\n",
            "Epoch 152/300\n",
            "4809/4809 [==============================] - 12s 3ms/step - loss: 0.1027 - acc: 0.9786 - val_loss: 1.8120 - val_acc: 0.6025\n",
            "Epoch 153/300\n",
            "4809/4809 [==============================] - 12s 3ms/step - loss: 0.0806 - acc: 0.9884 - val_loss: 1.7478 - val_acc: 0.5929\n",
            "Epoch 154/300\n",
            "4809/4809 [==============================] - 12s 3ms/step - loss: 0.0739 - acc: 0.9900 - val_loss: 2.0105 - val_acc: 0.6129\n",
            "Epoch 155/300\n",
            "4809/4809 [==============================] - 12s 3ms/step - loss: 0.0760 - acc: 0.9873 - val_loss: 1.8077 - val_acc: 0.5869\n",
            "Epoch 156/300\n",
            "4809/4809 [==============================] - 12s 3ms/step - loss: 0.0720 - acc: 0.9850 - val_loss: 2.4209 - val_acc: 0.6159\n",
            "Epoch 157/300\n",
            "4809/4809 [==============================] - 12s 3ms/step - loss: 0.0713 - acc: 0.9771 - val_loss: 2.9619 - val_acc: 0.6434\n",
            "Epoch 158/300\n",
            "4809/4809 [==============================] - 12s 3ms/step - loss: 0.0774 - acc: 0.9755 - val_loss: 2.1804 - val_acc: 0.6166\n",
            "Epoch 159/300\n",
            "4809/4809 [==============================] - 12s 3ms/step - loss: 0.0630 - acc: 0.9896 - val_loss: 3.1544 - val_acc: 0.5089\n",
            "Epoch 160/300\n",
            "4809/4809 [==============================] - 12s 3ms/step - loss: 0.1306 - acc: 0.9540 - val_loss: 2.8836 - val_acc: 0.5958\n",
            "Epoch 161/300\n",
            "4809/4809 [==============================] - 12s 3ms/step - loss: 0.1179 - acc: 0.9595 - val_loss: 2.3893 - val_acc: 0.5795\n",
            "Epoch 162/300\n",
            "4809/4809 [==============================] - 12s 3ms/step - loss: 0.0586 - acc: 0.9825 - val_loss: 2.8543 - val_acc: 0.5290\n",
            "Epoch 163/300\n",
            "4809/4809 [==============================] - 12s 3ms/step - loss: 0.0654 - acc: 0.9800 - val_loss: 4.1860 - val_acc: 0.6545\n",
            "Epoch 164/300\n",
            "4809/4809 [==============================] - 12s 3ms/step - loss: 0.1944 - acc: 0.9457 - val_loss: 1.7805 - val_acc: 0.5966\n",
            "Epoch 165/300\n",
            "4809/4809 [==============================] - 12s 3ms/step - loss: 0.0695 - acc: 0.9900 - val_loss: 1.9399 - val_acc: 0.6003\n",
            "Epoch 166/300\n",
            "4809/4809 [==============================] - 12s 3ms/step - loss: 0.0607 - acc: 0.9913 - val_loss: 2.1517 - val_acc: 0.6137\n",
            "Epoch 167/300\n",
            "4809/4809 [==============================] - 12s 3ms/step - loss: 0.0632 - acc: 0.9886 - val_loss: 2.4080 - val_acc: 0.6040\n",
            "Epoch 168/300\n",
            "4809/4809 [==============================] - 12s 3ms/step - loss: 0.0518 - acc: 0.9946 - val_loss: 2.1680 - val_acc: 0.6070\n",
            "Epoch 169/300\n",
            "4809/4809 [==============================] - 12s 3ms/step - loss: 0.0504 - acc: 0.9923 - val_loss: 2.3231 - val_acc: 0.6055\n",
            "Epoch 170/300\n",
            "4809/4809 [==============================] - 12s 3ms/step - loss: 0.0437 - acc: 0.9960 - val_loss: 2.7598 - val_acc: 0.6308\n",
            "Epoch 171/300\n",
            "4809/4809 [==============================] - 12s 3ms/step - loss: 0.0440 - acc: 0.9938 - val_loss: 2.4812 - val_acc: 0.6166\n",
            "Epoch 172/300\n",
            "4809/4809 [==============================] - 12s 3ms/step - loss: 0.0596 - acc: 0.9854 - val_loss: 2.1210 - val_acc: 0.5892\n",
            "Epoch 173/300\n",
            "4809/4809 [==============================] - 12s 3ms/step - loss: 0.0406 - acc: 0.9938 - val_loss: 2.6841 - val_acc: 0.6114\n",
            "Epoch 174/300\n",
            "4809/4809 [==============================] - 12s 3ms/step - loss: 0.0337 - acc: 0.9971 - val_loss: 2.5997 - val_acc: 0.6122\n",
            "Epoch 175/300\n",
            "4809/4809 [==============================] - 12s 3ms/step - loss: 0.0333 - acc: 0.9967 - val_loss: 2.6182 - val_acc: 0.6174\n",
            "Epoch 176/300\n",
            "4809/4809 [==============================] - 12s 3ms/step - loss: 0.0538 - acc: 0.9881 - val_loss: 2.3967 - val_acc: 0.6114\n",
            "Epoch 177/300\n",
            "4809/4809 [==============================] - 12s 3ms/step - loss: 0.0382 - acc: 0.9950 - val_loss: 2.5505 - val_acc: 0.6122\n",
            "Epoch 178/300\n",
            "4809/4809 [==============================] - 12s 3ms/step - loss: 0.0452 - acc: 0.9898 - val_loss: 2.5148 - val_acc: 0.6062\n",
            "Epoch 179/300\n",
            "4809/4809 [==============================] - 12s 3ms/step - loss: 0.0317 - acc: 0.9956 - val_loss: 2.5764 - val_acc: 0.6226\n",
            "Epoch 180/300\n",
            "4809/4809 [==============================] - 12s 3ms/step - loss: 0.0271 - acc: 0.9971 - val_loss: 2.9754 - val_acc: 0.6248\n",
            "Epoch 181/300\n",
            "4809/4809 [==============================] - 12s 3ms/step - loss: 0.0285 - acc: 0.9963 - val_loss: 2.5615 - val_acc: 0.6055\n",
            "Epoch 182/300\n",
            "4809/4809 [==============================] - 12s 3ms/step - loss: 0.0286 - acc: 0.9946 - val_loss: 2.5504 - val_acc: 0.6033\n",
            "Epoch 183/300\n",
            "4809/4809 [==============================] - 12s 3ms/step - loss: 0.0263 - acc: 0.9960 - val_loss: 2.7072 - val_acc: 0.6204\n",
            "Epoch 184/300\n",
            "4809/4809 [==============================] - 12s 3ms/step - loss: 0.0281 - acc: 0.9950 - val_loss: 2.6164 - val_acc: 0.6152\n",
            "Epoch 185/300\n",
            "4809/4809 [==============================] - 12s 3ms/step - loss: 0.0270 - acc: 0.9963 - val_loss: 3.2831 - val_acc: 0.6300\n",
            "Epoch 186/300\n",
            "4809/4809 [==============================] - 12s 3ms/step - loss: 0.0489 - acc: 0.9877 - val_loss: 2.6319 - val_acc: 0.6033\n",
            "Epoch 187/300\n",
            "4809/4809 [==============================] - 12s 3ms/step - loss: 0.0245 - acc: 0.9979 - val_loss: 2.6568 - val_acc: 0.6040\n",
            "Epoch 188/300\n",
            "4809/4809 [==============================] - 12s 3ms/step - loss: 0.0221 - acc: 0.9967 - val_loss: 2.9596 - val_acc: 0.6196\n",
            "Epoch 189/300\n",
            "4809/4809 [==============================] - 12s 3ms/step - loss: 0.0177 - acc: 0.9983 - val_loss: 2.7339 - val_acc: 0.5929\n",
            "Epoch 190/300\n",
            "4809/4809 [==============================] - 12s 3ms/step - loss: 0.0157 - acc: 0.9969 - val_loss: 3.4899 - val_acc: 0.6211\n",
            "Epoch 191/300\n",
            "4809/4809 [==============================] - 12s 3ms/step - loss: 0.1294 - acc: 0.9597 - val_loss: 2.0653 - val_acc: 0.5468\n",
            "Epoch 192/300\n",
            "4809/4809 [==============================] - 12s 3ms/step - loss: 0.0621 - acc: 0.9844 - val_loss: 2.8528 - val_acc: 0.6248\n",
            "Epoch 193/300\n",
            "4809/4809 [==============================] - 12s 3ms/step - loss: 0.0256 - acc: 0.9981 - val_loss: 2.5295 - val_acc: 0.6100\n",
            "Epoch 194/300\n",
            "4809/4809 [==============================] - 12s 3ms/step - loss: 0.0230 - acc: 0.9985 - val_loss: 2.9923 - val_acc: 0.6196\n",
            "Epoch 195/300\n",
            "4809/4809 [==============================] - 12s 3ms/step - loss: 0.0202 - acc: 0.9985 - val_loss: 2.6994 - val_acc: 0.6137\n",
            "Epoch 196/300\n",
            "4809/4809 [==============================] - 12s 3ms/step - loss: 0.0195 - acc: 0.9981 - val_loss: 3.1332 - val_acc: 0.6300\n",
            "Epoch 197/300\n",
            "4809/4809 [==============================] - 12s 3ms/step - loss: 0.0216 - acc: 0.9975 - val_loss: 2.6672 - val_acc: 0.6092\n",
            "Epoch 198/300\n",
            "4809/4809 [==============================] - 12s 3ms/step - loss: 0.0218 - acc: 0.9969 - val_loss: 2.9027 - val_acc: 0.6166\n",
            "Epoch 199/300\n",
            "4809/4809 [==============================] - 12s 3ms/step - loss: 0.0201 - acc: 0.9971 - val_loss: 2.9881 - val_acc: 0.6114\n",
            "Epoch 200/300\n",
            "4809/4809 [==============================] - 12s 3ms/step - loss: 0.0286 - acc: 0.9927 - val_loss: 2.8242 - val_acc: 0.6085\n",
            "Epoch 201/300\n",
            "4809/4809 [==============================] - 12s 3ms/step - loss: 0.0114 - acc: 0.9983 - val_loss: 3.7633 - val_acc: 0.6100\n",
            "Epoch 202/300\n",
            "4809/4809 [==============================] - 12s 3ms/step - loss: 0.0308 - acc: 0.9919 - val_loss: 3.7236 - val_acc: 0.6077\n",
            "Epoch 203/300\n",
            "4809/4809 [==============================] - 12s 3ms/step - loss: 0.0145 - acc: 0.9971 - val_loss: 3.9168 - val_acc: 0.5884\n",
            "Epoch 204/300\n",
            "4809/4809 [==============================] - 12s 3ms/step - loss: 0.0493 - acc: 0.9869 - val_loss: 3.3357 - val_acc: 0.6196\n",
            "Epoch 205/300\n",
            "4809/4809 [==============================] - 12s 3ms/step - loss: 0.0158 - acc: 0.9967 - val_loss: 3.5954 - val_acc: 0.6122\n",
            "Epoch 206/300\n",
            "4809/4809 [==============================] - 12s 3ms/step - loss: 0.0480 - acc: 0.9886 - val_loss: 2.6433 - val_acc: 0.5869\n",
            "Epoch 207/300\n",
            "4809/4809 [==============================] - 12s 3ms/step - loss: 0.0110 - acc: 0.9994 - val_loss: 3.5773 - val_acc: 0.6025\n",
            "Epoch 208/300\n",
            "4809/4809 [==============================] - 12s 3ms/step - loss: 0.0116 - acc: 0.9979 - val_loss: 3.9398 - val_acc: 0.5966\n",
            "Epoch 209/300\n",
            "4809/4809 [==============================] - 12s 3ms/step - loss: 0.0874 - acc: 0.9726 - val_loss: 2.6323 - val_acc: 0.5944\n",
            "Epoch 210/300\n",
            "4809/4809 [==============================] - 12s 3ms/step - loss: 0.0219 - acc: 0.9946 - val_loss: 3.2681 - val_acc: 0.6293\n",
            "Epoch 211/300\n",
            "4809/4809 [==============================] - 12s 3ms/step - loss: 0.0307 - acc: 0.9915 - val_loss: 3.3437 - val_acc: 0.6159\n",
            "Epoch 212/300\n",
            "4809/4809 [==============================] - 12s 3ms/step - loss: 0.0064 - acc: 0.9998 - val_loss: 3.8124 - val_acc: 0.6040\n",
            "Epoch 213/300\n",
            "4809/4809 [==============================] - 12s 3ms/step - loss: 0.0056 - acc: 0.9990 - val_loss: 4.1034 - val_acc: 0.5899\n",
            "Epoch 214/300\n",
            "4809/4809 [==============================] - 12s 3ms/step - loss: 0.0087 - acc: 0.9983 - val_loss: 4.0418 - val_acc: 0.5869\n",
            "Epoch 215/300\n",
            "4809/4809 [==============================] - 12s 3ms/step - loss: 0.0490 - acc: 0.9867 - val_loss: 2.5904 - val_acc: 0.6114\n",
            "Epoch 216/300\n",
            "4809/4809 [==============================] - 12s 3ms/step - loss: 0.0523 - acc: 0.9863 - val_loss: 2.7696 - val_acc: 0.6040\n",
            "Epoch 217/300\n",
            "4809/4809 [==============================] - 12s 3ms/step - loss: 0.0131 - acc: 0.9979 - val_loss: 3.5766 - val_acc: 0.6040\n",
            "Epoch 218/300\n",
            "4809/4809 [==============================] - 12s 3ms/step - loss: 0.0633 - acc: 0.9811 - val_loss: 2.9932 - val_acc: 0.6100\n",
            "Epoch 219/300\n",
            "4809/4809 [==============================] - 12s 3ms/step - loss: 0.0206 - acc: 0.9985 - val_loss: 2.9181 - val_acc: 0.6129\n",
            "Epoch 220/300\n",
            "4809/4809 [==============================] - 12s 3ms/step - loss: 0.0150 - acc: 0.9996 - val_loss: 2.8072 - val_acc: 0.5981\n",
            "Epoch 221/300\n",
            "4809/4809 [==============================] - 12s 3ms/step - loss: 0.0136 - acc: 0.9992 - val_loss: 3.1433 - val_acc: 0.6211\n",
            "Epoch 222/300\n",
            "4809/4809 [==============================] - 12s 3ms/step - loss: 0.0127 - acc: 0.9992 - val_loss: 3.1788 - val_acc: 0.6181\n",
            "Epoch 223/300\n",
            "4809/4809 [==============================] - 12s 3ms/step - loss: 0.0136 - acc: 0.9985 - val_loss: 3.1748 - val_acc: 0.6062\n",
            "Epoch 224/300\n",
            "4809/4809 [==============================] - 12s 3ms/step - loss: 0.0113 - acc: 0.9994 - val_loss: 3.0047 - val_acc: 0.6055\n",
            "Epoch 225/300\n",
            "4809/4809 [==============================] - 12s 3ms/step - loss: 0.0098 - acc: 0.9994 - val_loss: 3.2120 - val_acc: 0.6137\n",
            "Epoch 226/300\n",
            "4809/4809 [==============================] - 12s 3ms/step - loss: 0.0086 - acc: 0.9990 - val_loss: 3.2621 - val_acc: 0.6048\n",
            "Epoch 227/300\n",
            "4809/4809 [==============================] - 12s 3ms/step - loss: 0.0050 - acc: 0.9998 - val_loss: 3.6739 - val_acc: 0.6107\n",
            "Epoch 228/300\n",
            "4809/4809 [==============================] - 12s 3ms/step - loss: 0.0079 - acc: 0.9977 - val_loss: 4.3240 - val_acc: 0.6018\n",
            "Epoch 229/300\n",
            "4809/4809 [==============================] - 12s 3ms/step - loss: 0.0243 - acc: 0.9923 - val_loss: 3.7153 - val_acc: 0.6137\n",
            "Epoch 230/300\n",
            "4809/4809 [==============================] - 12s 3ms/step - loss: 0.0186 - acc: 0.9950 - val_loss: 3.7136 - val_acc: 0.6033\n",
            "Epoch 231/300\n",
            "4809/4809 [==============================] - 12s 3ms/step - loss: 0.1280 - acc: 0.9696 - val_loss: 2.9110 - val_acc: 0.6100\n",
            "Epoch 232/300\n",
            "4809/4809 [==============================] - 12s 3ms/step - loss: 0.0173 - acc: 0.9988 - val_loss: 2.9328 - val_acc: 0.6122\n",
            "Epoch 233/300\n",
            "4809/4809 [==============================] - 12s 3ms/step - loss: 0.0144 - acc: 0.9992 - val_loss: 3.0650 - val_acc: 0.6070\n",
            "Epoch 234/300\n",
            "4809/4809 [==============================] - 12s 3ms/step - loss: 0.0131 - acc: 0.9990 - val_loss: 3.2398 - val_acc: 0.6181\n",
            "Epoch 235/300\n",
            "4809/4809 [==============================] - 12s 3ms/step - loss: 0.0105 - acc: 0.9996 - val_loss: 3.0112 - val_acc: 0.6048\n",
            "Epoch 236/300\n",
            "4809/4809 [==============================] - 12s 3ms/step - loss: 0.0123 - acc: 0.9988 - val_loss: 3.0038 - val_acc: 0.6048\n",
            "Epoch 237/300\n",
            "4809/4809 [==============================] - 12s 3ms/step - loss: 0.0100 - acc: 0.9990 - val_loss: 3.0884 - val_acc: 0.6077\n",
            "Epoch 238/300\n",
            "4809/4809 [==============================] - 12s 3ms/step - loss: 0.0109 - acc: 0.9988 - val_loss: 3.3481 - val_acc: 0.6241\n",
            "Epoch 239/300\n",
            "4809/4809 [==============================] - 12s 3ms/step - loss: 0.0099 - acc: 0.9996 - val_loss: 3.2407 - val_acc: 0.6144\n",
            "Epoch 240/300\n",
            "4809/4809 [==============================] - 12s 3ms/step - loss: 0.0387 - acc: 0.9894 - val_loss: 3.4029 - val_acc: 0.6293\n",
            "Epoch 241/300\n",
            "4809/4809 [==============================] - 12s 3ms/step - loss: 0.0140 - acc: 0.9981 - val_loss: 3.3534 - val_acc: 0.6285\n",
            "Epoch 242/300\n",
            "4809/4809 [==============================] - 12s 3ms/step - loss: 0.0086 - acc: 0.9998 - val_loss: 3.1702 - val_acc: 0.6107\n",
            "Epoch 243/300\n",
            "4809/4809 [==============================] - 12s 3ms/step - loss: 0.0085 - acc: 0.9998 - val_loss: 3.3114 - val_acc: 0.6166\n",
            "Epoch 244/300\n",
            "4809/4809 [==============================] - 12s 3ms/step - loss: 0.0099 - acc: 0.9985 - val_loss: 3.4582 - val_acc: 0.6270\n",
            "Epoch 245/300\n",
            "4809/4809 [==============================] - 12s 3ms/step - loss: 0.0102 - acc: 0.9988 - val_loss: 3.5088 - val_acc: 0.6241\n",
            "Epoch 246/300\n",
            "4809/4809 [==============================] - 12s 3ms/step - loss: 0.0078 - acc: 0.9996 - val_loss: 3.3442 - val_acc: 0.6256\n",
            "Epoch 247/300\n",
            "4809/4809 [==============================] - 12s 3ms/step - loss: 0.0071 - acc: 0.9994 - val_loss: 3.3322 - val_acc: 0.6345\n",
            "Epoch 248/300\n",
            "4809/4809 [==============================] - 12s 3ms/step - loss: 0.0066 - acc: 1.0000 - val_loss: 3.4045 - val_acc: 0.6330\n",
            "Epoch 249/300\n",
            "4809/4809 [==============================] - 12s 3ms/step - loss: 0.0062 - acc: 0.9998 - val_loss: 3.1982 - val_acc: 0.6040\n",
            "Epoch 250/300\n",
            "4809/4809 [==============================] - 12s 3ms/step - loss: 0.0063 - acc: 0.9996 - val_loss: 3.2985 - val_acc: 0.6040\n",
            "Epoch 251/300\n",
            "4809/4809 [==============================] - 12s 3ms/step - loss: 0.0043 - acc: 0.9998 - val_loss: 3.5545 - val_acc: 0.6189\n",
            "Epoch 252/300\n",
            "4809/4809 [==============================] - 12s 3ms/step - loss: 0.0037 - acc: 0.9998 - val_loss: 3.7353 - val_acc: 0.6233\n",
            "Epoch 253/300\n",
            "4809/4809 [==============================] - 12s 3ms/step - loss: 0.0038 - acc: 0.9992 - val_loss: 4.1623 - val_acc: 0.6033\n",
            "Epoch 254/300\n",
            "4809/4809 [==============================] - 12s 3ms/step - loss: 0.0605 - acc: 0.9888 - val_loss: 3.5915 - val_acc: 0.6211\n",
            "Epoch 255/300\n",
            "4809/4809 [==============================] - 12s 3ms/step - loss: 0.0410 - acc: 0.9879 - val_loss: 3.0454 - val_acc: 0.6010\n",
            "Epoch 256/300\n",
            "4809/4809 [==============================] - 12s 3ms/step - loss: 0.0090 - acc: 0.9996 - val_loss: 3.3529 - val_acc: 0.6308\n",
            "Epoch 257/300\n",
            "4809/4809 [==============================] - 12s 3ms/step - loss: 0.0049 - acc: 0.9994 - val_loss: 3.7063 - val_acc: 0.6181\n",
            "Epoch 258/300\n",
            "4809/4809 [==============================] - 12s 3ms/step - loss: 0.0026 - acc: 0.9998 - val_loss: 4.0111 - val_acc: 0.6159\n",
            "Epoch 259/300\n",
            "4809/4809 [==============================] - 12s 3ms/step - loss: 0.0023 - acc: 1.0000 - val_loss: 4.1870 - val_acc: 0.6189\n",
            "Epoch 260/300\n",
            "4809/4809 [==============================] - 12s 3ms/step - loss: 0.0020 - acc: 1.0000 - val_loss: 4.2622 - val_acc: 0.5973\n",
            "Epoch 261/300\n",
            "4809/4809 [==============================] - 12s 3ms/step - loss: 0.0017 - acc: 1.0000 - val_loss: 4.2353 - val_acc: 0.6211\n",
            "Epoch 262/300\n",
            "4809/4809 [==============================] - 12s 3ms/step - loss: 0.0022 - acc: 0.9998 - val_loss: 4.3157 - val_acc: 0.6181\n",
            "Epoch 263/300\n",
            "4809/4809 [==============================] - 12s 3ms/step - loss: 0.0019 - acc: 1.0000 - val_loss: 4.3366 - val_acc: 0.6144\n",
            "Epoch 264/300\n",
            "4809/4809 [==============================] - 12s 3ms/step - loss: 0.0015 - acc: 1.0000 - val_loss: 4.3962 - val_acc: 0.6107\n",
            "Epoch 265/300\n",
            "4809/4809 [==============================] - 12s 3ms/step - loss: 0.0160 - acc: 0.9942 - val_loss: 3.7766 - val_acc: 0.6137\n",
            "Epoch 266/300\n",
            "4809/4809 [==============================] - 12s 3ms/step - loss: 0.0035 - acc: 0.9998 - val_loss: 4.0308 - val_acc: 0.6159\n",
            "Epoch 267/300\n",
            "4809/4809 [==============================] - 12s 3ms/step - loss: 0.0021 - acc: 0.9998 - val_loss: 4.1371 - val_acc: 0.6189\n",
            "Epoch 268/300\n",
            "4809/4809 [==============================] - 12s 3ms/step - loss: 0.0019 - acc: 0.9998 - val_loss: 4.2423 - val_acc: 0.6144\n",
            "Epoch 269/300\n",
            "4809/4809 [==============================] - 12s 3ms/step - loss: 0.0015 - acc: 1.0000 - val_loss: 4.3366 - val_acc: 0.6166\n",
            "Epoch 270/300\n",
            "4809/4809 [==============================] - 12s 3ms/step - loss: 0.0016 - acc: 1.0000 - val_loss: 4.4384 - val_acc: 0.6048\n",
            "Epoch 271/300\n",
            "4809/4809 [==============================] - 12s 3ms/step - loss: 0.0405 - acc: 0.9892 - val_loss: 3.0039 - val_acc: 0.5929\n",
            "Epoch 272/300\n",
            "4809/4809 [==============================] - 12s 3ms/step - loss: 0.0123 - acc: 0.9981 - val_loss: 3.2567 - val_acc: 0.6100\n",
            "Epoch 273/300\n",
            "4809/4809 [==============================] - 12s 3ms/step - loss: 0.0048 - acc: 0.9998 - val_loss: 3.5955 - val_acc: 0.6122\n",
            "Epoch 274/300\n",
            "4809/4809 [==============================] - 12s 3ms/step - loss: 0.0051 - acc: 0.9988 - val_loss: 3.7358 - val_acc: 0.6107\n",
            "Epoch 275/300\n",
            "4809/4809 [==============================] - 12s 3ms/step - loss: 0.0034 - acc: 0.9998 - val_loss: 3.9788 - val_acc: 0.6107\n",
            "Epoch 276/300\n",
            "4809/4809 [==============================] - 12s 3ms/step - loss: 0.0461 - acc: 0.9886 - val_loss: 3.1580 - val_acc: 0.6174\n",
            "Epoch 277/300\n",
            "4809/4809 [==============================] - 12s 3ms/step - loss: 0.0163 - acc: 0.9960 - val_loss: 3.2693 - val_acc: 0.5951\n",
            "Epoch 278/300\n",
            "4809/4809 [==============================] - 12s 3ms/step - loss: 0.0040 - acc: 1.0000 - val_loss: 3.7257 - val_acc: 0.6048\n",
            "Epoch 279/300\n",
            "4809/4809 [==============================] - 12s 3ms/step - loss: 0.0061 - acc: 0.9996 - val_loss: 3.9848 - val_acc: 0.6077\n",
            "Epoch 280/300\n",
            "4809/4809 [==============================] - 12s 3ms/step - loss: 0.0019 - acc: 1.0000 - val_loss: 4.2431 - val_acc: 0.6048\n",
            "Epoch 281/300\n",
            "4809/4809 [==============================] - 12s 3ms/step - loss: 0.0021 - acc: 1.0000 - val_loss: 4.3026 - val_acc: 0.6122\n",
            "Epoch 282/300\n",
            "4809/4809 [==============================] - 12s 3ms/step - loss: 0.0014 - acc: 1.0000 - val_loss: 4.4066 - val_acc: 0.6100\n",
            "Epoch 283/300\n",
            "4809/4809 [==============================] - 12s 3ms/step - loss: 0.0015 - acc: 1.0000 - val_loss: 4.4908 - val_acc: 0.6122\n",
            "Epoch 284/300\n",
            "4809/4809 [==============================] - 12s 3ms/step - loss: 0.0023 - acc: 0.9998 - val_loss: 4.4972 - val_acc: 0.6048\n",
            "Epoch 285/300\n",
            "4809/4809 [==============================] - 12s 3ms/step - loss: 0.0017 - acc: 0.9996 - val_loss: 4.4800 - val_acc: 0.6077\n",
            "Epoch 286/300\n",
            "4809/4809 [==============================] - 12s 3ms/step - loss: 0.0022 - acc: 0.9998 - val_loss: 4.4791 - val_acc: 0.6114\n",
            "Epoch 287/300\n",
            "4809/4809 [==============================] - 12s 3ms/step - loss: 0.0013 - acc: 1.0000 - val_loss: 4.5721 - val_acc: 0.6085\n",
            "Epoch 288/300\n",
            "4809/4809 [==============================] - 12s 3ms/step - loss: 0.0013 - acc: 1.0000 - val_loss: 4.5916 - val_acc: 0.6092\n",
            "Epoch 289/300\n",
            "4809/4809 [==============================] - 12s 3ms/step - loss: 0.0016 - acc: 1.0000 - val_loss: 4.5045 - val_acc: 0.6129\n",
            "Epoch 290/300\n",
            "4809/4809 [==============================] - 12s 3ms/step - loss: 0.0012 - acc: 1.0000 - val_loss: 4.5549 - val_acc: 0.6107\n",
            "Epoch 291/300\n",
            "4809/4809 [==============================] - 12s 3ms/step - loss: 0.0013 - acc: 1.0000 - val_loss: 4.5865 - val_acc: 0.6122\n",
            "Epoch 292/300\n",
            "4809/4809 [==============================] - 12s 3ms/step - loss: 0.0016 - acc: 0.9998 - val_loss: 4.6638 - val_acc: 0.6048\n",
            "Epoch 293/300\n",
            "4809/4809 [==============================] - 12s 3ms/step - loss: 0.0014 - acc: 1.0000 - val_loss: 4.6246 - val_acc: 0.6100\n",
            "Epoch 294/300\n",
            "4809/4809 [==============================] - 12s 3ms/step - loss: 0.0578 - acc: 0.9861 - val_loss: 2.6071 - val_acc: 0.5684\n",
            "Epoch 295/300\n",
            "4809/4809 [==============================] - 12s 3ms/step - loss: 0.0279 - acc: 0.9931 - val_loss: 2.9845 - val_acc: 0.6218\n",
            "Epoch 296/300\n",
            "4809/4809 [==============================] - 12s 3ms/step - loss: 0.0094 - acc: 0.9998 - val_loss: 2.9844 - val_acc: 0.6174\n",
            "Epoch 297/300\n",
            "4809/4809 [==============================] - 12s 3ms/step - loss: 0.0082 - acc: 0.9998 - val_loss: 3.1067 - val_acc: 0.6085\n",
            "Epoch 298/300\n",
            "4809/4809 [==============================] - 12s 3ms/step - loss: 0.0087 - acc: 0.9994 - val_loss: 3.3086 - val_acc: 0.6233\n",
            "Epoch 299/300\n",
            "4809/4809 [==============================] - 12s 3ms/step - loss: 0.0067 - acc: 0.9996 - val_loss: 3.1079 - val_acc: 0.6055\n",
            "Epoch 300/300\n",
            "4809/4809 [==============================] - 12s 3ms/step - loss: 0.0066 - acc: 0.9998 - val_loss: 3.1559 - val_acc: 0.6100\n"
          ],
          "name": "stdout"
        }
      ]
    },
    {
      "cell_type": "code",
      "metadata": {
        "id": "HzESnX_NPAtx",
        "colab_type": "code",
        "colab": {}
      },
      "source": [
        ""
      ],
      "execution_count": 0,
      "outputs": []
    },
    {
      "cell_type": "code",
      "metadata": {
        "id": "vuk1BYrsJAEv",
        "colab_type": "code",
        "outputId": "2191e463-8f05-44d0-c272-0b5a44ab31bd",
        "colab": {}
      },
      "source": [
        "batch_size=5\n",
        "# prepare data augmentation configuration  . . . do we need this?\n",
        "train_datagen = ImageDataGenerator(\n",
        "        rescale=1./255,\n",
        "        shear_range=0.2,\n",
        "        zoom_range=0.2,\n",
        "        horizontal_flip=True)\n",
        "\n",
        "test_datagen = ImageDataGenerator(rescale=1./255)\n",
        "\n",
        "train_generator = train_datagen.flow_from_directory(\n",
        "        train_data_dir,\n",
        "        target_size=(img_height, img_width),\n",
        "        batch_size=batch_size,\n",
        "        class_mode='binary')\n",
        "\n",
        "validation_generator = test_datagen.flow_from_directory(\n",
        "        validation_data_dir,\n",
        "        target_size=(img_height, img_width),\n",
        "        batch_size=batch_size,\n",
        "        class_mode='binary')"
      ],
      "execution_count": 0,
      "outputs": [
        {
          "output_type": "stream",
          "text": [
            "Found 65 images belonging to 2 classes.\n",
            "Found 10 images belonging to 2 classes.\n"
          ],
          "name": "stdout"
        }
      ]
    },
    {
      "cell_type": "code",
      "metadata": {
        "id": "1_GWarpbJAEx",
        "colab_type": "code",
        "outputId": "92bf668d-5c5e-419b-9cba-a4f14f011d50",
        "colab": {}
      },
      "source": [
        "# fine-tune the model\n",
        "model.fit_generator(\n",
        "    train_generator,\n",
        "    steps_per_epoch=train_samples // batch_size,\n",
        "    epochs=15,\n",
        "    validation_data=validation_generator,\n",
        "    validation_steps=validation_samples // batch_size)"
      ],
      "execution_count": 0,
      "outputs": [
        {
          "output_type": "stream",
          "text": [
            "Epoch 1/15\n",
            "13/13 [==============================] - 15s 1s/step - loss: 0.6780 - acc: 0.6462 - val_loss: 0.9857 - val_acc: 0.5000\n",
            "Epoch 2/15\n",
            "13/13 [==============================] - 3s 219ms/step - loss: 0.5827 - acc: 0.7077 - val_loss: 0.8727 - val_acc: 0.5000\n",
            "Epoch 3/15\n",
            "13/13 [==============================] - 3s 220ms/step - loss: 0.5248 - acc: 0.7538 - val_loss: 1.0671 - val_acc: 0.5000\n",
            "Epoch 4/15\n",
            "13/13 [==============================] - 3s 211ms/step - loss: 0.4175 - acc: 0.8615 - val_loss: 0.7034 - val_acc: 0.6000\n",
            "Epoch 5/15\n",
            "13/13 [==============================] - 3s 212ms/step - loss: 0.4298 - acc: 0.8462 - val_loss: 0.8096 - val_acc: 0.5000\n",
            "Epoch 6/15\n",
            "13/13 [==============================] - 3s 213ms/step - loss: 0.4825 - acc: 0.8000 - val_loss: 0.4993 - val_acc: 0.7000\n",
            "Epoch 7/15\n",
            "13/13 [==============================] - 3s 212ms/step - loss: 0.4284 - acc: 0.8615 - val_loss: 0.7543 - val_acc: 0.6000\n",
            "Epoch 8/15\n",
            "13/13 [==============================] - 3s 212ms/step - loss: 0.4197 - acc: 0.8154 - val_loss: 0.7259 - val_acc: 0.6000\n",
            "Epoch 9/15\n",
            "13/13 [==============================] - 3s 215ms/step - loss: 0.3696 - acc: 0.8000 - val_loss: 0.8428 - val_acc: 0.5000\n",
            "Epoch 10/15\n",
            "13/13 [==============================] - 3s 216ms/step - loss: 0.4582 - acc: 0.8000 - val_loss: 1.1376 - val_acc: 0.5000\n",
            "Epoch 11/15\n",
            "13/13 [==============================] - 3s 224ms/step - loss: 0.2745 - acc: 0.9077 - val_loss: 1.4454 - val_acc: 0.5000\n",
            "Epoch 12/15\n",
            "13/13 [==============================] - 3s 219ms/step - loss: 0.4227 - acc: 0.8769 - val_loss: 1.2953 - val_acc: 0.5000\n",
            "Epoch 13/15\n",
            "13/13 [==============================] - 3s 217ms/step - loss: 0.2775 - acc: 0.8923 - val_loss: 0.8975 - val_acc: 0.5000\n",
            "Epoch 14/15\n",
            "13/13 [==============================] - 3s 221ms/step - loss: 0.2652 - acc: 0.9077 - val_loss: 1.2739 - val_acc: 0.5000\n",
            "Epoch 15/15\n",
            "13/13 [==============================] - 3s 248ms/step - loss: 0.2288 - acc: 0.9231 - val_loss: 1.1344 - val_acc: 0.5000\n"
          ],
          "name": "stdout"
        },
        {
          "output_type": "execute_result",
          "data": {
            "text/plain": [
              "<keras.callbacks.History at 0xb2720ef60>"
            ]
          },
          "metadata": {
            "tags": []
          },
          "execution_count": 10
        }
      ]
    },
    {
      "cell_type": "code",
      "metadata": {
        "id": "u0FV42AcJAEy",
        "colab_type": "code",
        "outputId": "da394ce0-830e-46b7-da25-47cbbe48eb31",
        "colab": {}
      },
      "source": [
        "for i, layer in enumerate(model_v3.layers):\n",
        "    print(i, layer.name)"
      ],
      "execution_count": 0,
      "outputs": [
        {
          "output_type": "stream",
          "text": [
            "0 input_1\n",
            "1 conv2d_1\n",
            "2 batch_normalization_1\n",
            "3 activation_1\n",
            "4 conv2d_2\n",
            "5 batch_normalization_2\n",
            "6 activation_2\n",
            "7 conv2d_3\n",
            "8 batch_normalization_3\n",
            "9 activation_3\n",
            "10 max_pooling2d_1\n",
            "11 conv2d_4\n",
            "12 batch_normalization_4\n",
            "13 activation_4\n",
            "14 conv2d_5\n",
            "15 batch_normalization_5\n",
            "16 activation_5\n",
            "17 max_pooling2d_2\n",
            "18 conv2d_9\n",
            "19 batch_normalization_9\n",
            "20 activation_9\n",
            "21 conv2d_7\n",
            "22 conv2d_10\n",
            "23 batch_normalization_7\n",
            "24 batch_normalization_10\n",
            "25 activation_7\n",
            "26 activation_10\n",
            "27 average_pooling2d_1\n",
            "28 conv2d_6\n",
            "29 conv2d_8\n",
            "30 conv2d_11\n",
            "31 conv2d_12\n",
            "32 batch_normalization_6\n",
            "33 batch_normalization_8\n",
            "34 batch_normalization_11\n",
            "35 batch_normalization_12\n",
            "36 activation_6\n",
            "37 activation_8\n",
            "38 activation_11\n",
            "39 activation_12\n",
            "40 mixed0\n",
            "41 conv2d_16\n",
            "42 batch_normalization_16\n",
            "43 activation_16\n",
            "44 conv2d_14\n",
            "45 conv2d_17\n",
            "46 batch_normalization_14\n",
            "47 batch_normalization_17\n",
            "48 activation_14\n",
            "49 activation_17\n",
            "50 average_pooling2d_2\n",
            "51 conv2d_13\n",
            "52 conv2d_15\n",
            "53 conv2d_18\n",
            "54 conv2d_19\n",
            "55 batch_normalization_13\n",
            "56 batch_normalization_15\n",
            "57 batch_normalization_18\n",
            "58 batch_normalization_19\n",
            "59 activation_13\n",
            "60 activation_15\n",
            "61 activation_18\n",
            "62 activation_19\n",
            "63 mixed1\n",
            "64 conv2d_23\n",
            "65 batch_normalization_23\n",
            "66 activation_23\n",
            "67 conv2d_21\n",
            "68 conv2d_24\n",
            "69 batch_normalization_21\n",
            "70 batch_normalization_24\n",
            "71 activation_21\n",
            "72 activation_24\n",
            "73 average_pooling2d_3\n",
            "74 conv2d_20\n",
            "75 conv2d_22\n",
            "76 conv2d_25\n",
            "77 conv2d_26\n",
            "78 batch_normalization_20\n",
            "79 batch_normalization_22\n",
            "80 batch_normalization_25\n",
            "81 batch_normalization_26\n",
            "82 activation_20\n",
            "83 activation_22\n",
            "84 activation_25\n",
            "85 activation_26\n",
            "86 mixed2\n",
            "87 conv2d_28\n",
            "88 batch_normalization_28\n",
            "89 activation_28\n",
            "90 conv2d_29\n",
            "91 batch_normalization_29\n",
            "92 activation_29\n",
            "93 conv2d_27\n",
            "94 conv2d_30\n",
            "95 batch_normalization_27\n",
            "96 batch_normalization_30\n",
            "97 activation_27\n",
            "98 activation_30\n",
            "99 max_pooling2d_3\n",
            "100 mixed3\n",
            "101 conv2d_35\n",
            "102 batch_normalization_35\n",
            "103 activation_35\n",
            "104 conv2d_36\n",
            "105 batch_normalization_36\n",
            "106 activation_36\n",
            "107 conv2d_32\n",
            "108 conv2d_37\n",
            "109 batch_normalization_32\n",
            "110 batch_normalization_37\n",
            "111 activation_32\n",
            "112 activation_37\n",
            "113 conv2d_33\n",
            "114 conv2d_38\n",
            "115 batch_normalization_33\n",
            "116 batch_normalization_38\n",
            "117 activation_33\n",
            "118 activation_38\n",
            "119 average_pooling2d_4\n",
            "120 conv2d_31\n",
            "121 conv2d_34\n",
            "122 conv2d_39\n",
            "123 conv2d_40\n",
            "124 batch_normalization_31\n",
            "125 batch_normalization_34\n",
            "126 batch_normalization_39\n",
            "127 batch_normalization_40\n",
            "128 activation_31\n",
            "129 activation_34\n",
            "130 activation_39\n",
            "131 activation_40\n",
            "132 mixed4\n",
            "133 conv2d_45\n",
            "134 batch_normalization_45\n",
            "135 activation_45\n",
            "136 conv2d_46\n",
            "137 batch_normalization_46\n",
            "138 activation_46\n",
            "139 conv2d_42\n",
            "140 conv2d_47\n",
            "141 batch_normalization_42\n",
            "142 batch_normalization_47\n",
            "143 activation_42\n",
            "144 activation_47\n",
            "145 conv2d_43\n",
            "146 conv2d_48\n",
            "147 batch_normalization_43\n",
            "148 batch_normalization_48\n",
            "149 activation_43\n",
            "150 activation_48\n",
            "151 average_pooling2d_5\n",
            "152 conv2d_41\n",
            "153 conv2d_44\n",
            "154 conv2d_49\n",
            "155 conv2d_50\n",
            "156 batch_normalization_41\n",
            "157 batch_normalization_44\n",
            "158 batch_normalization_49\n",
            "159 batch_normalization_50\n",
            "160 activation_41\n",
            "161 activation_44\n",
            "162 activation_49\n",
            "163 activation_50\n",
            "164 mixed5\n",
            "165 conv2d_55\n",
            "166 batch_normalization_55\n",
            "167 activation_55\n",
            "168 conv2d_56\n",
            "169 batch_normalization_56\n",
            "170 activation_56\n",
            "171 conv2d_52\n",
            "172 conv2d_57\n",
            "173 batch_normalization_52\n",
            "174 batch_normalization_57\n",
            "175 activation_52\n",
            "176 activation_57\n",
            "177 conv2d_53\n",
            "178 conv2d_58\n",
            "179 batch_normalization_53\n",
            "180 batch_normalization_58\n",
            "181 activation_53\n",
            "182 activation_58\n",
            "183 average_pooling2d_6\n",
            "184 conv2d_51\n",
            "185 conv2d_54\n",
            "186 conv2d_59\n",
            "187 conv2d_60\n",
            "188 batch_normalization_51\n",
            "189 batch_normalization_54\n",
            "190 batch_normalization_59\n",
            "191 batch_normalization_60\n",
            "192 activation_51\n",
            "193 activation_54\n",
            "194 activation_59\n",
            "195 activation_60\n",
            "196 mixed6\n",
            "197 conv2d_65\n",
            "198 batch_normalization_65\n",
            "199 activation_65\n",
            "200 conv2d_66\n",
            "201 batch_normalization_66\n",
            "202 activation_66\n",
            "203 conv2d_62\n",
            "204 conv2d_67\n",
            "205 batch_normalization_62\n",
            "206 batch_normalization_67\n",
            "207 activation_62\n",
            "208 activation_67\n",
            "209 conv2d_63\n",
            "210 conv2d_68\n",
            "211 batch_normalization_63\n",
            "212 batch_normalization_68\n",
            "213 activation_63\n",
            "214 activation_68\n",
            "215 average_pooling2d_7\n",
            "216 conv2d_61\n",
            "217 conv2d_64\n",
            "218 conv2d_69\n",
            "219 conv2d_70\n",
            "220 batch_normalization_61\n",
            "221 batch_normalization_64\n",
            "222 batch_normalization_69\n",
            "223 batch_normalization_70\n",
            "224 activation_61\n",
            "225 activation_64\n",
            "226 activation_69\n",
            "227 activation_70\n",
            "228 mixed7\n",
            "229 conv2d_73\n",
            "230 batch_normalization_73\n",
            "231 activation_73\n",
            "232 conv2d_74\n",
            "233 batch_normalization_74\n",
            "234 activation_74\n",
            "235 conv2d_71\n",
            "236 conv2d_75\n",
            "237 batch_normalization_71\n",
            "238 batch_normalization_75\n",
            "239 activation_71\n",
            "240 activation_75\n",
            "241 conv2d_72\n",
            "242 conv2d_76\n",
            "243 batch_normalization_72\n",
            "244 batch_normalization_76\n",
            "245 activation_72\n",
            "246 activation_76\n",
            "247 max_pooling2d_4\n",
            "248 mixed8\n",
            "249 conv2d_81\n",
            "250 batch_normalization_81\n",
            "251 activation_81\n",
            "252 conv2d_78\n",
            "253 conv2d_82\n",
            "254 batch_normalization_78\n",
            "255 batch_normalization_82\n",
            "256 activation_78\n",
            "257 activation_82\n",
            "258 conv2d_79\n",
            "259 conv2d_80\n",
            "260 conv2d_83\n",
            "261 conv2d_84\n",
            "262 average_pooling2d_8\n",
            "263 conv2d_77\n",
            "264 batch_normalization_79\n",
            "265 batch_normalization_80\n",
            "266 batch_normalization_83\n",
            "267 batch_normalization_84\n",
            "268 conv2d_85\n",
            "269 batch_normalization_77\n",
            "270 activation_79\n",
            "271 activation_80\n",
            "272 activation_83\n",
            "273 activation_84\n",
            "274 batch_normalization_85\n",
            "275 activation_77\n",
            "276 mixed9_0\n",
            "277 concatenate_1\n",
            "278 activation_85\n",
            "279 mixed9\n",
            "280 conv2d_90\n",
            "281 batch_normalization_90\n",
            "282 activation_90\n",
            "283 conv2d_87\n",
            "284 conv2d_91\n",
            "285 batch_normalization_87\n",
            "286 batch_normalization_91\n",
            "287 activation_87\n",
            "288 activation_91\n",
            "289 conv2d_88\n",
            "290 conv2d_89\n",
            "291 conv2d_92\n",
            "292 conv2d_93\n",
            "293 average_pooling2d_9\n",
            "294 conv2d_86\n",
            "295 batch_normalization_88\n",
            "296 batch_normalization_89\n",
            "297 batch_normalization_92\n",
            "298 batch_normalization_93\n",
            "299 conv2d_94\n",
            "300 batch_normalization_86\n",
            "301 activation_88\n",
            "302 activation_89\n",
            "303 activation_92\n",
            "304 activation_93\n",
            "305 batch_normalization_94\n",
            "306 activation_86\n",
            "307 mixed9_1\n",
            "308 concatenate_2\n",
            "309 activation_94\n",
            "310 mixed10\n"
          ],
          "name": "stdout"
        }
      ]
    },
    {
      "cell_type": "code",
      "metadata": {
        "id": "fT6JNlLVJAE1",
        "colab_type": "code",
        "colab": {}
      },
      "source": [
        "for layer in model.layers[:249]:\n",
        "    layer.trainable = False\n",
        "for layer in model.layers[249:]:\n",
        "    layer.trainable = True"
      ],
      "execution_count": 0,
      "outputs": []
    },
    {
      "cell_type": "code",
      "metadata": {
        "id": "LySfZPS8JAE2",
        "colab_type": "code",
        "colab": {}
      },
      "source": [
        "from keras.optimizers import SGD\n",
        "model.compile(optimizer=SGD(lr=0.0001, momentum=0.9), loss='binary_crossentropy',metrics=['accuracy'])"
      ],
      "execution_count": 0,
      "outputs": []
    },
    {
      "cell_type": "code",
      "metadata": {
        "id": "rT4LphghJAE5",
        "colab_type": "code",
        "outputId": "f87a5aa2-e48f-4912-bd42-b57d23d279b0",
        "colab": {}
      },
      "source": [
        "model.fit_generator(train_generator,\n",
        "    steps_per_epoch=train_samples // batch_size,\n",
        "    epochs=15,\n",
        "    validation_data=validation_generator,\n",
        "    validation_steps=validation_samples // batch_size)"
      ],
      "execution_count": 0,
      "outputs": [
        {
          "output_type": "stream",
          "text": [
            "Epoch 1/15\n",
            "13/13 [==============================] - 20s 2s/step - loss: 0.3586 - acc: 0.8462 - val_loss: 0.3201 - val_acc: 0.9000\n",
            "Epoch 2/15\n",
            "13/13 [==============================] - 4s 296ms/step - loss: 0.2870 - acc: 0.8769 - val_loss: 0.2570 - val_acc: 0.9000\n",
            "Epoch 3/15\n",
            "13/13 [==============================] - 4s 295ms/step - loss: 0.2343 - acc: 0.9538 - val_loss: 0.4785 - val_acc: 0.7000\n",
            "Epoch 4/15\n",
            "13/13 [==============================] - 4s 295ms/step - loss: 0.1493 - acc: 1.0000 - val_loss: 0.3594 - val_acc: 0.8000\n",
            "Epoch 5/15\n",
            "13/13 [==============================] - 4s 303ms/step - loss: 0.3103 - acc: 0.9077 - val_loss: 0.4878 - val_acc: 0.7000\n",
            "Epoch 6/15\n",
            "13/13 [==============================] - 4s 308ms/step - loss: 0.1814 - acc: 0.9538 - val_loss: 0.2861 - val_acc: 0.9000\n",
            "Epoch 7/15\n",
            "13/13 [==============================] - 4s 313ms/step - loss: 0.2428 - acc: 0.9077 - val_loss: 0.3010 - val_acc: 0.8000\n",
            "Epoch 8/15\n",
            "13/13 [==============================] - 4s 328ms/step - loss: 0.3597 - acc: 0.8923 - val_loss: 0.4252 - val_acc: 0.8000\n",
            "Epoch 9/15\n",
            "13/13 [==============================] - 4s 314ms/step - loss: 0.3290 - acc: 0.8462 - val_loss: 0.4314 - val_acc: 0.7000\n",
            "Epoch 10/15\n",
            "13/13 [==============================] - 4s 320ms/step - loss: 0.2718 - acc: 0.8923 - val_loss: 0.2478 - val_acc: 0.9000\n",
            "Epoch 11/15\n",
            "13/13 [==============================] - 4s 319ms/step - loss: 0.2319 - acc: 0.8923 - val_loss: 0.4928 - val_acc: 0.8000\n",
            "Epoch 12/15\n",
            "13/13 [==============================] - 4s 322ms/step - loss: 0.2656 - acc: 0.9231 - val_loss: 0.6266 - val_acc: 0.7000\n",
            "Epoch 13/15\n",
            "13/13 [==============================] - 4s 346ms/step - loss: 0.3549 - acc: 0.8462 - val_loss: 0.2696 - val_acc: 0.9000\n",
            "Epoch 14/15\n",
            "13/13 [==============================] - 4s 341ms/step - loss: 0.2751 - acc: 0.8615 - val_loss: 0.3961 - val_acc: 0.8000\n",
            "Epoch 15/15\n",
            "13/13 [==============================] - 4s 341ms/step - loss: 0.2004 - acc: 0.9538 - val_loss: 0.5810 - val_acc: 0.7000\n"
          ],
          "name": "stdout"
        },
        {
          "output_type": "execute_result",
          "data": {
            "text/plain": [
              "<keras.callbacks.History at 0xb2d9a1828>"
            ]
          },
          "metadata": {
            "tags": []
          },
          "execution_count": 14
        }
      ]
    },
    {
      "cell_type": "code",
      "metadata": {
        "id": "EAmEqe-OJAE7",
        "colab_type": "code",
        "colab": {}
      },
      "source": [
        "model.save_weights('models/finetuning_30epochs_vgg.h5')"
      ],
      "execution_count": 0,
      "outputs": []
    },
    {
      "cell_type": "code",
      "metadata": {
        "id": "-Qg3XYQPJAE8",
        "colab_type": "code",
        "colab": {}
      },
      "source": [
        "model.load_weights('models/finetuning_30epochs_vgg.h5')"
      ],
      "execution_count": 0,
      "outputs": []
    },
    {
      "cell_type": "markdown",
      "metadata": {
        "id": "mMURHESwJAE_",
        "colab_type": "text"
      },
      "source": [
        "### Evaluating on validation set"
      ]
    },
    {
      "cell_type": "markdown",
      "metadata": {
        "id": "835Wsvh8JAFA",
        "colab_type": "text"
      },
      "source": [
        "Computing loss and accuracy :"
      ]
    },
    {
      "cell_type": "code",
      "metadata": {
        "id": "9qAkuFBqJAFA",
        "colab_type": "code",
        "outputId": "1aedcb34-cd80-44e9-b8ac-aa977d23191d",
        "colab": {}
      },
      "source": [
        "model.evaluate_generator(validation_generator, validation_samples)"
      ],
      "execution_count": 0,
      "outputs": [
        {
          "output_type": "execute_result",
          "data": {
            "text/plain": [
              "[0.33350689638357905, 0.93280498798076927]"
            ]
          },
          "metadata": {
            "tags": []
          },
          "execution_count": 37
        }
      ]
    }
  ]
}